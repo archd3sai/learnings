{
 "cells": [
  {
   "cell_type": "markdown",
   "id": "2b5c0e08-103e-41a6-9cf8-92ed9c75652e",
   "metadata": {},
   "source": [
    "## Building GPT"
   ]
  },
  {
   "cell_type": "markdown",
   "id": "a1ace112-14ff-4d5a-a1cd-7cd6c2c11f66",
   "metadata": {},
   "source": [
    "### file"
   ]
  },
  {
   "cell_type": "code",
   "execution_count": 6,
   "id": "22d89c7a-160b-430a-ae25-6901a508975f",
   "metadata": {},
   "outputs": [],
   "source": [
    "import requests\n",
    "\n",
    "# Replace this URL with the URL of your raw GitHub text file\n",
    "file =  \"https://raw.githubusercontent.com/karpathy/char-rnn/master/data/tinyshakespeare/input.txt\"\n",
    "\n",
    "# Fetch the content of the text file\n",
    "response = requests.get(url)\n",
    "\n",
    "if response.status_code == 200:\n",
    "    # Display the content of the file\n",
    "    content = response.text\n",
    "else:\n",
    "    print('Failed to retrieve the file')"
   ]
  },
  {
   "cell_type": "code",
   "execution_count": 7,
   "id": "eb8127f5-6eaf-4594-8ff9-a8e610b8b947",
   "metadata": {},
   "outputs": [
    {
     "data": {
      "text/plain": [
       "1115394"
      ]
     },
     "execution_count": 7,
     "metadata": {},
     "output_type": "execute_result"
    }
   ],
   "source": [
    "len(content)"
   ]
  },
  {
   "cell_type": "code",
   "execution_count": 9,
   "id": "39875bae-9d3b-4bcb-a91d-5521a3ae5898",
   "metadata": {},
   "outputs": [
    {
     "name": "stdout",
     "output_type": "stream",
     "text": [
      "First Citizen:\n",
      "Before we proceed any further, hear me speak.\n",
      "\n",
      "All:\n",
      "Speak, speak.\n",
      "\n",
      "First Citizen:\n",
      "You are all resolved rather to die than to famish?\n",
      "\n",
      "All:\n",
      "Resolved. resolved.\n",
      "\n",
      "First Citizen:\n",
      "First, you know Caius Marcius is chief enemy to the people.\n",
      "\n",
      "All:\n",
      "We know't, we know't.\n",
      "\n",
      "First Citizen:\n",
      "Let us kill him, and we'll have corn at our own price.\n",
      "Is't a verdict?\n",
      "\n",
      "All:\n",
      "No more talking on't; let it be done: away, away!\n",
      "\n",
      "Second Citizen:\n",
      "One word, good citizens.\n",
      "\n",
      "First Citizen:\n",
      "We are accounted poor citizens, the patricians good.\n",
      "What authority surfeits on would relieve us: if they\n",
      "would yield us but the superfluity, while it were\n",
      "wholesome, we might guess they relieved us humanely;\n",
      "but they think we are too dear: the leanness that\n",
      "afflicts us, the object of our misery, is as an\n",
      "inventory to particularise their abundance; our\n",
      "sufferance is a gain to them Let us revenge this with\n",
      "our pikes, ere we become rakes: for the gods know I\n",
      "speak this in hunger for bread, not in thirst for revenge.\n",
      "\n",
      "\n"
     ]
    }
   ],
   "source": [
    "print(content[:1000])"
   ]
  },
  {
   "cell_type": "markdown",
   "id": "9e06e0a2-d58f-4b7c-8dee-dd0de69aec25",
   "metadata": {},
   "source": [
    "### vocab"
   ]
  },
  {
   "cell_type": "code",
   "execution_count": 10,
   "id": "41a278b7-2385-4a66-855e-0d4b373fa5fd",
   "metadata": {},
   "outputs": [],
   "source": [
    "chars = sorted(list(set(content)))"
   ]
  },
  {
   "cell_type": "code",
   "execution_count": 12,
   "id": "bcf42ed5-b2a7-456d-adff-06dba6e9daed",
   "metadata": {},
   "outputs": [
    {
     "name": "stdout",
     "output_type": "stream",
     "text": [
      "['\\n', ' ', '!', '$', '&', \"'\", ',', '-', '.', '3', ':', ';', '?', 'A', 'B', 'C', 'D', 'E', 'F', 'G', 'H', 'I', 'J', 'K', 'L', 'M', 'N', 'O', 'P', 'Q', 'R', 'S', 'T', 'U', 'V', 'W', 'X', 'Y', 'Z', 'a', 'b', 'c', 'd', 'e', 'f', 'g', 'h', 'i', 'j', 'k', 'l', 'm', 'n', 'o', 'p', 'q', 'r', 's', 't', 'u', 'v', 'w', 'x', 'y', 'z']\n"
     ]
    }
   ],
   "source": [
    "print(chars)"
   ]
  },
  {
   "cell_type": "code",
   "execution_count": 13,
   "id": "15970ae2-91b1-4d52-a7ca-16b8cfcbc020",
   "metadata": {},
   "outputs": [
    {
     "data": {
      "text/plain": [
       "65"
      ]
     },
     "execution_count": 13,
     "metadata": {},
     "output_type": "execute_result"
    }
   ],
   "source": [
    "vocab_size = len(chars)\n",
    "vocab_size"
   ]
  },
  {
   "cell_type": "code",
   "execution_count": 14,
   "id": "b300f116-d034-4a86-8616-ae930b865a4c",
   "metadata": {},
   "outputs": [
    {
     "name": "stdout",
     "output_type": "stream",
     "text": [
      "[46, 47, 47, 1, 58, 46, 43, 56, 43]\n",
      "hii there\n"
     ]
    }
   ],
   "source": [
    "# create a mapping from characters to integers\n",
    "stoi = { ch:i for i,ch in enumerate(chars) }\n",
    "itos = { i:ch for i,ch in enumerate(chars) }\n",
    "encode = lambda s: [stoi[c] for c in s] # encoder: take a string, output a list of integers\n",
    "decode = lambda l: ''.join([itos[i] for i in l]) # decoder: take a list of integers, output a string\n",
    "\n",
    "print(encode(\"hii there\"))\n",
    "print(decode(encode(\"hii there\")))"
   ]
  },
  {
   "cell_type": "code",
   "execution_count": 16,
   "id": "34c33cd5-ae8f-4412-a2a1-dd4a408e35b8",
   "metadata": {},
   "outputs": [
    {
     "data": {
      "text/plain": [
       "(function, function)"
      ]
     },
     "execution_count": 16,
     "metadata": {},
     "output_type": "execute_result"
    }
   ],
   "source": [
    "type(encode), type(decode)"
   ]
  },
  {
   "cell_type": "code",
   "execution_count": 18,
   "id": "0e21383b-e4c5-48c5-bf7f-e3a68218a011",
   "metadata": {},
   "outputs": [
    {
     "data": {
      "text/plain": [
       "('h', 'i')"
      ]
     },
     "execution_count": 18,
     "metadata": {},
     "output_type": "execute_result"
    }
   ],
   "source": [
    "chars[46], chars[47]"
   ]
  },
  {
   "cell_type": "code",
   "execution_count": 20,
   "id": "d15ff8d8-0de4-4951-afab-9a4070cdaf5f",
   "metadata": {},
   "outputs": [
    {
     "name": "stdout",
     "output_type": "stream",
     "text": [
      "{'\\n': 0, ' ': 1, '!': 2, '$': 3, '&': 4, \"'\": 5, ',': 6, '-': 7, '.': 8, '3': 9, ':': 10, ';': 11, '?': 12, 'A': 13, 'B': 14, 'C': 15, 'D': 16, 'E': 17, 'F': 18, 'G': 19, 'H': 20, 'I': 21, 'J': 22, 'K': 23, 'L': 24, 'M': 25, 'N': 26, 'O': 27, 'P': 28, 'Q': 29, 'R': 30, 'S': 31, 'T': 32, 'U': 33, 'V': 34, 'W': 35, 'X': 36, 'Y': 37, 'Z': 38, 'a': 39, 'b': 40, 'c': 41, 'd': 42, 'e': 43, 'f': 44, 'g': 45, 'h': 46, 'i': 47, 'j': 48, 'k': 49, 'l': 50, 'm': 51, 'n': 52, 'o': 53, 'p': 54, 'q': 55, 'r': 56, 's': 57, 't': 58, 'u': 59, 'v': 60, 'w': 61, 'x': 62, 'y': 63, 'z': 64}\n"
     ]
    }
   ],
   "source": [
    "print(stoi)"
   ]
  },
  {
   "cell_type": "markdown",
   "id": "4e3f8817-b0ce-43d6-a06f-71b83d907ec4",
   "metadata": {},
   "source": [
    "### encoding"
   ]
  },
  {
   "cell_type": "code",
   "execution_count": 29,
   "id": "5be36fe3-ba2e-46f4-8a3b-513b9260abc1",
   "metadata": {},
   "outputs": [],
   "source": [
    "import torch\n",
    "data = torch.tensor(encode(content), dtype=torch.long)"
   ]
  },
  {
   "cell_type": "code",
   "execution_count": 30,
   "id": "2c2092d2-4f41-4697-8da8-882b71e4dc3d",
   "metadata": {},
   "outputs": [
    {
     "data": {
      "text/plain": [
       "(torch.Size([1115394]), torch.int64)"
      ]
     },
     "execution_count": 30,
     "metadata": {},
     "output_type": "execute_result"
    }
   ],
   "source": [
    "data.shape, data.dtype"
   ]
  },
  {
   "cell_type": "code",
   "execution_count": 31,
   "id": "1f0bab6b-e748-4c0d-b25c-7dbe60c26d0b",
   "metadata": {},
   "outputs": [
    {
     "data": {
      "text/plain": [
       "tensor([18, 47, 56, 57, 58,  1, 15, 47, 58, 47, 64, 43, 52, 10,  0, 14, 43, 44,\n",
       "        53, 56, 43,  1, 61, 43,  1, 54, 56, 53, 41, 43, 43, 42,  1, 39, 52, 63,\n",
       "         1, 44, 59, 56, 58, 46, 43, 56,  6,  1, 46, 43, 39, 56,  1, 51, 43,  1,\n",
       "        57, 54, 43, 39, 49,  8,  0,  0, 13, 50, 50, 10,  0, 31, 54, 43, 39, 49,\n",
       "         6,  1, 57, 54, 43, 39, 49,  8,  0,  0, 18, 47, 56, 57, 58,  1, 15, 47,\n",
       "        58, 47, 64, 43, 52, 10,  0, 37, 53, 59])"
      ]
     },
     "execution_count": 31,
     "metadata": {},
     "output_type": "execute_result"
    }
   ],
   "source": [
    "data[0:100]"
   ]
  },
  {
   "cell_type": "markdown",
   "id": "9b197210-3de2-44b8-9869-4fef6c77ccf1",
   "metadata": {},
   "source": [
    "### training"
   ]
  },
  {
   "cell_type": "code",
   "execution_count": 32,
   "id": "44889cd6-d033-417a-8c66-914d4cf753da",
   "metadata": {},
   "outputs": [],
   "source": [
    "n = int(0.9*len(data))\n",
    "train = data[:n]\n",
    "test = data[n:]"
   ]
  },
  {
   "cell_type": "code",
   "execution_count": 34,
   "id": "c6998b85-d407-438b-a70c-aac6da9776cb",
   "metadata": {},
   "outputs": [
    {
     "data": {
      "text/plain": [
       "tensor([18, 47, 56, 57, 58,  1, 15, 47, 58])"
      ]
     },
     "execution_count": 34,
     "metadata": {},
     "output_type": "execute_result"
    }
   ],
   "source": [
    "# length 8 chars at a time\n",
    "block_size = 8\n",
    "train[:block_size+1]"
   ]
  },
  {
   "cell_type": "code",
   "execution_count": 35,
   "id": "a6ee41ea-a9f0-427d-8188-86c6b12e3f65",
   "metadata": {},
   "outputs": [
    {
     "name": "stdout",
     "output_type": "stream",
     "text": [
      "when input is tensor([18]) the target: 47\n",
      "when input is tensor([18, 47]) the target: 56\n",
      "when input is tensor([18, 47, 56]) the target: 57\n",
      "when input is tensor([18, 47, 56, 57]) the target: 58\n",
      "when input is tensor([18, 47, 56, 57, 58]) the target: 1\n",
      "when input is tensor([18, 47, 56, 57, 58,  1]) the target: 15\n",
      "when input is tensor([18, 47, 56, 57, 58,  1, 15]) the target: 47\n",
      "when input is tensor([18, 47, 56, 57, 58,  1, 15, 47]) the target: 58\n"
     ]
    }
   ],
   "source": [
    "x = train[:block_size]\n",
    "y = train[1:block_size+1]\n",
    "for t in range(block_size):\n",
    "    context = x[:t+1]\n",
    "    target = y[t]\n",
    "    print(f\"when input is {context} the target: {target}\")"
   ]
  },
  {
   "cell_type": "code",
   "execution_count": 36,
   "id": "4561f7fb-9c54-4aae-b86b-697a014310f8",
   "metadata": {},
   "outputs": [],
   "source": [
    "torch.manual_seed(1337)\n",
    "batch_size = 4 # how many independent sequences will we process in parallel?\n",
    "block_size = 8 # what is the maximum context length for predictions?"
   ]
  },
  {
   "cell_type": "code",
   "execution_count": 75,
   "id": "6a9cd303-4053-4159-ae04-3d3937d786c7",
   "metadata": {},
   "outputs": [],
   "source": [
    "def get_batch(split):\n",
    "    # generate a small batch of data of inputs x and targets y\n",
    "    data = train if split == 'train' else test\n",
    "    ix = torch.randint(len(data) - block_size, (batch_size,))\n",
    "    #print('ix', ix)\n",
    "    x = torch.stack([data[i:i+block_size] for i in ix])\n",
    "    y = torch.stack([data[i+1:i+block_size+1] for i in ix])\n",
    "    return x, y"
   ]
  },
  {
   "cell_type": "code",
   "execution_count": 40,
   "id": "fd2387c5-de1e-48f8-ab42-fe85f5010e4f",
   "metadata": {},
   "outputs": [
    {
     "name": "stdout",
     "output_type": "stream",
     "text": [
      "ix tensor([ 76049, 234249, 934904, 560986])\n"
     ]
    }
   ],
   "source": [
    "xb, yb = get_batch('train')\n"
   ]
  },
  {
   "cell_type": "code",
   "execution_count": 41,
   "id": "ee89642c-21fa-4b98-8ef6-20e94a892bb4",
   "metadata": {},
   "outputs": [
    {
     "data": {
      "text/plain": [
       "tensor([[24, 43, 58,  5, 57,  1, 46, 43],\n",
       "        [44, 53, 56,  1, 58, 46, 39, 58],\n",
       "        [52, 58,  1, 58, 46, 39, 58,  1],\n",
       "        [25, 17, 27, 10,  0, 21,  1, 54]])"
      ]
     },
     "execution_count": 41,
     "metadata": {},
     "output_type": "execute_result"
    }
   ],
   "source": [
    "xb"
   ]
  },
  {
   "cell_type": "code",
   "execution_count": 42,
   "id": "963e3d08-d65c-4d19-b55b-bc8be06491ad",
   "metadata": {},
   "outputs": [
    {
     "data": {
      "text/plain": [
       "tensor([[43, 58,  5, 57,  1, 46, 43, 39],\n",
       "        [53, 56,  1, 58, 46, 39, 58,  1],\n",
       "        [58,  1, 58, 46, 39, 58,  1, 46],\n",
       "        [17, 27, 10,  0, 21,  1, 54, 39]])"
      ]
     },
     "execution_count": 42,
     "metadata": {},
     "output_type": "execute_result"
    }
   ],
   "source": [
    "yb"
   ]
  },
  {
   "cell_type": "code",
   "execution_count": 43,
   "id": "6e5cff04-5c07-4ebc-8c57-f208a80b0cfa",
   "metadata": {},
   "outputs": [
    {
     "data": {
      "text/plain": [
       "tensor([24, 43, 58,  5, 57,  1, 46, 43])"
      ]
     },
     "execution_count": 43,
     "metadata": {},
     "output_type": "execute_result"
    }
   ],
   "source": [
    "train[76049:76057]"
   ]
  },
  {
   "cell_type": "code",
   "execution_count": 44,
   "id": "4ad0a586-6dc9-4507-ab82-a61169576271",
   "metadata": {},
   "outputs": [
    {
     "name": "stdout",
     "output_type": "stream",
     "text": [
      "when input is [24] the target: 43\n",
      "when input is [24, 43] the target: 58\n",
      "when input is [24, 43, 58] the target: 5\n",
      "when input is [24, 43, 58, 5] the target: 57\n",
      "when input is [24, 43, 58, 5, 57] the target: 1\n",
      "when input is [24, 43, 58, 5, 57, 1] the target: 46\n",
      "when input is [24, 43, 58, 5, 57, 1, 46] the target: 43\n",
      "when input is [24, 43, 58, 5, 57, 1, 46, 43] the target: 39\n",
      "when input is [44] the target: 53\n",
      "when input is [44, 53] the target: 56\n",
      "when input is [44, 53, 56] the target: 1\n",
      "when input is [44, 53, 56, 1] the target: 58\n",
      "when input is [44, 53, 56, 1, 58] the target: 46\n",
      "when input is [44, 53, 56, 1, 58, 46] the target: 39\n",
      "when input is [44, 53, 56, 1, 58, 46, 39] the target: 58\n",
      "when input is [44, 53, 56, 1, 58, 46, 39, 58] the target: 1\n",
      "when input is [52] the target: 58\n",
      "when input is [52, 58] the target: 1\n",
      "when input is [52, 58, 1] the target: 58\n",
      "when input is [52, 58, 1, 58] the target: 46\n",
      "when input is [52, 58, 1, 58, 46] the target: 39\n",
      "when input is [52, 58, 1, 58, 46, 39] the target: 58\n",
      "when input is [52, 58, 1, 58, 46, 39, 58] the target: 1\n",
      "when input is [52, 58, 1, 58, 46, 39, 58, 1] the target: 46\n",
      "when input is [25] the target: 17\n",
      "when input is [25, 17] the target: 27\n",
      "when input is [25, 17, 27] the target: 10\n",
      "when input is [25, 17, 27, 10] the target: 0\n",
      "when input is [25, 17, 27, 10, 0] the target: 21\n",
      "when input is [25, 17, 27, 10, 0, 21] the target: 1\n",
      "when input is [25, 17, 27, 10, 0, 21, 1] the target: 54\n",
      "when input is [25, 17, 27, 10, 0, 21, 1, 54] the target: 39\n"
     ]
    }
   ],
   "source": [
    "for b in range(batch_size): # batch dimension\n",
    "    for t in range(block_size): # time dimension\n",
    "        context = xb[b, :t+1]\n",
    "        target = yb[b,t]\n",
    "        print(f\"when input is {context.tolist()} the target: {target}\")"
   ]
  },
  {
   "cell_type": "markdown",
   "id": "b55e12b1-e835-4d21-b35e-1d4a93ab1fa1",
   "metadata": {},
   "source": [
    "## Bigram model"
   ]
  },
  {
   "cell_type": "markdown",
   "id": "377429ec-8336-40e1-97f2-6fafa2297c9e",
   "metadata": {},
   "source": [
    "#### testing"
   ]
  },
  {
   "cell_type": "code",
   "execution_count": 49,
   "id": "eb2ab9fc-df07-4d33-8eaa-8ecf63cce350",
   "metadata": {},
   "outputs": [
    {
     "data": {
      "text/plain": [
       "Embedding(65, 65)"
      ]
     },
     "execution_count": 49,
     "metadata": {},
     "output_type": "execute_result"
    }
   ],
   "source": [
    "token_embedding_table = nn.Embedding(vocab_size, vocab_size) #like a matrix\n",
    "token_embedding_table"
   ]
  },
  {
   "cell_type": "code",
   "execution_count": 58,
   "id": "943d2450-cbf3-4693-b86a-6d84ae26562c",
   "metadata": {},
   "outputs": [
    {
     "name": "stdout",
     "output_type": "stream",
     "text": [
      "Parameter containing:\n",
      "tensor([[ 0.1718,  1.1966, -1.9632,  ..., -1.7498, -1.4791,  0.6423],\n",
      "        [ 1.1690, -0.4663, -1.8699,  ..., -1.9416,  0.7032, -0.3657],\n",
      "        [-1.3012,  0.5384,  0.8917,  ...,  0.7312,  0.2288, -1.6502],\n",
      "        ...,\n",
      "        [ 0.1915,  0.4275, -0.1743,  ..., -1.7070, -1.7969, -0.1042],\n",
      "        [ 0.0526, -0.1783,  0.9675,  ..., -0.4639,  1.4211, -0.3745],\n",
      "        [-1.3704,  0.8675,  0.5401,  ..., -0.9566,  1.3783,  0.2281]],\n",
      "       requires_grad=True)\n"
     ]
    }
   ],
   "source": [
    "print(token_embedding_table.weight)\n"
   ]
  },
  {
   "cell_type": "code",
   "execution_count": 51,
   "id": "c1d1bc57-8356-4999-9dfc-46c131af7df9",
   "metadata": {},
   "outputs": [
    {
     "data": {
      "text/plain": [
       "tensor([[[ 0.4932, -1.1694, -0.8223,  ...,  0.7370, -0.2247,  0.8418],\n",
       "         [-0.5374,  0.4321,  0.5630,  ...,  0.2614, -0.4664,  0.4042],\n",
       "         [ 0.2895,  1.7726,  0.8849,  ...,  0.3331,  1.4479, -0.5636],\n",
       "         ...,\n",
       "         [ 1.1690, -0.4663, -1.8699,  ..., -1.9416,  0.7032, -0.3657],\n",
       "         [ 1.0521, -1.1743, -1.2393,  ...,  0.5807, -0.0884, -0.4433],\n",
       "         [-0.5374,  0.4321,  0.5630,  ...,  0.2614, -0.4664,  0.4042]],\n",
       "\n",
       "        [[-0.8510, -0.1418, -0.0092,  ..., -0.6544, -0.7391, -1.0720],\n",
       "         [-0.8154, -1.1089, -0.8192,  ..., -1.5413,  0.5355, -0.0193],\n",
       "         [ 0.9830, -0.0294, -0.8737,  ...,  0.5894, -0.7509, -0.5098],\n",
       "         ...,\n",
       "         [ 1.0521, -1.1743, -1.2393,  ...,  0.5807, -0.0884, -0.4433],\n",
       "         [ 0.5466, -0.9012, -1.9612,  ...,  0.1565, -0.4773, -0.1933],\n",
       "         [ 0.2895,  1.7726,  0.8849,  ...,  0.3331,  1.4479, -0.5636]],\n",
       "\n",
       "        [[-1.0629,  2.2055,  0.1888,  ..., -0.9117,  0.4069, -0.6926],\n",
       "         [ 0.2895,  1.7726,  0.8849,  ...,  0.3331,  1.4479, -0.5636],\n",
       "         [ 1.1690, -0.4663, -1.8699,  ..., -1.9416,  0.7032, -0.3657],\n",
       "         ...,\n",
       "         [ 0.5466, -0.9012, -1.9612,  ...,  0.1565, -0.4773, -0.1933],\n",
       "         [ 0.2895,  1.7726,  0.8849,  ...,  0.3331,  1.4479, -0.5636],\n",
       "         [ 1.1690, -0.4663, -1.8699,  ..., -1.9416,  0.7032, -0.3657]],\n",
       "\n",
       "        [[ 0.3081, -1.0437,  0.8761,  ...,  1.1931, -0.5618,  0.2280],\n",
       "         [-0.7018,  0.8270,  0.4600,  ...,  1.8550, -0.8659,  1.1771],\n",
       "         [-1.7867, -1.0382, -0.6505,  ..., -0.1601,  0.4302,  1.1167],\n",
       "         ...,\n",
       "         [ 0.2065,  0.5717,  0.5447,  ..., -0.7528, -0.5040, -0.4073],\n",
       "         [ 1.1690, -0.4663, -1.8699,  ..., -1.9416,  0.7032, -0.3657],\n",
       "         [ 0.0986, -0.0296,  2.2201,  ..., -0.8603,  0.3309,  0.4999]]],\n",
       "       grad_fn=<EmbeddingBackward0>)"
      ]
     },
     "execution_count": 51,
     "metadata": {},
     "output_type": "execute_result"
    }
   ],
   "source": [
    "l = token_embedding_table(xb)\n",
    "l"
   ]
  },
  {
   "cell_type": "code",
   "execution_count": 52,
   "id": "81dcd6ff-d5fd-4208-8a10-c39c6b3be0a0",
   "metadata": {},
   "outputs": [
    {
     "data": {
      "text/plain": [
       "torch.Size([4, 8, 65])"
      ]
     },
     "execution_count": 52,
     "metadata": {},
     "output_type": "execute_result"
    }
   ],
   "source": [
    "l.shape"
   ]
  },
  {
   "cell_type": "code",
   "execution_count": 56,
   "id": "14b79a81-a839-4a4e-bb10-7770abeef980",
   "metadata": {},
   "outputs": [
    {
     "data": {
      "text/plain": [
       "tensor([True, True, True, True, True, True, True, True, True, True, True, True,\n",
       "        True, True, True, True, True, True, True, True, True, True, True, True,\n",
       "        True, True, True, True, True, True, True, True, True, True, True, True,\n",
       "        True, True, True, True, True, True, True, True, True, True, True, True,\n",
       "        True, True, True, True, True, True, True, True, True, True, True, True,\n",
       "        True, True, True, True, True])"
      ]
     },
     "execution_count": 56,
     "metadata": {},
     "output_type": "execute_result"
    }
   ],
   "source": [
    "l[0][1] == l[0][7]"
   ]
  },
  {
   "cell_type": "code",
   "execution_count": 60,
   "id": "fc83aab8-9df9-467c-b955-968510a85b25",
   "metadata": {},
   "outputs": [],
   "source": [
    "b, t, c = l.shape"
   ]
  },
  {
   "cell_type": "code",
   "execution_count": 62,
   "id": "c57e7dc6-e7fe-4cfa-9a08-e562704d77c9",
   "metadata": {},
   "outputs": [
    {
     "data": {
      "text/plain": [
       "tensor([[ 0.4932, -1.1694, -0.8223,  ...,  0.7370, -0.2247,  0.8418],\n",
       "        [-0.5374,  0.4321,  0.5630,  ...,  0.2614, -0.4664,  0.4042],\n",
       "        [ 0.2895,  1.7726,  0.8849,  ...,  0.3331,  1.4479, -0.5636],\n",
       "        ...,\n",
       "        [ 0.2065,  0.5717,  0.5447,  ..., -0.7528, -0.5040, -0.4073],\n",
       "        [ 1.1690, -0.4663, -1.8699,  ..., -1.9416,  0.7032, -0.3657],\n",
       "        [ 0.0986, -0.0296,  2.2201,  ..., -0.8603,  0.3309,  0.4999]],\n",
       "       grad_fn=<ViewBackward0>)"
      ]
     },
     "execution_count": 62,
     "metadata": {},
     "output_type": "execute_result"
    }
   ],
   "source": [
    "l2 = l.view(b*t, c)\n",
    "l2"
   ]
  },
  {
   "cell_type": "code",
   "execution_count": 63,
   "id": "3a65849c-5fe9-4930-b1cb-f2056100330e",
   "metadata": {},
   "outputs": [
    {
     "data": {
      "text/plain": [
       "torch.Size([32, 65])"
      ]
     },
     "execution_count": 63,
     "metadata": {},
     "output_type": "execute_result"
    }
   ],
   "source": [
    "l2.shape"
   ]
  },
  {
   "cell_type": "code",
   "execution_count": null,
   "id": "a438d1eb-da9e-4044-afa6-6b05988ad398",
   "metadata": {},
   "outputs": [],
   "source": []
  },
  {
   "cell_type": "code",
   "execution_count": 64,
   "id": "4ead5bcc-d697-4c57-bd19-1705d621b8ae",
   "metadata": {},
   "outputs": [],
   "source": [
    "import torch\n",
    "import torch.nn as nn\n",
    "from torch.nn import functional as F\n",
    "torch.manual_seed(1337)\n",
    "\n",
    "class BigramLanguageModel(nn.Module):\n",
    "\n",
    "    def __init__(self, vocab_size):\n",
    "        super().__init__()\n",
    "        # each token directly reads off the logits for the next token from a lookup table\n",
    "        self.token_embedding_table = nn.Embedding(vocab_size, vocab_size)\n",
    "\n",
    "    def forward(self, idx, targets=None):\n",
    "\n",
    "        # idx and targets are both (B,T) tensor of integers\n",
    "        logits = self.token_embedding_table(idx) # (B,T,C)\n",
    "\n",
    "        if targets is None:\n",
    "            loss = None\n",
    "        else:\n",
    "            B, T, C = logits.shape\n",
    "            logits = logits.view(B*T, C)\n",
    "            targets = targets.view(B*T)\n",
    "            loss = F.cross_entropy(logits, targets) # expects B,C,T\n",
    "\n",
    "        return logits, loss\n",
    "\n",
    "    def generate(self, idx, max_new_tokens):\n",
    "        # idx is (B, T) array of indices in the current context\n",
    "        for _ in range(max_new_tokens):\n",
    "            # get the predictions\n",
    "            logits, loss = self(idx)\n",
    "            # focus only on the last time step\n",
    "            logits = logits[:, -1, :] # becomes (B, C)\n",
    "            # apply softmax to get probabilities\n",
    "            probs = F.softmax(logits, dim=-1) # (B, C)\n",
    "            # sample from the distribution\n",
    "            idx_next = torch.multinomial(probs, num_samples=1) # (B, 1)\n",
    "            # append sampled index to the running sequence\n",
    "            idx = torch.cat((idx, idx_next), dim=1) # (B, T+1)\n",
    "        return idx"
   ]
  },
  {
   "cell_type": "code",
   "execution_count": 65,
   "id": "95497ace-58cd-4fa4-970d-d46c15f70b29",
   "metadata": {},
   "outputs": [],
   "source": [
    "m = BigramLanguageModel(vocab_size)"
   ]
  },
  {
   "cell_type": "code",
   "execution_count": 66,
   "id": "855bf443-6700-49e9-88da-85dd1aa7f634",
   "metadata": {},
   "outputs": [],
   "source": [
    "logits, loss = m(xb, yb)"
   ]
  },
  {
   "cell_type": "code",
   "execution_count": 67,
   "id": "b1fd0f8d-bbe3-4fe8-8787-d2b16768a7b5",
   "metadata": {},
   "outputs": [
    {
     "data": {
      "text/plain": [
       "tensor([[-1.5101, -0.0948,  1.0927,  ..., -0.6126, -0.6597,  0.7624],\n",
       "        [ 0.3323, -0.0872, -0.7470,  ..., -0.6716, -0.9572, -0.9594],\n",
       "        [ 0.2475, -0.6349, -1.2909,  ...,  1.3064, -0.2256, -1.8305],\n",
       "        ...,\n",
       "        [-2.1910, -0.7574,  1.9656,  ..., -0.3580,  0.8585, -0.6161],\n",
       "        [ 0.5978, -0.0514, -0.0646,  ..., -1.4649, -2.0555,  1.8275],\n",
       "        [-0.6787,  0.8662, -1.6433,  ...,  2.3671, -0.7775, -0.2586]],\n",
       "       grad_fn=<ViewBackward0>)"
      ]
     },
     "execution_count": 67,
     "metadata": {},
     "output_type": "execute_result"
    }
   ],
   "source": [
    "logits"
   ]
  },
  {
   "cell_type": "code",
   "execution_count": 68,
   "id": "2a92c5bc-b23d-48fc-9fcd-5c20a49c6337",
   "metadata": {},
   "outputs": [
    {
     "data": {
      "text/plain": [
       "tensor(4.8786, grad_fn=<NllLossBackward0>)"
      ]
     },
     "execution_count": 68,
     "metadata": {},
     "output_type": "execute_result"
    }
   ],
   "source": [
    "loss"
   ]
  },
  {
   "cell_type": "code",
   "execution_count": 72,
   "id": "39d68acc-97e2-4bb2-980c-ddff53697fe8",
   "metadata": {},
   "outputs": [
    {
     "name": "stdout",
     "output_type": "stream",
     "text": [
      "\n",
      "pdcbf?pGXepydZJSrF$Jrqt!:wwWSzPNxbjPiD&Q!a;yNt$Kr$o-gC$WSjJqfBKBySKtSKpwNNfyl&w:q-jluBatD$Lj;?yzyUca\n"
     ]
    }
   ],
   "source": [
    "print(decode(m.generate(idx = torch.zeros((1, 1), dtype=torch.long), max_new_tokens=100)[0].tolist()))"
   ]
  },
  {
   "cell_type": "code",
   "execution_count": 73,
   "id": "285d72df-1023-45ab-8a2c-2c5eb2039847",
   "metadata": {},
   "outputs": [],
   "source": [
    "optimizer = torch.optim.AdamW(m.parameters(), lr=1e-3)"
   ]
  },
  {
   "cell_type": "code",
   "execution_count": 76,
   "id": "79e95638-0dc3-4b60-abf9-6a3f75b7c88e",
   "metadata": {},
   "outputs": [
    {
     "name": "stdout",
     "output_type": "stream",
     "text": [
      "4.478354454040527\n"
     ]
    }
   ],
   "source": [
    "batch_size = 32\n",
    "for steps in range(100): # increase number of steps for good results...\n",
    "\n",
    "    # sample a batch of data\n",
    "    xb, yb = get_batch('train')\n",
    "\n",
    "    # evaluate the loss\n",
    "    logits, loss = m(xb, yb)\n",
    "    optimizer.zero_grad(set_to_none=True)\n",
    "    loss.backward()\n",
    "    optimizer.step()\n",
    "\n",
    "print(loss.item())\n"
   ]
  },
  {
   "cell_type": "code",
   "execution_count": 77,
   "id": "b84adf16-5c38-4f74-9f08-c94b7991e042",
   "metadata": {},
   "outputs": [
    {
     "name": "stdout",
     "output_type": "stream",
     "text": [
      "\n",
      "ayJ'PlbPkux\n",
      "S&u!zJcHdXlvjH;vV,;hX-nkzijQTzr'O3fAcd,lrqkz,SV-!UybPJAkHAUGJu-YphFa\n",
      "D:CTE,iwXChlxlyOp,LPHXXebObjk'Q?X$hhVrSGL-wf3OjmZvr'.iqegXI3SP q-GS?YxBzyh.:dhXcg\n",
      "wbowKAAJck3fpWVzObsk.SY: klxYQwBWke.d,ir QJaKMlgBSGGSBDXIynAmD!zt;,!wfavrwQJqMOcQbOrJFtCAU:.DzPmIBCMphs\n",
      "jUErkth.S $I&vxmfaSP'HT'nxkh FlxGtw pMgYI&dYXyJ,iBU!up'apNl!.A!BPJ?YA:y,Sjv.SP,y'DDuwfRj;qZcqhepxEZ-IVcoteAajxa!W?pQOdIkQT:CBKM&SSl?s,SPmh.. AcfNmviBUSnQh$GUqHdmgCjyMfaw,SVY!ugd!,SObQ&!pcxFbyfR.pDAQbmuOM&yh$zL&u!BFZGNMA:fMkHxKuQ!K vn\n"
     ]
    }
   ],
   "source": [
    "print(decode(m.generate(idx = torch.zeros((1, 1), dtype=torch.long), max_new_tokens=500)[0].tolist()))"
   ]
  },
  {
   "cell_type": "markdown",
   "id": "7ca7d807-014f-46b8-b813-f1e7f2164db2",
   "metadata": {},
   "source": [
    "## Mathematical trick in self attention"
   ]
  },
  {
   "cell_type": "code",
   "execution_count": 78,
   "id": "845a26d6-fd2c-47ed-87f3-b0b0bcae7ca4",
   "metadata": {},
   "outputs": [
    {
     "data": {
      "text/plain": [
       "tensor([[1., 0., 0.],\n",
       "        [1., 1., 0.],\n",
       "        [1., 1., 1.]])"
      ]
     },
     "execution_count": 78,
     "metadata": {},
     "output_type": "execute_result"
    }
   ],
   "source": [
    "torch.tril(torch.ones(3, 3))"
   ]
  },
  {
   "cell_type": "code",
   "execution_count": 80,
   "id": "438f84d0-3406-470e-b66b-e25505a162f7",
   "metadata": {},
   "outputs": [
    {
     "data": {
      "text/plain": [
       "tensor([[1., -inf, -inf],\n",
       "        [1., 1., -inf],\n",
       "        [1., 1., 1.]])"
      ]
     },
     "execution_count": 80,
     "metadata": {},
     "output_type": "execute_result"
    }
   ],
   "source": [
    "a = torch.tril(torch.ones(3, 3))\n",
    "a = a.masked_fill(a == 0, float('-inf'))\n",
    "a"
   ]
  },
  {
   "cell_type": "code",
   "execution_count": 81,
   "id": "7a715d2d-d0a6-456e-9c37-d473dc298ff4",
   "metadata": {},
   "outputs": [
    {
     "data": {
      "text/plain": [
       "tensor([[0., -inf, -inf],\n",
       "        [0., 0., -inf],\n",
       "        [0., 0., 0.]])"
      ]
     },
     "execution_count": 81,
     "metadata": {},
     "output_type": "execute_result"
    }
   ],
   "source": [
    "a.masked_fill(a == 1, 0)"
   ]
  },
  {
   "cell_type": "code",
   "execution_count": 94,
   "id": "6c08b254-4fae-4b98-9df8-014c2a3870ff",
   "metadata": {},
   "outputs": [
    {
     "name": "stdout",
     "output_type": "stream",
     "text": [
      "a=\n",
      "tensor([[1.0000, 0.0000, 0.0000],\n",
      "        [0.5000, 0.5000, 0.0000],\n",
      "        [0.3333, 0.3333, 0.3333]])\n",
      "--\n",
      "b=\n",
      "tensor([[2., 7.],\n",
      "        [6., 4.],\n",
      "        [6., 5.]])\n",
      "--\n",
      "c=\n",
      "tensor([[2.0000, 7.0000],\n",
      "        [4.0000, 5.5000],\n",
      "        [4.6667, 5.3333]])\n"
     ]
    }
   ],
   "source": [
    "# toy example illustrating how matrix multiplication can be used for a \"weighted aggregation\"\n",
    "torch.manual_seed(42)\n",
    "a = torch.tril(torch.ones(3, 3))\n",
    "a = a / torch.sum(a, 1, keepdim=True)\n",
    "b = torch.randint(0,10,(3,2)).float()\n",
    "c = a @ b\n",
    "print('a=')\n",
    "print(a)\n",
    "print('--')\n",
    "print('b=')\n",
    "print(b)\n",
    "print('--')\n",
    "print('c=')\n",
    "print(c)"
   ]
  },
  {
   "cell_type": "code",
   "execution_count": 95,
   "id": "165c0842-b8de-419d-b105-692dd4624a3a",
   "metadata": {},
   "outputs": [
    {
     "data": {
      "text/plain": [
       "torch.Size([4, 8, 2])"
      ]
     },
     "execution_count": 95,
     "metadata": {},
     "output_type": "execute_result"
    }
   ],
   "source": [
    "# consider the following toy example:\n",
    "\n",
    "torch.manual_seed(1337)\n",
    "B,T,C = 4,8,2 # batch, time, channels\n",
    "x = torch.randn(B,T,C)\n",
    "x.shape"
   ]
  },
  {
   "cell_type": "code",
   "execution_count": 96,
   "id": "98e109da-586c-461f-91c7-74e6c478f3e2",
   "metadata": {},
   "outputs": [],
   "source": [
    "# We want x[b,t] = mean_{i<=t} x[b,i]\n",
    "xbow = torch.zeros((B,T,C))\n",
    "for b in range(B):\n",
    "    for t in range(T):\n",
    "        xprev = x[b,:t+1] # (t,C)\n",
    "        xbow[b,t] = torch.mean(xprev, 0)\n"
   ]
  },
  {
   "cell_type": "code",
   "execution_count": 97,
   "id": "7e8da035-5131-4394-9f6a-782123bd5cee",
   "metadata": {},
   "outputs": [
    {
     "data": {
      "text/plain": [
       "False"
      ]
     },
     "execution_count": 97,
     "metadata": {},
     "output_type": "execute_result"
    }
   ],
   "source": [
    "# version 2: using matrix multiply for a weighted aggregation\n",
    "wei = torch.tril(torch.ones(T, T))\n",
    "wei = wei / wei.sum(1, keepdim=True)\n",
    "## wei is in (T, T) but it will get converted to (B, T, T) and then will get multiplied\n",
    "xbow2 = wei @ x # (B, T, T) @ (B, T, C) ----> (B, T, C)\n",
    "torch.allclose(xbow, xbow2)"
   ]
  },
  {
   "cell_type": "code",
   "execution_count": 98,
   "id": "4a6d769b-bca2-45f9-b6fe-3a2b9914323e",
   "metadata": {},
   "outputs": [
    {
     "data": {
      "text/plain": [
       "False"
      ]
     },
     "execution_count": 98,
     "metadata": {},
     "output_type": "execute_result"
    }
   ],
   "source": [
    "# version 2: using matrix multiply for a weighted aggregation\n",
    "wei = torch.tril(torch.ones(T, T))\n",
    "wei = wei / wei.sum(1, keepdim=True)\n",
    "xbow2 = wei @ x # (B, T, T) @ (B, T, C) ----> (B, T, C)\n",
    "torch.allclose(xbow, xbow2)"
   ]
  },
  {
   "cell_type": "code",
   "execution_count": 100,
   "id": "593b5082-b32a-4cea-b972-c46b76b32eb7",
   "metadata": {},
   "outputs": [
    {
     "data": {
      "text/plain": [
       "tensor([[ 0.1808, -0.0700],\n",
       "        [-0.0894, -0.4926],\n",
       "        [ 0.1490, -0.3199],\n",
       "        [ 0.3504, -0.2238],\n",
       "        [ 0.3525,  0.0545],\n",
       "        [ 0.0688, -0.0396],\n",
       "        [ 0.0927, -0.0682],\n",
       "        [-0.0341,  0.1332]])"
      ]
     },
     "execution_count": 100,
     "metadata": {},
     "output_type": "execute_result"
    }
   ],
   "source": [
    "xbow[0]"
   ]
  },
  {
   "cell_type": "code",
   "execution_count": 101,
   "id": "ca6f326f-f45c-48a8-b748-5446b0fd607f",
   "metadata": {},
   "outputs": [
    {
     "data": {
      "text/plain": [
       "tensor([[ 0.1808, -0.0700],\n",
       "        [-0.0894, -0.4926],\n",
       "        [ 0.1490, -0.3199],\n",
       "        [ 0.3504, -0.2238],\n",
       "        [ 0.3525,  0.0545],\n",
       "        [ 0.0688, -0.0396],\n",
       "        [ 0.0927, -0.0682],\n",
       "        [-0.0341,  0.1332]])"
      ]
     },
     "execution_count": 101,
     "metadata": {},
     "output_type": "execute_result"
    }
   ],
   "source": [
    "xbow2[0]"
   ]
  },
  {
   "cell_type": "markdown",
   "id": "f8c20b94-84bd-474d-9d0c-60549304fbd2",
   "metadata": {},
   "source": [
    "### Self Attention"
   ]
  },
  {
   "cell_type": "code",
   "execution_count": 99,
   "id": "e5f1e857-d78a-498c-93bd-38746a16e4c8",
   "metadata": {},
   "outputs": [
    {
     "data": {
      "text/plain": [
       "torch.Size([4, 8, 16])"
      ]
     },
     "execution_count": 99,
     "metadata": {},
     "output_type": "execute_result"
    }
   ],
   "source": [
    "torch.manual_seed(1337)\n",
    "B,T,C = 4,8,32 # batch, time, channels\n",
    "x = torch.randn(B,T,C)\n",
    "\n",
    "# let's see a single Head perform self-attention\n",
    "head_size = 16\n",
    "key = nn.Linear(C, head_size, bias=False)\n",
    "query = nn.Linear(C, head_size, bias=False)\n",
    "value = nn.Linear(C, head_size, bias=False)\n",
    "k = key(x)   # (B, T, 16)\n",
    "q = query(x) # (B, T, 16)\n",
    "wei =  q @ k.transpose(-2, -1) # (B, T, 16) @ (B, 16, T) ---> (B, T, T)\n",
    "\n",
    "tril = torch.tril(torch.ones(T, T))\n",
    "#wei = torch.zeros((T,T))\n",
    "wei = wei.masked_fill(tril == 0, float('-inf'))\n",
    "wei = F.softmax(wei, dim=-1)\n",
    "\n",
    "v = value(x)\n",
    "out = wei @ v\n",
    "#out = wei @ x\n",
    "\n",
    "out.shape"
   ]
  },
  {
   "cell_type": "code",
   "execution_count": 103,
   "id": "ff651e84-40aa-43ec-9669-8e363ffea6c5",
   "metadata": {},
   "outputs": [
    {
     "data": {
      "text/plain": [
       "tensor([[1.0000, 0.0000, 0.0000, 0.0000, 0.0000, 0.0000, 0.0000, 0.0000],\n",
       "        [0.1574, 0.8426, 0.0000, 0.0000, 0.0000, 0.0000, 0.0000, 0.0000],\n",
       "        [0.2088, 0.1646, 0.6266, 0.0000, 0.0000, 0.0000, 0.0000, 0.0000],\n",
       "        [0.5792, 0.1187, 0.1889, 0.1131, 0.0000, 0.0000, 0.0000, 0.0000],\n",
       "        [0.0294, 0.1052, 0.0469, 0.0276, 0.7909, 0.0000, 0.0000, 0.0000],\n",
       "        [0.0176, 0.2689, 0.0215, 0.0089, 0.6812, 0.0019, 0.0000, 0.0000],\n",
       "        [0.1691, 0.4066, 0.0438, 0.0416, 0.1048, 0.2012, 0.0329, 0.0000],\n",
       "        [0.0210, 0.0843, 0.0555, 0.2297, 0.0573, 0.0709, 0.2423, 0.2391]],\n",
       "       grad_fn=<SelectBackward0>)"
      ]
     },
     "execution_count": 103,
     "metadata": {},
     "output_type": "execute_result"
    }
   ],
   "source": [
    "wei[0]"
   ]
  },
  {
   "cell_type": "code",
   "execution_count": 104,
   "id": "86125ab0-00d5-446e-a5ae-15df44ad5e15",
   "metadata": {},
   "outputs": [],
   "source": [
    "k = torch.randn(B,T,head_size)\n",
    "q = torch.randn(B,T,head_size)\n",
    "wei = q @ k.transpose(-2, -1) * head_size**-0.5"
   ]
  },
  {
   "cell_type": "code",
   "execution_count": 105,
   "id": "ba74a761-e3d0-4507-974f-aff28fa2f668",
   "metadata": {},
   "outputs": [
    {
     "data": {
      "text/plain": [
       "tensor([[[-3.9927e-02,  1.0038e+00, -1.1435e+00,  1.8040e+00, -2.9009e-02,\n",
       "          -8.1313e-01,  9.0933e-01, -1.1375e+00,  5.1402e-01, -4.8947e-01,\n",
       "          -8.0550e-02,  9.1511e-01, -5.4810e-01,  1.1071e+00, -3.5050e-01,\n",
       "           6.6735e-01],\n",
       "         [-8.9355e-02,  2.7234e-01,  6.0345e-01,  2.3188e-01,  1.5473e+00,\n",
       "          -6.8860e-01, -4.4137e-01,  1.2790e+00, -9.9592e-01, -4.3626e-01,\n",
       "          -8.7003e-01, -5.3829e-02,  1.1496e+00,  1.0411e+00,  5.8017e-02,\n",
       "          -1.6868e+00],\n",
       "         [ 4.0054e-01,  1.0880e+00, -4.8284e-01, -7.0947e-02,  1.0966e+00,\n",
       "          -5.6861e-01,  9.0792e-01, -1.7011e-01,  1.4311e+00,  4.1604e-01,\n",
       "          -2.2246e+00,  3.8899e-01,  2.4928e-01, -8.9936e-02, -7.8448e-01,\n",
       "          -9.3301e-01],\n",
       "         [-1.4031e+00,  3.2251e-01,  5.3513e-01, -2.2574e-01,  1.7677e+00,\n",
       "           2.0059e-01, -8.2408e-01, -1.4160e+00,  4.0259e-01,  2.5992e-01,\n",
       "          -5.6410e-01,  3.9112e-01,  1.7038e+00,  5.8414e-01, -1.5054e-01,\n",
       "          -1.2467e-02],\n",
       "         [ 7.2214e-01, -9.6294e-01, -2.0578e+00,  1.9740e+00,  7.4337e-01,\n",
       "           1.1139e+00,  6.9257e-01,  2.9618e-02,  6.4047e-01, -1.6464e+00,\n",
       "           4.9349e-01,  7.4853e-01,  9.2384e-01, -4.9398e-01,  4.8136e-01,\n",
       "          -3.8588e-01],\n",
       "         [-3.0940e-01,  1.1066e+00, -2.8907e-01,  1.8909e-01,  2.0440e+00,\n",
       "          -7.9453e-01, -4.3310e-01,  3.0073e-01,  1.4317e+00,  2.8810e-01,\n",
       "          -4.3426e-01,  4.2804e-01,  1.2469e+00,  1.4047e+00, -3.4043e-01,\n",
       "          -2.2190e+00],\n",
       "         [ 4.8929e-01,  3.9751e-02, -2.7174e-01, -2.2400e+00, -2.9403e-03,\n",
       "          -1.4251e+00,  7.3303e-01,  3.5505e-01,  1.4724e-01, -1.1895e+00,\n",
       "          -8.4067e-01,  3.1341e-01, -6.7091e-01, -8.1759e-01,  6.9290e-01,\n",
       "          -6.3736e-01],\n",
       "         [ 3.1738e-01,  4.8374e-01, -7.3024e-03, -1.5924e+00,  1.8606e+00,\n",
       "          -1.2910e+00, -1.5937e-01,  3.1113e-01, -1.5361e-01, -3.4136e-01,\n",
       "          -1.6985e-02, -1.6326e-01,  2.7941e-01,  6.7552e-01,  7.0662e-01,\n",
       "          -1.6665e+00]],\n",
       "\n",
       "        [[-1.0184e+00,  2.2253e+00,  5.1366e-01,  3.8078e-02,  1.9234e+00,\n",
       "           1.8400e+00, -3.1833e-01,  1.2396e-01, -5.2585e-01, -9.0568e-01,\n",
       "           1.3275e+00, -6.2322e-01,  1.4523e-01, -1.3049e+00, -2.1875e-01,\n",
       "          -1.8588e+00],\n",
       "         [ 6.2644e-02,  1.9656e-01, -2.2531e+00,  4.6594e-01, -3.3109e-01,\n",
       "           1.0631e+00, -4.9661e-01, -1.2999e+00, -1.2323e-01, -2.5416e-01,\n",
       "           1.1509e+00,  8.7719e-01,  1.4667e+00,  4.5302e-01,  8.5879e-01,\n",
       "           2.7185e-02],\n",
       "         [ 4.9635e-01, -2.1827e-01,  4.3155e-01,  5.5557e-01,  1.4562e-01,\n",
       "          -9.4342e-01, -5.8271e-01,  6.7065e-01, -5.9692e-01,  7.5672e-01,\n",
       "           1.0726e+00,  7.2947e-01, -6.6653e-01, -4.0712e-01,  1.0580e+00,\n",
       "           7.0954e-01],\n",
       "         [ 1.8728e+00, -8.5416e-01,  4.0892e-01, -6.6440e-01, -7.6993e-01,\n",
       "          -5.3111e-01,  1.3702e+00, -6.5107e-01, -1.3560e+00, -1.5675e+00,\n",
       "          -5.2389e-01,  6.9369e-01, -1.8744e-01, -4.5508e-01, -5.1551e-02,\n",
       "          -4.4239e-01],\n",
       "         [ 1.6035e-01, -1.1646e+00,  6.4818e-01, -1.6310e+00, -5.8344e-01,\n",
       "          -1.7104e+00,  6.6973e-01, -1.2521e+00, -3.9704e-01,  3.2503e-01,\n",
       "          -1.0091e+00, -5.5826e-02, -4.4216e-01, -1.0637e-01,  4.9726e-01,\n",
       "           6.8444e-01],\n",
       "         [ 1.6967e+00,  1.2412e+00,  1.2617e+00,  1.3472e+00,  1.3725e+00,\n",
       "          -3.0112e-01,  6.5463e-01,  1.3932e-01,  9.8917e-01, -1.0955e+00,\n",
       "          -7.3371e-01, -5.5629e-01,  1.1861e+00,  1.0686e+00, -8.8414e-01,\n",
       "          -1.4150e+00],\n",
       "         [-2.7705e-01, -3.1264e-01, -9.7718e-01, -5.3996e-01, -2.3548e-01,\n",
       "           8.2324e-01, -5.8723e-01, -7.5213e-01,  3.1147e-01, -1.7675e+00,\n",
       "           6.8177e-01,  3.3227e-01, -8.7153e-02, -7.4698e-01, -6.0736e-01,\n",
       "           3.4183e-01],\n",
       "         [ 5.3435e-01,  3.9569e-01, -4.9194e-01, -8.9385e-02, -1.3886e+00,\n",
       "           1.2835e+00, -3.9750e-01,  2.0152e+00,  1.6773e+00, -3.8328e-01,\n",
       "           1.5728e+00,  1.9458e+00,  7.2471e-01, -4.8339e-01, -3.2629e-01,\n",
       "           3.1928e-01]],\n",
       "\n",
       "        [[-4.1984e-01, -6.4349e-01, -3.3106e-01,  7.5537e-01, -1.2385e+00,\n",
       "           4.0670e-01,  9.9823e-01, -6.5108e-01,  1.2450e+00,  2.8036e-01,\n",
       "           8.3712e-01, -4.1192e-01,  2.1150e-01, -6.2398e-01,  2.0280e-02,\n",
       "          -3.4183e-01],\n",
       "         [ 1.4934e+00,  1.7307e+00,  1.3354e+00, -2.7121e-01,  4.9022e-01,\n",
       "           6.6004e-01, -1.6321e+00, -7.8585e-01,  1.7688e+00,  2.6160e+00,\n",
       "          -5.7669e-01, -3.6284e-01, -2.7428e+00,  7.4275e-01,  7.3699e-02,\n",
       "           2.0505e-01],\n",
       "         [-5.4975e-01,  2.1261e+00, -9.2399e-01,  1.0475e-01,  8.3239e-01,\n",
       "           1.4287e+00, -7.7891e-01,  2.9275e+00, -8.5249e-01, -6.7158e-01,\n",
       "          -9.5724e-01, -9.5944e-01,  1.0541e+00,  1.5018e+00, -5.2662e-01,\n",
       "           2.3542e-01],\n",
       "         [ 1.3178e+00,  1.5074e+00, -6.1004e-01, -4.2576e-01,  3.2693e-01,\n",
       "           4.0724e-01,  9.8611e-01, -1.3452e+00,  2.2328e+00,  1.2493e-01,\n",
       "           1.5514e+00,  3.2708e-01, -1.5620e+00, -9.5950e-01,  1.8561e+00,\n",
       "           1.7314e-01],\n",
       "         [-8.2508e-01,  1.4378e+00, -1.6157e+00, -2.0174e+00, -6.9589e-01,\n",
       "           8.4463e-01,  2.3401e+00,  5.7125e-01, -1.4307e+00, -5.2013e-01,\n",
       "           1.8445e+00,  1.4158e+00, -1.4985e-01,  3.7534e-01, -2.3219e-01,\n",
       "          -6.8550e-01],\n",
       "         [ 1.5919e+00,  4.8728e-01,  1.0210e+00,  1.3580e+00, -1.6462e+00,\n",
       "          -1.6728e+00, -7.2269e-01, -1.7545e-01,  1.0629e+00, -9.6121e-01,\n",
       "          -1.2697e+00,  1.2132e+00, -1.0401e-01,  1.0264e+00,  1.6527e+00,\n",
       "          -1.7719e-01],\n",
       "         [-1.4692e+00, -3.1946e-01,  1.9924e-01,  1.8428e+00,  2.2445e-01,\n",
       "          -1.9263e-01,  2.2095e-01,  7.6633e-01, -2.1574e-01, -9.8441e-01,\n",
       "           1.8574e+00,  1.5249e+00,  1.3035e+00,  6.6348e-01,  2.6726e-01,\n",
       "          -4.0968e-02],\n",
       "         [-4.1045e-01, -7.9258e-01, -4.5052e-01, -1.2630e+00, -1.1049e-01,\n",
       "          -1.5258e+00, -2.4088e+00,  6.2567e-01, -7.8628e-01, -1.3341e-01,\n",
       "          -5.0673e-01,  4.9312e-01,  3.1957e+00, -6.9719e-01,  1.4158e-01,\n",
       "           1.1991e+00]],\n",
       "\n",
       "        [[ 8.4574e-01,  1.1119e+00,  7.5411e-01,  5.6716e-01,  1.0343e+00,\n",
       "           4.2398e-01, -3.9114e-01, -2.2213e+00,  1.7533e+00, -1.2363e+00,\n",
       "           1.1138e+00,  1.7952e+00,  2.8732e-01, -1.9710e-01,  1.2285e+00,\n",
       "           9.5273e-03],\n",
       "         [ 2.2227e-01,  1.9963e+00,  1.3765e+00,  1.0229e+00, -1.3248e-03,\n",
       "           7.7858e-01, -2.9392e-01,  1.2563e+00, -7.8401e-01,  8.0610e-01,\n",
       "          -3.7246e-01, -8.1083e-01,  8.6826e-01,  7.9161e-01,  6.6330e-01,\n",
       "           1.8970e-01],\n",
       "         [ 1.7075e+00,  7.7272e-01, -2.6976e-01, -7.1044e-01,  1.7779e+00,\n",
       "          -7.2955e-01, -8.2731e-01, -2.5742e+00, -3.9104e-01,  2.3160e-02,\n",
       "           8.5039e-01, -5.8610e-01, -1.0893e+00,  1.9482e-01,  1.0901e+00,\n",
       "           2.1703e-01],\n",
       "         [-2.9996e+00,  1.4690e+00, -1.9482e-01, -1.5068e-01,  2.6011e-01,\n",
       "          -9.6465e-01,  1.1619e-01, -8.2947e-01, -2.2655e-01,  2.1851e-02,\n",
       "          -2.7854e-01, -4.8510e-01, -1.8023e+00, -7.3300e-01, -1.2828e+00,\n",
       "           8.8627e-01],\n",
       "         [ 1.0515e+00, -9.8232e-01, -1.6369e+00, -1.3499e+00,  1.8304e-01,\n",
       "           5.3169e-02, -1.1438e+00, -2.8286e-01, -5.9785e-01,  1.4757e+00,\n",
       "           4.6555e-01, -3.0346e+00,  5.5158e-01,  1.3107e+00,  1.2401e-01,\n",
       "          -1.8046e+00],\n",
       "         [ 2.7001e-01, -4.3223e-01,  2.7843e-01, -5.5988e-01,  1.2502e+00,\n",
       "           7.0512e-01, -1.0169e+00,  4.8544e-01, -1.0808e+00, -3.1276e-01,\n",
       "          -4.1888e-01, -5.7180e-01,  8.2149e-01,  1.7384e+00,  5.5776e-01,\n",
       "           6.1675e-01],\n",
       "         [ 1.5260e+00, -3.5081e-01, -1.5615e+00,  4.5476e-01, -8.9353e-01,\n",
       "           3.6421e-01,  5.7137e-01,  2.7072e+00, -1.5443e+00,  1.1288e+00,\n",
       "          -1.1217e+00, -1.7328e+00, -5.4722e-01, -8.0173e-01,  7.7607e-01,\n",
       "           1.6515e+00],\n",
       "         [-4.2417e-02, -7.3547e-01, -7.5035e-01, -7.3336e-01, -4.0747e-01,\n",
       "           4.3484e-01,  1.8329e+00,  1.8613e+00,  3.8169e-01,  2.2919e-02,\n",
       "          -6.4623e-01,  1.1551e+00,  1.1374e+00,  1.1190e+00,  7.7106e-01,\n",
       "          -4.9788e-02]]])"
      ]
     },
     "execution_count": 105,
     "metadata": {},
     "output_type": "execute_result"
    }
   ],
   "source": [
    "k"
   ]
  },
  {
   "cell_type": "code",
   "execution_count": 106,
   "id": "d47a69c7-7240-4cc9-908c-7a23b3946866",
   "metadata": {},
   "outputs": [
    {
     "data": {
      "text/plain": [
       "torch.Size([32, 100])"
      ]
     },
     "execution_count": 106,
     "metadata": {},
     "output_type": "execute_result"
    }
   ],
   "source": [
    "class LayerNorm1d: # (used to be BatchNorm1d)\n",
    "\n",
    "  def __init__(self, dim, eps=1e-5, momentum=0.1):\n",
    "    self.eps = eps\n",
    "    self.gamma = torch.ones(dim)\n",
    "    self.beta = torch.zeros(dim)\n",
    "\n",
    "  def __call__(self, x):\n",
    "    # calculate the forward pass\n",
    "    xmean = x.mean(1, keepdim=True) # batch mean\n",
    "    xvar = x.var(1, keepdim=True) # batch variance\n",
    "    xhat = (x - xmean) / torch.sqrt(xvar + self.eps) # normalize to unit variance\n",
    "    self.out = self.gamma * xhat + self.beta\n",
    "    return self.out\n",
    "\n",
    "  def parameters(self):\n",
    "    return [self.gamma, self.beta]\n",
    "\n",
    "torch.manual_seed(1337)\n",
    "module = LayerNorm1d(100)\n",
    "x = torch.randn(32, 100) # batch size 32 of 100-dimensional vectors\n",
    "x = module(x)\n",
    "x.shape"
   ]
  },
  {
   "cell_type": "markdown",
   "id": "c1779dc8-8dee-45b3-9435-6545f50a0a8e",
   "metadata": {},
   "source": [
    "## Full code"
   ]
  },
  {
   "cell_type": "code",
   "execution_count": 1,
   "id": "f3d31f94-29bb-419f-97a0-0b66025af14d",
   "metadata": {},
   "outputs": [
    {
     "name": "stdout",
     "output_type": "stream",
     "text": [
      "0.209729 M parameters\n",
      "step 0: train loss 4.4116, val loss 4.4022\n"
     ]
    },
    {
     "name": "stderr",
     "output_type": "stream",
     "text": [
      "\n",
      "KeyboardInterrupt\n",
      "\n"
     ]
    }
   ],
   "source": [
    "import torch\n",
    "import torch.nn as nn\n",
    "import requests\n",
    "from torch.nn import functional as F\n",
    "\n",
    "# hyperparameters\n",
    "batch_size = 16 # how many independent sequences will we process in parallel?\n",
    "block_size = 32 # what is the maximum context length for predictions?\n",
    "max_iters = 5000\n",
    "eval_interval = 100\n",
    "learning_rate = 1e-3\n",
    "device = 'cuda' if torch.cuda.is_available() else 'cpu'\n",
    "eval_iters = 200\n",
    "n_embd = 64\n",
    "n_head = 4\n",
    "n_layer = 4\n",
    "dropout = 0.0\n",
    "# ------------\n",
    "\n",
    "torch.manual_seed(1337)\n",
    "\n",
    "# wget https://raw.githubusercontent.com/karpathy/char-rnn/master/data/tinyshakespeare/input.txt\n",
    "file =  \"https://raw.githubusercontent.com/karpathy/char-rnn/master/data/tinyshakespeare/input.txt\"\n",
    "\n",
    "# Fetch the content of the text file\n",
    "response = requests.get(file)\n",
    "text = response.text\n",
    "\n",
    "# here are all the unique characters that occur in this text\n",
    "chars = sorted(list(set(text)))\n",
    "vocab_size = len(chars)\n",
    "# create a mapping from characters to integers\n",
    "stoi = { ch:i for i,ch in enumerate(chars) }\n",
    "itos = { i:ch for i,ch in enumerate(chars) }\n",
    "encode = lambda s: [stoi[c] for c in s] # encoder: take a string, output a list of integers\n",
    "decode = lambda l: ''.join([itos[i] for i in l]) # decoder: take a list of integers, output a string\n",
    "\n",
    "# Train and test splits\n",
    "data = torch.tensor(encode(text), dtype=torch.long)\n",
    "n = int(0.9*len(data)) # first 90% will be train, rest val\n",
    "train_data = data[:n]\n",
    "val_data = data[n:]\n",
    "\n",
    "# data loading\n",
    "def get_batch(split):\n",
    "    # generate a small batch of data of inputs x and targets y\n",
    "    data = train_data if split == 'train' else val_data\n",
    "    ix = torch.randint(len(data) - block_size, (batch_size,))\n",
    "    x = torch.stack([data[i:i+block_size] for i in ix])\n",
    "    y = torch.stack([data[i+1:i+block_size+1] for i in ix])\n",
    "    x, y = x.to(device), y.to(device)\n",
    "    return x, y\n",
    "\n",
    "@torch.no_grad()\n",
    "def estimate_loss():\n",
    "    out = {}\n",
    "    model.eval()\n",
    "    for split in ['train', 'val']:\n",
    "        losses = torch.zeros(eval_iters)\n",
    "        for k in range(eval_iters):\n",
    "            X, Y = get_batch(split)\n",
    "            logits, loss = model(X, Y)\n",
    "            losses[k] = loss.item()\n",
    "        out[split] = losses.mean()\n",
    "    model.train()\n",
    "    return out\n",
    "\n",
    "class Head(nn.Module):\n",
    "    \"\"\" one head of self-attention \"\"\"\n",
    "\n",
    "    def __init__(self, head_size):\n",
    "        super().__init__()\n",
    "        self.key = nn.Linear(n_embd, head_size, bias=False)\n",
    "        self.query = nn.Linear(n_embd, head_size, bias=False)\n",
    "        self.value = nn.Linear(n_embd, head_size, bias=False)\n",
    "        self.register_buffer('tril', torch.tril(torch.ones(block_size, block_size)))\n",
    "\n",
    "        self.dropout = nn.Dropout(dropout)\n",
    "\n",
    "    def forward(self, x):\n",
    "        B,T,C = x.shape\n",
    "        k = self.key(x)   # (B,T,C)\n",
    "        q = self.query(x) # (B,T,C)\n",
    "        # compute attention scores (\"affinities\")\n",
    "        wei = q @ k.transpose(-2,-1) * C**-0.5 # (B, T, C) @ (B, C, T) -> (B, T, T)\n",
    "        wei = wei.masked_fill(self.tril[:T, :T] == 0, float('-inf')) # (B, T, T)\n",
    "        wei = F.softmax(wei, dim=-1) # (B, T, T)\n",
    "        wei = self.dropout(wei)\n",
    "        # perform the weighted aggregation of the values\n",
    "        v = self.value(x) # (B,T,C)\n",
    "        out = wei @ v # (B, T, T) @ (B, T, C) -> (B, T, C)\n",
    "        return out\n",
    "\n",
    "class MultiHeadAttention(nn.Module):\n",
    "    \"\"\" multiple heads of self-attention in parallel \"\"\"\n",
    "\n",
    "    def __init__(self, num_heads, head_size):\n",
    "        super().__init__()\n",
    "        self.heads = nn.ModuleList([Head(head_size) for _ in range(num_heads)])\n",
    "        self.proj = nn.Linear(n_embd, n_embd)\n",
    "        self.dropout = nn.Dropout(dropout)\n",
    "\n",
    "    def forward(self, x):\n",
    "        out = torch.cat([h(x) for h in self.heads], dim=-1)\n",
    "        out = self.dropout(self.proj(out))\n",
    "        return out\n",
    "\n",
    "class FeedFoward(nn.Module):\n",
    "    \"\"\" a simple linear layer followed by a non-linearity \"\"\"\n",
    "\n",
    "    def __init__(self, n_embd):\n",
    "        super().__init__()\n",
    "        self.net = nn.Sequential(\n",
    "            nn.Linear(n_embd, 4 * n_embd),\n",
    "            nn.ReLU(),\n",
    "            nn.Linear(4 * n_embd, n_embd),\n",
    "            nn.Dropout(dropout),\n",
    "        )\n",
    "\n",
    "    def forward(self, x):\n",
    "        return self.net(x)\n",
    "\n",
    "class Block(nn.Module):\n",
    "    \"\"\" Transformer block: communication followed by computation \"\"\"\n",
    "\n",
    "    def __init__(self, n_embd, n_head):\n",
    "        # n_embd: embedding dimension, n_head: the number of heads we'd like\n",
    "        super().__init__()\n",
    "        head_size = n_embd // n_head\n",
    "        self.sa = MultiHeadAttention(n_head, head_size)\n",
    "        self.ffwd = FeedFoward(n_embd)\n",
    "        self.ln1 = nn.LayerNorm(n_embd)\n",
    "        self.ln2 = nn.LayerNorm(n_embd)\n",
    "\n",
    "    def forward(self, x):\n",
    "        x = x + self.sa(self.ln1(x))\n",
    "        x = x + self.ffwd(self.ln2(x))\n",
    "        return x\n",
    "\n",
    "# super simple bigram model\n",
    "class BigramLanguageModel(nn.Module):\n",
    "\n",
    "    def __init__(self):\n",
    "        super().__init__()\n",
    "        # each token directly reads off the logits for the next token from a lookup table\n",
    "        self.token_embedding_table = nn.Embedding(vocab_size, n_embd)\n",
    "        self.position_embedding_table = nn.Embedding(block_size, n_embd)\n",
    "        self.blocks = nn.Sequential(*[Block(n_embd, n_head=n_head) for _ in range(n_layer)])\n",
    "        self.ln_f = nn.LayerNorm(n_embd) # final layer norm\n",
    "        self.lm_head = nn.Linear(n_embd, vocab_size)\n",
    "\n",
    "    def forward(self, idx, targets=None):\n",
    "        B, T = idx.shape\n",
    "\n",
    "        # idx and targets are both (B,T) tensor of integers\n",
    "        tok_emb = self.token_embedding_table(idx) # (B,T,C)\n",
    "        pos_emb = self.position_embedding_table(torch.arange(T, device=device)) # (T,C)\n",
    "        x = tok_emb + pos_emb # (B,T,C)\n",
    "        x = self.blocks(x) # (B,T,C)\n",
    "        x = self.ln_f(x) # (B,T,C)\n",
    "        logits = self.lm_head(x) # (B,T,vocab_size)\n",
    "\n",
    "        if targets is None:\n",
    "            loss = None\n",
    "        else:\n",
    "            B, T, C = logits.shape\n",
    "            logits = logits.view(B*T, C)\n",
    "            targets = targets.view(B*T)\n",
    "            loss = F.cross_entropy(logits, targets)\n",
    "\n",
    "        return logits, loss\n",
    "\n",
    "    def generate(self, idx, max_new_tokens):\n",
    "        # idx is (B, T) array of indices in the current context\n",
    "        for _ in range(max_new_tokens):\n",
    "            # crop idx to the last block_size tokens\n",
    "            idx_cond = idx[:, -block_size:]\n",
    "            # get the predictions\n",
    "            logits, loss = self(idx_cond)\n",
    "            # focus only on the last time step\n",
    "            logits = logits[:, -1, :] # becomes (B, C)\n",
    "            # apply softmax to get probabilities\n",
    "            probs = F.softmax(logits, dim=-1) # (B, C)\n",
    "            # sample from the distribution\n",
    "            idx_next = torch.multinomial(probs, num_samples=1) # (B, 1)\n",
    "            # append sampled index to the running sequence\n",
    "            idx = torch.cat((idx, idx_next), dim=1) # (B, T+1)\n",
    "        return idx\n",
    "\n",
    "model = BigramLanguageModel()\n",
    "m = model.to(device)\n",
    "# print the number of parameters in the model\n",
    "print(sum(p.numel() for p in m.parameters())/1e6, 'M parameters')\n",
    "\n",
    "# create a PyTorch optimizer\n",
    "optimizer = torch.optim.AdamW(model.parameters(), lr=learning_rate)\n",
    "\n",
    "for iter in range(max_iters):\n",
    "\n",
    "    # every once in a while evaluate the loss on train and val sets\n",
    "    if iter % eval_interval == 0 or iter == max_iters - 1:\n",
    "        losses = estimate_loss()\n",
    "        print(f\"step {iter}: train loss {losses['train']:.4f}, val loss {losses['val']:.4f}\")\n",
    "\n",
    "    # sample a batch of data\n",
    "    xb, yb = get_batch('train')\n",
    "\n",
    "    # evaluate the loss\n",
    "    logits, loss = model(xb, yb)\n",
    "    optimizer.zero_grad(set_to_none=True)\n",
    "    loss.backward()\n",
    "    optimizer.step()\n",
    "\n",
    "# generate from the model\n",
    "context = torch.zeros((1, 1), dtype=torch.long, device=device)\n",
    "print(decode(m.generate(context, max_new_tokens=2000)[0].tolist()))\n"
   ]
  },
  {
   "cell_type": "code",
   "execution_count": null,
   "id": "8cc4aa2e-dcae-448a-94b1-fa973e43e90f",
   "metadata": {},
   "outputs": [],
   "source": []
  }
 ],
 "metadata": {
  "kernelspec": {
   "display_name": "Python 3 (ipykernel)",
   "language": "python",
   "name": "python3"
  },
  "language_info": {
   "codemirror_mode": {
    "name": "ipython",
    "version": 3
   },
   "file_extension": ".py",
   "mimetype": "text/x-python",
   "name": "python",
   "nbconvert_exporter": "python",
   "pygments_lexer": "ipython3",
   "version": "3.12.1"
  }
 },
 "nbformat": 4,
 "nbformat_minor": 5
}
