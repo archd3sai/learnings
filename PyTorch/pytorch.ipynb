{
 "cells": [
  {
   "cell_type": "markdown",
   "id": "5b98c6ff-c9a3-449a-b64a-ab9b545531dc",
   "metadata": {},
   "source": [
    "## Notes"
   ]
  },
  {
   "cell_type": "markdown",
   "id": "b51cdd36-2def-4e23-8283-5b7e1ea89ef9",
   "metadata": {},
   "source": [
    "- Similar to numpy but can perform computations on CPU, GPU and TPU\n",
    "- Automatic differentiation and allows computing of gradients efficiently\n",
    "- Tensors: multi-dimensional arrays with added functionalities\n",
    "- requires_grad = true for calculating gradients and auto differentiation\n",
    "- PyTorch takes care of scaling across multiple devices, and threads, and supports a variety of platforms\n",
    "- Need to do optimizer.zero_grad() to avoide accumulating gradients from past passes\n",
    "- Broadcasting: perform operations elementwise such as addition or multiplication with diff dim tensors"
   ]
  },
  {
   "cell_type": "code",
   "execution_count": 114,
   "id": "cceee44e-bbe1-4358-84b0-4610a907fa66",
   "metadata": {},
   "outputs": [],
   "source": [
    "import torch                                        # root package\n",
    "from torch.utils.data import Dataset, DataLoader    # dataset representation and loading\n",
    "\n",
    "import torch.autograd as autograd         # computation graph\n",
    "from torch import Tensor                  # tensor node in the computation graph\n",
    "import torch.nn as nn                     # neural networks\n",
    "import torch.nn.functional as F           # layers, activations and more\n",
    "import torch.optim as optim               # optimizers e.g. gradient descent, ADAM, etc.\n",
    "from torch.jit import script, trace       # hybrid frontend decorator and tracing jit"
   ]
  },
  {
   "cell_type": "code",
   "execution_count": null,
   "id": "e93d3561-9c89-452f-97db-275b2dcc0fe7",
   "metadata": {},
   "outputs": [],
   "source": [
    "x = torch.randn(*size)              # tensor with independent N(0,1) entries\n",
    "x = torch.[ones|zeros](*size)       # tensor with all 1's [or 0's]\n",
    "x = torch.tensor(L)                 # create tensor from [nested] list or ndarray L\n",
    "y = x.clone()                       # clone of x\n",
    "with torch.no_grad():               # code wrap that stops autograd from tracking tensor history\n",
    "requires_grad=True                  # arg, when set to True, tracks computation\n",
    "                                    # history for future derivative calculations"
   ]
  },
  {
   "cell_type": "markdown",
   "id": "70153fdb-041a-40eb-96bc-4539e20d9ae0",
   "metadata": {},
   "source": [
    "## basics"
   ]
  },
  {
   "cell_type": "code",
   "execution_count": 1,
   "id": "983d4778-2c15-473f-964f-e4e1bc3ec361",
   "metadata": {},
   "outputs": [],
   "source": [
    "import torch"
   ]
  },
  {
   "cell_type": "code",
   "execution_count": 5,
   "id": "acba879c-2a58-4e2d-b2b5-fbc7885ec77d",
   "metadata": {},
   "outputs": [
    {
     "data": {
      "text/plain": [
       "tensor(3)"
      ]
     },
     "execution_count": 5,
     "metadata": {},
     "output_type": "execute_result"
    }
   ],
   "source": [
    "torch.tensor(3)"
   ]
  },
  {
   "cell_type": "code",
   "execution_count": 7,
   "id": "d2f03aee-f4af-4851-b9a5-59f73336fb1c",
   "metadata": {},
   "outputs": [
    {
     "data": {
      "text/plain": [
       "tensor([2, 2])"
      ]
     },
     "execution_count": 7,
     "metadata": {},
     "output_type": "execute_result"
    }
   ],
   "source": [
    "torch.tensor([2,2])"
   ]
  },
  {
   "cell_type": "code",
   "execution_count": 8,
   "id": "f1f9ccb1-862a-4b0f-bb20-51e92cfa66f4",
   "metadata": {},
   "outputs": [
    {
     "data": {
      "text/plain": [
       "tensor([[0., 0.],\n",
       "        [0., 0.]])"
      ]
     },
     "execution_count": 8,
     "metadata": {},
     "output_type": "execute_result"
    }
   ],
   "source": [
    "torch.zeros([2,2])"
   ]
  },
  {
   "cell_type": "code",
   "execution_count": 9,
   "id": "e2a6240a-ae09-487b-8af7-5fd6352c323c",
   "metadata": {},
   "outputs": [
    {
     "data": {
      "text/plain": [
       "tensor([[0.3183, 0.6828],\n",
       "        [0.1345, 0.2790]])"
      ]
     },
     "execution_count": 9,
     "metadata": {},
     "output_type": "execute_result"
    }
   ],
   "source": [
    "torch.rand([2,2])"
   ]
  },
  {
   "cell_type": "code",
   "execution_count": 10,
   "id": "ff7d5a78-80ed-4695-b975-5b7b7c2e185e",
   "metadata": {},
   "outputs": [
    {
     "data": {
      "text/plain": [
       "tensor([[0.5167, 0.4390, 0.0489, 0.1904, 0.1595],\n",
       "        [0.0932, 0.0784, 0.0094, 0.0361, 0.0297]])"
      ]
     },
     "execution_count": 10,
     "metadata": {},
     "output_type": "execute_result"
    }
   ],
   "source": [
    "x = torch.rand([2,2])\n",
    "y = torch.rand([2,5])\n",
    "\n",
    "x @ y"
   ]
  },
  {
   "cell_type": "code",
   "execution_count": 12,
   "id": "b0d329fe-fedc-408b-bd6e-d3fe2b721847",
   "metadata": {},
   "outputs": [
    {
     "data": {
      "text/plain": [
       "tensor([[0.8124, 0.4714],\n",
       "        [1.5008, 1.3396]])"
      ]
     },
     "execution_count": 12,
     "metadata": {},
     "output_type": "execute_result"
    }
   ],
   "source": [
    "x = torch.rand([2,2])\n",
    "y = torch.rand([2,2])\n",
    "\n",
    "x + y"
   ]
  },
  {
   "cell_type": "code",
   "execution_count": 13,
   "id": "b8604da2-32ba-4e02-8653-0680347d5904",
   "metadata": {},
   "outputs": [
    {
     "data": {
      "text/plain": [
       "array([[0.81240046, 0.4713856 ],\n",
       "       [1.500824  , 1.3395782 ]], dtype=float32)"
      ]
     },
     "execution_count": 13,
     "metadata": {},
     "output_type": "execute_result"
    }
   ],
   "source": [
    "(x+y).numpy()"
   ]
  },
  {
   "cell_type": "code",
   "execution_count": 14,
   "id": "5d237c39-c731-4184-879b-d338c017634e",
   "metadata": {},
   "outputs": [
    {
     "data": {
      "text/plain": [
       "tensor([[0.8124, 0.4714],\n",
       "        [1.5008, 1.3396]])"
      ]
     },
     "execution_count": 14,
     "metadata": {},
     "output_type": "execute_result"
    }
   ],
   "source": [
    "torch.tensor((x+y).numpy())"
   ]
  },
  {
   "cell_type": "markdown",
   "id": "a4f4bd05-ef42-40b9-b45f-4f175b495d1d",
   "metadata": {},
   "source": [
    "### differentiation"
   ]
  },
  {
   "cell_type": "code",
   "execution_count": 34,
   "id": "bd2f73e2-b193-44f9-b41d-33b3b33b00d6",
   "metadata": {},
   "outputs": [],
   "source": [
    "x = torch.tensor(1.0, requires_grad = True) #by default it is false\n",
    "\n",
    "def u(x):\n",
    "    return x*x\n",
    "\n",
    "def g(u):\n",
    "    return -u"
   ]
  },
  {
   "cell_type": "markdown",
   "id": "a2ba72da-eb3a-4d0e-8196-614c841cce58",
   "metadata": {},
   "source": [
    "g(u(x)) --> -x*x\n",
    "\n",
    "So its derivative with respect to x is -2x. At point x=1, this is equal to -2."
   ]
  },
  {
   "cell_type": "code",
   "execution_count": 35,
   "id": "da31bb4a-ca2c-421b-92dd-67bfdce6d307",
   "metadata": {},
   "outputs": [],
   "source": [
    "dgdx = torch.autograd.grad(g(u(x)), x)"
   ]
  },
  {
   "cell_type": "code",
   "execution_count": 36,
   "id": "3b68cdf1-c81f-4c7d-936a-c8cecb544088",
   "metadata": {},
   "outputs": [
    {
     "data": {
      "text/plain": [
       "(tensor(-2.),)"
      ]
     },
     "execution_count": 36,
     "metadata": {},
     "output_type": "execute_result"
    }
   ],
   "source": [
    "dgdx"
   ]
  },
  {
   "cell_type": "code",
   "execution_count": 37,
   "id": "1099286e-959f-4750-b341-1ce5b59a36d1",
   "metadata": {},
   "outputs": [
    {
     "data": {
      "text/plain": [
       "(tensor(-6.),)"
      ]
     },
     "execution_count": 37,
     "metadata": {},
     "output_type": "execute_result"
    }
   ],
   "source": [
    "x = torch.tensor(3.0, requires_grad = True)\n",
    "torch.autograd.grad(g(u(x)), x)"
   ]
  },
  {
   "cell_type": "code",
   "execution_count": 38,
   "id": "3693f553-6f9c-47b6-80ac-afa44fabeb92",
   "metadata": {},
   "outputs": [
    {
     "data": {
      "text/plain": [
       "tensor(3., requires_grad=True)"
      ]
     },
     "execution_count": 38,
     "metadata": {},
     "output_type": "execute_result"
    }
   ],
   "source": [
    "x"
   ]
  },
  {
   "cell_type": "markdown",
   "id": "5ff4a7d1-887f-47cf-a13e-c1c91cc6ab3c",
   "metadata": {},
   "source": [
    "## Curve fitting"
   ]
  },
  {
   "cell_type": "markdown",
   "id": "dfb70997-be19-4f5c-ad0b-df56f879c321",
   "metadata": {},
   "source": [
    "f(x) = 5x^2 + 3\n",
    "\n",
    "g(x, w) = w0 x^2 + w1 x + w2\n",
    "\n",
    "goal --> g(x, w) ≈ f(x)\n",
    "\n",
    "loss function: L(w) = Σ (f(x) - g(x, w))^2"
   ]
  },
  {
   "cell_type": "markdown",
   "id": "7b708830-cabf-4e19-aab6-0240604eccf6",
   "metadata": {},
   "source": [
    "- We can calculate stochastic gradient descent of L(W) wrt W"
   ]
  },
  {
   "cell_type": "code",
   "execution_count": 39,
   "id": "284ba56d-bce1-4fc2-bb2a-293e5c56ad9e",
   "metadata": {},
   "outputs": [
    {
     "name": "stderr",
     "output_type": "stream",
     "text": [
      "C:\\Users\\archd\\AppData\\Local\\Temp\\ipykernel_16652\\2651238935.py:7: UserWarning: To copy construct from a tensor, it is recommended to use sourceTensor.clone().detach() or sourceTensor.clone().detach().requires_grad_(True), rather than torch.tensor(sourceTensor).\n",
      "  w = torch.tensor(torch.randn([3, 1]), requires_grad=True)\n"
     ]
    },
    {
     "data": {
      "text/plain": [
       "tensor([[-1.2976],\n",
       "        [-1.0065],\n",
       "        [ 0.9774]], requires_grad=True)"
      ]
     },
     "execution_count": 39,
     "metadata": {},
     "output_type": "execute_result"
    }
   ],
   "source": [
    "import numpy as np\n",
    "import torch\n",
    "\n",
    "# Assuming we know that the desired function is a polynomial of 2nd degree, we\n",
    "# allocate a vector of size 3 to hold the coefficients and initialize it with\n",
    "# random noise.\n",
    "w = torch.tensor(torch.randn([3, 1]), requires_grad=True)\n",
    "\n",
    "w"
   ]
  },
  {
   "cell_type": "code",
   "execution_count": 40,
   "id": "6a35ed2b-29fe-4d66-af60-22a28ed88926",
   "metadata": {},
   "outputs": [
    {
     "data": {
      "text/plain": [
       "Adam (\n",
       "Parameter Group 0\n",
       "    amsgrad: False\n",
       "    betas: (0.9, 0.999)\n",
       "    capturable: False\n",
       "    differentiable: False\n",
       "    eps: 1e-08\n",
       "    foreach: None\n",
       "    fused: None\n",
       "    lr: 0.1\n",
       "    maximize: False\n",
       "    weight_decay: 0\n",
       ")"
      ]
     },
     "execution_count": 40,
     "metadata": {},
     "output_type": "execute_result"
    }
   ],
   "source": [
    "# We use the Adam optimizer with learning rate set to 0.1 to minimize the loss.\n",
    "opt = torch.optim.Adam([w], 0.1)\n",
    "\n",
    "opt"
   ]
  },
  {
   "cell_type": "code",
   "execution_count": 44,
   "id": "a93c03fc-b1a4-4892-a2e8-da3a25f4b3f5",
   "metadata": {},
   "outputs": [],
   "source": [
    "x2 = torch.rand(100) \n",
    "x = x2 * 20 - 10\n",
    "y = 5 * x * x + 3"
   ]
  },
  {
   "cell_type": "code",
   "execution_count": 45,
   "id": "33f7dc06-e60d-4845-86e7-65e2d0a0ca89",
   "metadata": {},
   "outputs": [
    {
     "data": {
      "text/plain": [
       "tensor([-2.8069, -9.0613,  8.1456,  1.6699, -6.4031, -1.5050, -4.1948, -0.7398,\n",
       "         9.3466, -4.9756, -2.1995, -3.2008,  1.2858, -1.9381, -9.8799,  9.6505,\n",
       "        -2.5194,  9.7330,  6.7686, -7.7375, -0.3468, -3.1263, -3.7703,  3.5126,\n",
       "        -7.4346,  8.9468,  8.1607,  3.4066, -6.0022,  0.0320, -1.8150, -8.6166,\n",
       "        -2.1704, -8.2007, -1.3589, -3.6989, -9.7847, -7.9993,  7.5302, -5.6971,\n",
       "         5.0948, -7.8923, -0.3708,  6.7338, -6.8006, -5.3266, -8.6830,  2.7671,\n",
       "         1.8125,  2.0179, -7.9539, -3.1543,  2.5737,  1.6119, -2.1442,  5.7369,\n",
       "        -3.6795,  7.4567,  4.1785, -7.6737, -6.0905,  3.2620, -4.1335, -4.3653,\n",
       "         6.0254, -5.9413,  9.2114,  6.3920,  7.7732, -0.5257,  9.0921, -9.3792,\n",
       "        -6.7093,  3.7172, -4.1679, -8.5698, -4.7751, -6.5368, -2.7709,  9.4531,\n",
       "        -6.3863,  2.0916, -1.5845, -6.0845,  4.4837,  8.5079, -0.8623, -2.6502,\n",
       "         0.5062,  5.6700,  1.3096, -3.3423,  2.6363, -7.9379,  2.3675,  7.4028,\n",
       "         0.5558,  7.7707,  0.4296,  6.0240])"
      ]
     },
     "execution_count": 45,
     "metadata": {},
     "output_type": "execute_result"
    }
   ],
   "source": [
    "x"
   ]
  },
  {
   "cell_type": "code",
   "execution_count": 52,
   "id": "fc4ce00f-2f96-468a-a5da-538bd69288c6",
   "metadata": {},
   "outputs": [
    {
     "data": {
      "text/plain": [
       "(tensor(7.8785), tensor(-2.8069), 1)"
      ]
     },
     "execution_count": 52,
     "metadata": {},
     "output_type": "execute_result"
    }
   ],
   "source": [
    "a = x[0]\n",
    "a*a, a, 1"
   ]
  },
  {
   "cell_type": "markdown",
   "id": "47a23cfc-231f-4b40-abc9-dff48ecc2c2f",
   "metadata": {},
   "source": [
    "#### stack"
   ]
  },
  {
   "cell_type": "code",
   "execution_count": 56,
   "id": "99e98557-5f28-44af-b14b-53bfea20de2f",
   "metadata": {},
   "outputs": [
    {
     "data": {
      "text/plain": [
       "tensor([1, 1, 1])"
      ]
     },
     "execution_count": 56,
     "metadata": {},
     "output_type": "execute_result"
    }
   ],
   "source": [
    "a = torch.tensor(1)\n",
    "torch.stack([a,a,a])"
   ]
  },
  {
   "cell_type": "code",
   "execution_count": 58,
   "id": "cfb96b3a-ee3a-4dc1-b033-1d66d28e10c0",
   "metadata": {},
   "outputs": [
    {
     "ename": "IndexError",
     "evalue": "Dimension out of range (expected to be in range of [-1, 0], but got 1)",
     "output_type": "error",
     "traceback": [
      "\u001b[1;31m---------------------------------------------------------------------------\u001b[0m",
      "\u001b[1;31mIndexError\u001b[0m                                Traceback (most recent call last)",
      "Cell \u001b[1;32mIn[58], line 1\u001b[0m\n\u001b[1;32m----> 1\u001b[0m \u001b[43mtorch\u001b[49m\u001b[38;5;241;43m.\u001b[39;49m\u001b[43mstack\u001b[49m\u001b[43m(\u001b[49m\u001b[43m[\u001b[49m\u001b[43ma\u001b[49m\u001b[43m,\u001b[49m\u001b[43ma\u001b[49m\u001b[43m,\u001b[49m\u001b[43ma\u001b[49m\u001b[43m]\u001b[49m\u001b[43m,\u001b[49m\u001b[43m \u001b[49m\u001b[38;5;241;43m1\u001b[39;49m\u001b[43m)\u001b[49m\n",
      "\u001b[1;31mIndexError\u001b[0m: Dimension out of range (expected to be in range of [-1, 0], but got 1)"
     ]
    }
   ],
   "source": [
    "torch.stack([a,a,a], 1)"
   ]
  },
  {
   "cell_type": "code",
   "execution_count": 59,
   "id": "3846e253-dc6d-4a08-9ebf-2b832f34dbc5",
   "metadata": {},
   "outputs": [
    {
     "data": {
      "text/plain": [
       "tensor([[[0.2222, 0.0676],\n",
       "         [0.7781, 0.2202]],\n",
       "\n",
       "        [[0.2222, 0.0676],\n",
       "         [0.7781, 0.2202]],\n",
       "\n",
       "        [[0.2222, 0.0676],\n",
       "         [0.7781, 0.2202]]])"
      ]
     },
     "execution_count": 59,
     "metadata": {},
     "output_type": "execute_result"
    }
   ],
   "source": [
    "a = torch.rand([2,2])\n",
    "torch.stack([a,a,a])"
   ]
  },
  {
   "cell_type": "code",
   "execution_count": 60,
   "id": "4371f273-ecb1-4091-a41b-332abd40da08",
   "metadata": {},
   "outputs": [
    {
     "data": {
      "text/plain": [
       "tensor([[[0.2222, 0.0676],\n",
       "         [0.2222, 0.0676],\n",
       "         [0.2222, 0.0676]],\n",
       "\n",
       "        [[0.7781, 0.2202],\n",
       "         [0.7781, 0.2202],\n",
       "         [0.7781, 0.2202]]])"
      ]
     },
     "execution_count": 60,
     "metadata": {},
     "output_type": "execute_result"
    }
   ],
   "source": [
    "torch.stack([a,a,a], 1)"
   ]
  },
  {
   "cell_type": "code",
   "execution_count": 50,
   "id": "da279ab6-9920-44d1-87ab-4fe3509ba219",
   "metadata": {
    "scrolled": true
   },
   "outputs": [
    {
     "data": {
      "text/plain": [
       "tensor([[ 7.8785e+00, -2.8069e+00,  1.0000e+00],\n",
       "        [ 8.2107e+01, -9.0613e+00,  1.0000e+00],\n",
       "        [ 6.6350e+01,  8.1456e+00,  1.0000e+00],\n",
       "        [ 2.7887e+00,  1.6699e+00,  1.0000e+00],\n",
       "        [ 4.1000e+01, -6.4031e+00,  1.0000e+00],\n",
       "        [ 2.2649e+00, -1.5050e+00,  1.0000e+00],\n",
       "        [ 1.7596e+01, -4.1948e+00,  1.0000e+00],\n",
       "        [ 5.4730e-01, -7.3980e-01,  1.0000e+00],\n",
       "        [ 8.7358e+01,  9.3466e+00,  1.0000e+00],\n",
       "        [ 2.4756e+01, -4.9756e+00,  1.0000e+00],\n",
       "        [ 4.8378e+00, -2.1995e+00,  1.0000e+00],\n",
       "        [ 1.0245e+01, -3.2008e+00,  1.0000e+00],\n",
       "        [ 1.6532e+00,  1.2858e+00,  1.0000e+00],\n",
       "        [ 3.7563e+00, -1.9381e+00,  1.0000e+00],\n",
       "        [ 9.7612e+01, -9.8799e+00,  1.0000e+00],\n",
       "        [ 9.3132e+01,  9.6505e+00,  1.0000e+00],\n",
       "        [ 6.3472e+00, -2.5194e+00,  1.0000e+00],\n",
       "        [ 9.4731e+01,  9.7330e+00,  1.0000e+00],\n",
       "        [ 4.5814e+01,  6.7686e+00,  1.0000e+00],\n",
       "        [ 5.9869e+01, -7.7375e+00,  1.0000e+00],\n",
       "        [ 1.2029e-01, -3.4683e-01,  1.0000e+00],\n",
       "        [ 9.7739e+00, -3.1263e+00,  1.0000e+00],\n",
       "        [ 1.4215e+01, -3.7703e+00,  1.0000e+00],\n",
       "        [ 1.2338e+01,  3.5126e+00,  1.0000e+00],\n",
       "        [ 5.5274e+01, -7.4346e+00,  1.0000e+00],\n",
       "        [ 8.0045e+01,  8.9468e+00,  1.0000e+00],\n",
       "        [ 6.6597e+01,  8.1607e+00,  1.0000e+00],\n",
       "        [ 1.1605e+01,  3.4066e+00,  1.0000e+00],\n",
       "        [ 3.6026e+01, -6.0022e+00,  1.0000e+00],\n",
       "        [ 1.0226e-03,  3.1979e-02,  1.0000e+00],\n",
       "        [ 3.2944e+00, -1.8150e+00,  1.0000e+00],\n",
       "        [ 7.4246e+01, -8.6166e+00,  1.0000e+00],\n",
       "        [ 4.7107e+00, -2.1704e+00,  1.0000e+00],\n",
       "        [ 6.7252e+01, -8.2007e+00,  1.0000e+00],\n",
       "        [ 1.8465e+00, -1.3589e+00,  1.0000e+00],\n",
       "        [ 1.3682e+01, -3.6989e+00,  1.0000e+00],\n",
       "        [ 9.5740e+01, -9.7847e+00,  1.0000e+00],\n",
       "        [ 6.3989e+01, -7.9993e+00,  1.0000e+00],\n",
       "        [ 5.6703e+01,  7.5302e+00,  1.0000e+00],\n",
       "        [ 3.2457e+01, -5.6971e+00,  1.0000e+00],\n",
       "        [ 2.5957e+01,  5.0948e+00,  1.0000e+00],\n",
       "        [ 6.2289e+01, -7.8923e+00,  1.0000e+00],\n",
       "        [ 1.3753e-01, -3.7085e-01,  1.0000e+00],\n",
       "        [ 4.5345e+01,  6.7338e+00,  1.0000e+00],\n",
       "        [ 4.6248e+01, -6.8006e+00,  1.0000e+00],\n",
       "        [ 2.8373e+01, -5.3266e+00,  1.0000e+00],\n",
       "        [ 7.5394e+01, -8.6830e+00,  1.0000e+00],\n",
       "        [ 7.6569e+00,  2.7671e+00,  1.0000e+00],\n",
       "        [ 3.2852e+00,  1.8125e+00,  1.0000e+00],\n",
       "        [ 4.0720e+00,  2.0179e+00,  1.0000e+00],\n",
       "        [ 6.3265e+01, -7.9539e+00,  1.0000e+00],\n",
       "        [ 9.9496e+00, -3.1543e+00,  1.0000e+00],\n",
       "        [ 6.6237e+00,  2.5737e+00,  1.0000e+00],\n",
       "        [ 2.5984e+00,  1.6119e+00,  1.0000e+00],\n",
       "        [ 4.5977e+00, -2.1442e+00,  1.0000e+00],\n",
       "        [ 3.2912e+01,  5.7369e+00,  1.0000e+00],\n",
       "        [ 1.3539e+01, -3.6795e+00,  1.0000e+00],\n",
       "        [ 5.5602e+01,  7.4567e+00,  1.0000e+00],\n",
       "        [ 1.7459e+01,  4.1785e+00,  1.0000e+00],\n",
       "        [ 5.8886e+01, -7.6737e+00,  1.0000e+00],\n",
       "        [ 3.7094e+01, -6.0905e+00,  1.0000e+00],\n",
       "        [ 1.0641e+01,  3.2620e+00,  1.0000e+00],\n",
       "        [ 1.7086e+01, -4.1335e+00,  1.0000e+00],\n",
       "        [ 1.9055e+01, -4.3653e+00,  1.0000e+00],\n",
       "        [ 3.6305e+01,  6.0254e+00,  1.0000e+00],\n",
       "        [ 3.5299e+01, -5.9413e+00,  1.0000e+00],\n",
       "        [ 8.4850e+01,  9.2114e+00,  1.0000e+00],\n",
       "        [ 4.0857e+01,  6.3920e+00,  1.0000e+00],\n",
       "        [ 6.0423e+01,  7.7732e+00,  1.0000e+00],\n",
       "        [ 2.7632e-01, -5.2566e-01,  1.0000e+00],\n",
       "        [ 8.2665e+01,  9.0921e+00,  1.0000e+00],\n",
       "        [ 8.7970e+01, -9.3792e+00,  1.0000e+00],\n",
       "        [ 4.5015e+01, -6.7093e+00,  1.0000e+00],\n",
       "        [ 1.3817e+01,  3.7172e+00,  1.0000e+00],\n",
       "        [ 1.7371e+01, -4.1679e+00,  1.0000e+00],\n",
       "        [ 7.3442e+01, -8.5698e+00,  1.0000e+00],\n",
       "        [ 2.2802e+01, -4.7751e+00,  1.0000e+00],\n",
       "        [ 4.2729e+01, -6.5368e+00,  1.0000e+00],\n",
       "        [ 7.6778e+00, -2.7709e+00,  1.0000e+00],\n",
       "        [ 8.9361e+01,  9.4531e+00,  1.0000e+00],\n",
       "        [ 4.0785e+01, -6.3863e+00,  1.0000e+00],\n",
       "        [ 4.3748e+00,  2.0916e+00,  1.0000e+00],\n",
       "        [ 2.5106e+00, -1.5845e+00,  1.0000e+00],\n",
       "        [ 3.7022e+01, -6.0845e+00,  1.0000e+00],\n",
       "        [ 2.0104e+01,  4.4837e+00,  1.0000e+00],\n",
       "        [ 7.2384e+01,  8.5079e+00,  1.0000e+00],\n",
       "        [ 7.4349e-01, -8.6226e-01,  1.0000e+00],\n",
       "        [ 7.0235e+00, -2.6502e+00,  1.0000e+00],\n",
       "        [ 2.5622e-01,  5.0618e-01,  1.0000e+00],\n",
       "        [ 3.2149e+01,  5.6700e+00,  1.0000e+00],\n",
       "        [ 1.7149e+00,  1.3096e+00,  1.0000e+00],\n",
       "        [ 1.1171e+01, -3.3423e+00,  1.0000e+00],\n",
       "        [ 6.9502e+00,  2.6363e+00,  1.0000e+00],\n",
       "        [ 6.3010e+01, -7.9379e+00,  1.0000e+00],\n",
       "        [ 5.6050e+00,  2.3675e+00,  1.0000e+00],\n",
       "        [ 5.4801e+01,  7.4028e+00,  1.0000e+00],\n",
       "        [ 3.0888e-01,  5.5577e-01,  1.0000e+00],\n",
       "        [ 6.0384e+01,  7.7707e+00,  1.0000e+00],\n",
       "        [ 1.8456e-01,  4.2961e-01,  1.0000e+00],\n",
       "        [ 3.6289e+01,  6.0240e+00,  1.0000e+00]])"
      ]
     },
     "execution_count": 50,
     "metadata": {},
     "output_type": "execute_result"
    }
   ],
   "source": [
    "f = torch.stack([x * x, x, torch.ones_like(x)], 1)\n",
    "f"
   ]
  },
  {
   "cell_type": "code",
   "execution_count": 61,
   "id": "a6e40486-2123-422b-b4cc-a2ae8a601031",
   "metadata": {
    "scrolled": true
   },
   "outputs": [
    {
     "data": {
      "text/plain": [
       "tensor([[ 7.8785e+00,  8.2107e+01,  6.6350e+01,  2.7887e+00,  4.1000e+01,\n",
       "          2.2649e+00,  1.7596e+01,  5.4730e-01,  8.7358e+01,  2.4756e+01,\n",
       "          4.8378e+00,  1.0245e+01,  1.6532e+00,  3.7563e+00,  9.7612e+01,\n",
       "          9.3132e+01,  6.3472e+00,  9.4731e+01,  4.5814e+01,  5.9869e+01,\n",
       "          1.2029e-01,  9.7739e+00,  1.4215e+01,  1.2338e+01,  5.5274e+01,\n",
       "          8.0045e+01,  6.6597e+01,  1.1605e+01,  3.6026e+01,  1.0226e-03,\n",
       "          3.2944e+00,  7.4246e+01,  4.7107e+00,  6.7252e+01,  1.8465e+00,\n",
       "          1.3682e+01,  9.5740e+01,  6.3989e+01,  5.6703e+01,  3.2457e+01,\n",
       "          2.5957e+01,  6.2289e+01,  1.3753e-01,  4.5345e+01,  4.6248e+01,\n",
       "          2.8373e+01,  7.5394e+01,  7.6569e+00,  3.2852e+00,  4.0720e+00,\n",
       "          6.3265e+01,  9.9496e+00,  6.6237e+00,  2.5984e+00,  4.5977e+00,\n",
       "          3.2912e+01,  1.3539e+01,  5.5602e+01,  1.7459e+01,  5.8886e+01,\n",
       "          3.7094e+01,  1.0641e+01,  1.7086e+01,  1.9055e+01,  3.6305e+01,\n",
       "          3.5299e+01,  8.4850e+01,  4.0857e+01,  6.0423e+01,  2.7632e-01,\n",
       "          8.2665e+01,  8.7970e+01,  4.5015e+01,  1.3817e+01,  1.7371e+01,\n",
       "          7.3442e+01,  2.2802e+01,  4.2729e+01,  7.6778e+00,  8.9361e+01,\n",
       "          4.0785e+01,  4.3748e+00,  2.5106e+00,  3.7022e+01,  2.0104e+01,\n",
       "          7.2384e+01,  7.4349e-01,  7.0235e+00,  2.5622e-01,  3.2149e+01,\n",
       "          1.7149e+00,  1.1171e+01,  6.9502e+00,  6.3010e+01,  5.6050e+00,\n",
       "          5.4801e+01,  3.0888e-01,  6.0384e+01,  1.8456e-01,  3.6289e+01],\n",
       "        [-2.8069e+00, -9.0613e+00,  8.1456e+00,  1.6699e+00, -6.4031e+00,\n",
       "         -1.5050e+00, -4.1948e+00, -7.3980e-01,  9.3466e+00, -4.9756e+00,\n",
       "         -2.1995e+00, -3.2008e+00,  1.2858e+00, -1.9381e+00, -9.8799e+00,\n",
       "          9.6505e+00, -2.5194e+00,  9.7330e+00,  6.7686e+00, -7.7375e+00,\n",
       "         -3.4683e-01, -3.1263e+00, -3.7703e+00,  3.5126e+00, -7.4346e+00,\n",
       "          8.9468e+00,  8.1607e+00,  3.4066e+00, -6.0022e+00,  3.1979e-02,\n",
       "         -1.8150e+00, -8.6166e+00, -2.1704e+00, -8.2007e+00, -1.3589e+00,\n",
       "         -3.6989e+00, -9.7847e+00, -7.9993e+00,  7.5302e+00, -5.6971e+00,\n",
       "          5.0948e+00, -7.8923e+00, -3.7085e-01,  6.7338e+00, -6.8006e+00,\n",
       "         -5.3266e+00, -8.6830e+00,  2.7671e+00,  1.8125e+00,  2.0179e+00,\n",
       "         -7.9539e+00, -3.1543e+00,  2.5737e+00,  1.6119e+00, -2.1442e+00,\n",
       "          5.7369e+00, -3.6795e+00,  7.4567e+00,  4.1785e+00, -7.6737e+00,\n",
       "         -6.0905e+00,  3.2620e+00, -4.1335e+00, -4.3653e+00,  6.0254e+00,\n",
       "         -5.9413e+00,  9.2114e+00,  6.3920e+00,  7.7732e+00, -5.2566e-01,\n",
       "          9.0921e+00, -9.3792e+00, -6.7093e+00,  3.7172e+00, -4.1679e+00,\n",
       "         -8.5698e+00, -4.7751e+00, -6.5368e+00, -2.7709e+00,  9.4531e+00,\n",
       "         -6.3863e+00,  2.0916e+00, -1.5845e+00, -6.0845e+00,  4.4837e+00,\n",
       "          8.5079e+00, -8.6226e-01, -2.6502e+00,  5.0618e-01,  5.6700e+00,\n",
       "          1.3096e+00, -3.3423e+00,  2.6363e+00, -7.9379e+00,  2.3675e+00,\n",
       "          7.4028e+00,  5.5577e-01,  7.7707e+00,  4.2961e-01,  6.0240e+00],\n",
       "        [ 1.0000e+00,  1.0000e+00,  1.0000e+00,  1.0000e+00,  1.0000e+00,\n",
       "          1.0000e+00,  1.0000e+00,  1.0000e+00,  1.0000e+00,  1.0000e+00,\n",
       "          1.0000e+00,  1.0000e+00,  1.0000e+00,  1.0000e+00,  1.0000e+00,\n",
       "          1.0000e+00,  1.0000e+00,  1.0000e+00,  1.0000e+00,  1.0000e+00,\n",
       "          1.0000e+00,  1.0000e+00,  1.0000e+00,  1.0000e+00,  1.0000e+00,\n",
       "          1.0000e+00,  1.0000e+00,  1.0000e+00,  1.0000e+00,  1.0000e+00,\n",
       "          1.0000e+00,  1.0000e+00,  1.0000e+00,  1.0000e+00,  1.0000e+00,\n",
       "          1.0000e+00,  1.0000e+00,  1.0000e+00,  1.0000e+00,  1.0000e+00,\n",
       "          1.0000e+00,  1.0000e+00,  1.0000e+00,  1.0000e+00,  1.0000e+00,\n",
       "          1.0000e+00,  1.0000e+00,  1.0000e+00,  1.0000e+00,  1.0000e+00,\n",
       "          1.0000e+00,  1.0000e+00,  1.0000e+00,  1.0000e+00,  1.0000e+00,\n",
       "          1.0000e+00,  1.0000e+00,  1.0000e+00,  1.0000e+00,  1.0000e+00,\n",
       "          1.0000e+00,  1.0000e+00,  1.0000e+00,  1.0000e+00,  1.0000e+00,\n",
       "          1.0000e+00,  1.0000e+00,  1.0000e+00,  1.0000e+00,  1.0000e+00,\n",
       "          1.0000e+00,  1.0000e+00,  1.0000e+00,  1.0000e+00,  1.0000e+00,\n",
       "          1.0000e+00,  1.0000e+00,  1.0000e+00,  1.0000e+00,  1.0000e+00,\n",
       "          1.0000e+00,  1.0000e+00,  1.0000e+00,  1.0000e+00,  1.0000e+00,\n",
       "          1.0000e+00,  1.0000e+00,  1.0000e+00,  1.0000e+00,  1.0000e+00,\n",
       "          1.0000e+00,  1.0000e+00,  1.0000e+00,  1.0000e+00,  1.0000e+00,\n",
       "          1.0000e+00,  1.0000e+00,  1.0000e+00,  1.0000e+00,  1.0000e+00]])"
      ]
     },
     "execution_count": 61,
     "metadata": {},
     "output_type": "execute_result"
    }
   ],
   "source": [
    "torch.stack([x * x, x, torch.ones_like(x)])"
   ]
  },
  {
   "cell_type": "code",
   "execution_count": 64,
   "id": "a1b9ea3e-009b-4dab-8ef2-97f6e6f8a630",
   "metadata": {},
   "outputs": [
    {
     "data": {
      "text/plain": [
       "(torch.Size([100, 3]), torch.Size([3, 1]))"
      ]
     },
     "execution_count": 64,
     "metadata": {},
     "output_type": "execute_result"
    }
   ],
   "source": [
    "f.shape, w.shape"
   ]
  },
  {
   "cell_type": "markdown",
   "id": "f3737ddf-59c1-4a2a-a515-6ad4fae44299",
   "metadata": {},
   "source": [
    "#### mat mul"
   ]
  },
  {
   "cell_type": "code",
   "execution_count": 62,
   "id": "9a23e028-6604-4044-bf77-7a640cd896a8",
   "metadata": {
    "scrolled": true
   },
   "outputs": [
    {
     "data": {
      "text/plain": [
       "tensor([[-6.4205e+00],\n",
       "        [-9.6443e+01],\n",
       "        [-9.3317e+01],\n",
       "        [-4.3220e+00],\n",
       "        [-4.5779e+01],\n",
       "        [-4.4676e-01],\n",
       "        [-1.7633e+01],\n",
       "        [ 1.0118e+00],\n",
       "        [-1.2179e+02],\n",
       "        [-2.6138e+01],\n",
       "        [-3.0863e+00],\n",
       "        [-9.0950e+00],\n",
       "        [-2.4620e+00],\n",
       "        [-1.9460e+00],\n",
       "        [-1.1574e+02],\n",
       "        [-1.2958e+02],\n",
       "        [-4.7229e+00],\n",
       "        [-1.3174e+02],\n",
       "        [-6.5284e+01],\n",
       "        [-6.8921e+01],\n",
       "        [ 1.1704e+00],\n",
       "        [-8.5584e+00],\n",
       "        [-1.3673e+01],\n",
       "        [-1.8568e+01],\n",
       "        [-6.3262e+01],\n",
       "        [-1.1189e+02],\n",
       "        [-9.3652e+01],\n",
       "        [-1.7510e+01],\n",
       "        [-3.9728e+01],\n",
       "        [ 9.4388e-01],\n",
       "        [-1.4705e+00],\n",
       "        [-8.6691e+01],\n",
       "        [-2.9505e+00],\n",
       "        [-7.8033e+01],\n",
       "        [-5.0909e-02],\n",
       "        [-1.3053e+01],\n",
       "        [-1.1341e+02],\n",
       "        [-7.4003e+01],\n",
       "        [-8.0180e+01],\n",
       "        [-3.5404e+01],\n",
       "        [-3.7832e+01],\n",
       "        [-7.1904e+01],\n",
       "        [ 1.1722e+00],\n",
       "        [-6.4639e+01],\n",
       "        [-5.2189e+01],\n",
       "        [-3.0478e+01],\n",
       "        [-8.8113e+01],\n",
       "        [-1.1743e+01],\n",
       "        [-5.1099e+00],\n",
       "        [-6.3375e+00],\n",
       "        [-7.3109e+01],\n",
       "        [-8.7582e+00],\n",
       "        [-1.0208e+01],\n",
       "        [-4.0167e+00],\n",
       "        [-2.8303e+00],\n",
       "        [-4.7503e+01],\n",
       "        [-1.2887e+01],\n",
       "        [-7.8676e+01],\n",
       "        [-2.5884e+01],\n",
       "        [-6.7709e+01],\n",
       "        [-4.1025e+01],\n",
       "        [-1.6114e+01],\n",
       "        [-1.7032e+01],\n",
       "        [-1.9355e+01],\n",
       "        [-5.2196e+01],\n",
       "        [-3.8846e+01],\n",
       "        [-1.1840e+02],\n",
       "        [-5.8472e+01],\n",
       "        [-8.5251e+01],\n",
       "        [ 1.1479e+00],\n",
       "        [-1.1544e+02],\n",
       "        [-1.0373e+02],\n",
       "        [-5.0680e+01],\n",
       "        [-2.0693e+01],\n",
       "        [-1.7368e+01],\n",
       "        [-8.5694e+01],\n",
       "        [-2.3804e+01],\n",
       "        [-4.7888e+01],\n",
       "        [-6.1963e+00],\n",
       "        [-1.2449e+02],\n",
       "        [-4.5517e+01],\n",
       "        [-6.8045e+00],\n",
       "        [-6.8554e-01],\n",
       "        [-4.0937e+01],\n",
       "        [-2.9622e+01],\n",
       "        [-1.0151e+02],\n",
       "        [ 8.8053e-01],\n",
       "        [-5.4687e+00],\n",
       "        [ 1.3544e-01],\n",
       "        [-4.6446e+01],\n",
       "        [-2.5660e+00],\n",
       "        [-1.0154e+01],\n",
       "        [-1.0695e+01],\n",
       "        [-7.2794e+01],\n",
       "        [-8.6786e+00],\n",
       "        [-7.7583e+01],\n",
       "        [ 1.7189e-02],\n",
       "        [-8.5198e+01],\n",
       "        [ 3.0550e-01],\n",
       "        [-5.2174e+01]], grad_fn=<MmBackward0>)"
      ]
     },
     "execution_count": 62,
     "metadata": {},
     "output_type": "execute_result"
    }
   ],
   "source": [
    "f @ w"
   ]
  },
  {
   "cell_type": "code",
   "execution_count": 66,
   "id": "5af21a2b-0f92-4f82-91ab-2a26612ce20a",
   "metadata": {},
   "outputs": [
    {
     "data": {
      "text/plain": [
       "tensor([-6.4205e+00, -9.6443e+01, -9.3317e+01, -4.3220e+00, -4.5779e+01,\n",
       "        -4.4676e-01, -1.7633e+01,  1.0118e+00, -1.2179e+02, -2.6138e+01,\n",
       "        -3.0863e+00, -9.0950e+00, -2.4620e+00, -1.9460e+00, -1.1574e+02,\n",
       "        -1.2958e+02, -4.7229e+00, -1.3174e+02, -6.5284e+01, -6.8921e+01,\n",
       "         1.1704e+00, -8.5584e+00, -1.3673e+01, -1.8568e+01, -6.3262e+01,\n",
       "        -1.1189e+02, -9.3652e+01, -1.7510e+01, -3.9728e+01,  9.4388e-01,\n",
       "        -1.4705e+00, -8.6691e+01, -2.9505e+00, -7.8033e+01, -5.0909e-02,\n",
       "        -1.3053e+01, -1.1341e+02, -7.4003e+01, -8.0180e+01, -3.5404e+01,\n",
       "        -3.7832e+01, -7.1904e+01,  1.1722e+00, -6.4639e+01, -5.2189e+01,\n",
       "        -3.0478e+01, -8.8113e+01, -1.1743e+01, -5.1099e+00, -6.3375e+00,\n",
       "        -7.3109e+01, -8.7582e+00, -1.0208e+01, -4.0167e+00, -2.8303e+00,\n",
       "        -4.7503e+01, -1.2887e+01, -7.8676e+01, -2.5884e+01, -6.7709e+01,\n",
       "        -4.1025e+01, -1.6114e+01, -1.7032e+01, -1.9355e+01, -5.2196e+01,\n",
       "        -3.8846e+01, -1.1840e+02, -5.8472e+01, -8.5251e+01,  1.1479e+00,\n",
       "        -1.1544e+02, -1.0373e+02, -5.0680e+01, -2.0693e+01, -1.7368e+01,\n",
       "        -8.5694e+01, -2.3804e+01, -4.7888e+01, -6.1963e+00, -1.2449e+02,\n",
       "        -4.5517e+01, -6.8045e+00, -6.8554e-01, -4.0937e+01, -2.9622e+01,\n",
       "        -1.0151e+02,  8.8053e-01, -5.4687e+00,  1.3544e-01, -4.6446e+01,\n",
       "        -2.5660e+00, -1.0154e+01, -1.0695e+01, -7.2794e+01, -8.6786e+00,\n",
       "        -7.7583e+01,  1.7189e-02, -8.5198e+01,  3.0550e-01, -5.2174e+01],\n",
       "       grad_fn=<SqueezeBackward1>)"
      ]
     },
     "execution_count": 66,
     "metadata": {},
     "output_type": "execute_result"
    }
   ],
   "source": [
    "yhat = torch.squeeze(f @ w, 1)\n",
    "yhat"
   ]
  },
  {
   "cell_type": "code",
   "execution_count": 67,
   "id": "350711bd-43ce-4157-83ec-6cd9240d1f55",
   "metadata": {},
   "outputs": [
    {
     "data": {
      "text/plain": [
       "(torch.Size([100]), torch.Size([100]))"
      ]
     },
     "execution_count": 67,
     "metadata": {},
     "output_type": "execute_result"
    }
   ],
   "source": [
    "yhat.shape, y.shape"
   ]
  },
  {
   "cell_type": "code",
   "execution_count": 68,
   "id": "36a82a9e-d681-476a-8d06-068c7d00e074",
   "metadata": {},
   "outputs": [],
   "source": [
    "loss = torch.nn.functional.mse_loss(yhat, y)\n"
   ]
  },
  {
   "cell_type": "code",
   "execution_count": 69,
   "id": "70890014-0cd8-44e6-b708-ae1cc96d8413",
   "metadata": {},
   "outputs": [
    {
     "data": {
      "text/plain": [
       "tensor(79168.4453, grad_fn=<MseLossBackward0>)"
      ]
     },
     "execution_count": 69,
     "metadata": {},
     "output_type": "execute_result"
    }
   ],
   "source": [
    "loss"
   ]
  },
  {
   "cell_type": "code",
   "execution_count": 70,
   "id": "a76b86d3-835f-4995-a969-9156b727baf1",
   "metadata": {},
   "outputs": [],
   "source": [
    "opt.zero_grad()\n",
    "loss.backward()\n",
    "opt.step()"
   ]
  },
  {
   "cell_type": "code",
   "execution_count": 73,
   "id": "ddcb4346-2c06-4c3b-a4a2-8c21711894fa",
   "metadata": {},
   "outputs": [
    {
     "data": {
      "text/plain": [
       "tensor([[-1.1976],\n",
       "        [-1.1065],\n",
       "        [ 1.0774]], requires_grad=True)"
      ]
     },
     "execution_count": 73,
     "metadata": {},
     "output_type": "execute_result"
    }
   ],
   "source": [
    "w"
   ]
  },
  {
   "cell_type": "markdown",
   "id": "ace7e41f-86f8-4f3f-8eff-2e7f650de642",
   "metadata": {},
   "source": [
    "### model"
   ]
  },
  {
   "cell_type": "code",
   "execution_count": 74,
   "id": "44bb4155-15b9-4495-b170-8596161b45f1",
   "metadata": {},
   "outputs": [
    {
     "ename": "NameError",
     "evalue": "name 'dataset' is not defined",
     "output_type": "error",
     "traceback": [
      "\u001b[1;31m---------------------------------------------------------------------------\u001b[0m",
      "\u001b[1;31mNameError\u001b[0m                                 Traceback (most recent call last)",
      "Cell \u001b[1;32mIn[74], line 1\u001b[0m\n\u001b[1;32m----> 1\u001b[0m \u001b[38;5;28;01mfor\u001b[39;00m \u001b[38;5;28minput\u001b[39m, target \u001b[38;5;129;01min\u001b[39;00m \u001b[43mdataset\u001b[49m:\n\u001b[0;32m      2\u001b[0m     optimizer\u001b[38;5;241m.\u001b[39mzero_grad()   \u001b[38;5;66;03m# Reset gradients to zero to avoid accumulation\u001b[39;00m\n\u001b[0;32m      3\u001b[0m     output \u001b[38;5;241m=\u001b[39m model(\u001b[38;5;28minput\u001b[39m)   \u001b[38;5;66;03m# Forward pass: compute the predicted output\u001b[39;00m\n",
      "\u001b[1;31mNameError\u001b[0m: name 'dataset' is not defined"
     ]
    }
   ],
   "source": [
    "for input, target in dataset:\n",
    "    optimizer.zero_grad()   # Reset gradients to zero to avoid accumulation\n",
    "    output = model(input)   # Forward pass: compute the predicted output\n",
    "    loss = loss_fn(output, target)  # Compute loss\n",
    "    loss.backward()         # Backpropagation: compute gradients\n",
    "    optimizer.step()        # Update parameters based on current gradients"
   ]
  },
  {
   "cell_type": "code",
   "execution_count": 79,
   "id": "249521a8-b9bc-4509-bad2-3cd661cd05cc",
   "metadata": {},
   "outputs": [
    {
     "name": "stderr",
     "output_type": "stream",
     "text": [
      "C:\\Users\\archd\\AppData\\Local\\Temp\\ipykernel_16652\\575479740.py:7: UserWarning: To copy construct from a tensor, it is recommended to use sourceTensor.clone().detach() or sourceTensor.clone().detach().requires_grad_(True), rather than torch.tensor(sourceTensor).\n",
      "  w = torch.tensor(torch.randn([3, 1]), requires_grad=True)\n"
     ]
    },
    {
     "name": "stdout",
     "output_type": "stream",
     "text": [
      "[[ 4.9943714e+00]\n",
      " [-8.7670790e-04]\n",
      " [ 3.3216717e+00]]\n"
     ]
    }
   ],
   "source": [
    "import numpy as np\n",
    "import torch\n",
    "\n",
    "# Assuming we know that the desired function is a polynomial of 2nd degree, we\n",
    "# allocate a vector of size 3 to hold the coefficients and initialize it with\n",
    "# random noise.\n",
    "w = torch.tensor(torch.randn([3, 1]), requires_grad=True)\n",
    "\n",
    "# We use the Adam optimizer with learning rate set to 0.1 to minimize the loss.\n",
    "opt = torch.optim.Adam([w], 0.1)\n",
    "\n",
    "def model(x):\n",
    "    # We define yhat to be our estimate of y.\n",
    "    f = torch.stack([x * x, x, torch.ones_like(x)], 1)\n",
    "    yhat = torch.squeeze(f @ w, 1)\n",
    "    return yhat\n",
    "\n",
    "def compute_loss(y, yhat):\n",
    "    # The loss is defined to be the mean squared error distance between our\n",
    "    # estimate of y and its true value. \n",
    "    loss = torch.nn.functional.mse_loss(yhat, y)\n",
    "    return loss\n",
    "\n",
    "def generate_data():\n",
    "    # Generate some training data based on the true function\n",
    "    x = torch.rand(100) * 20 - 10\n",
    "    y = 5 * x * x + 3\n",
    "    return x, y\n",
    "\n",
    "x, y = generate_data()\n",
    "\n",
    "def train_step():\n",
    "   \n",
    "    yhat = model(x)\n",
    "    loss = compute_loss(y, yhat)\n",
    "\n",
    "    opt.zero_grad()\n",
    "    loss.backward()\n",
    "    opt.step()\n",
    "\n",
    "for _ in range(1000):\n",
    "    train_step()\n",
    "\n",
    "print(w.detach().numpy())"
   ]
  },
  {
   "cell_type": "code",
   "execution_count": 80,
   "id": "777f2a15-f132-4f9f-a538-adb8fe7171e8",
   "metadata": {},
   "outputs": [
    {
     "data": {
      "text/plain": [
       "tensor([[ 4.9944e+00],\n",
       "        [-8.7671e-04],\n",
       "        [ 3.3217e+00]], requires_grad=True)"
      ]
     },
     "execution_count": 80,
     "metadata": {},
     "output_type": "execute_result"
    }
   ],
   "source": [
    "w"
   ]
  },
  {
   "cell_type": "code",
   "execution_count": 81,
   "id": "7cd8ed7e-7865-4fbe-b5d7-cd0974eab2f6",
   "metadata": {},
   "outputs": [
    {
     "data": {
      "text/plain": [
       "tensor([[ 4.9944e+00],\n",
       "        [-8.7671e-04],\n",
       "        [ 3.3217e+00]])"
      ]
     },
     "execution_count": 81,
     "metadata": {},
     "output_type": "execute_result"
    }
   ],
   "source": [
    "w.detach()"
   ]
  },
  {
   "cell_type": "code",
   "execution_count": 85,
   "id": "9116e9ef-61bc-49e2-880c-8298622d0a36",
   "metadata": {},
   "outputs": [
    {
     "data": {
      "text/plain": [
       "tensor([-0.0009])"
      ]
     },
     "execution_count": 85,
     "metadata": {},
     "output_type": "execute_result"
    }
   ],
   "source": [
    "w.detach()[1]"
   ]
  },
  {
   "cell_type": "markdown",
   "id": "1adbffcd-24f7-4a69-b733-fb1c2dcce101",
   "metadata": {},
   "source": [
    "## Modules"
   ]
  },
  {
   "cell_type": "code",
   "execution_count": 94,
   "id": "88d5396e-fbe2-4a1f-8f6a-a89bfb013483",
   "metadata": {},
   "outputs": [],
   "source": [
    "import torch\n",
    "\n",
    "class Net(torch.nn.Module):\n",
    "\n",
    "  def __init__(self):\n",
    "    super().__init__()\n",
    "    self.a = torch.nn.Parameter(torch.rand(1)) #can be accessed as parameters\n",
    "    self.b = torch.nn.Parameter(torch.rand(1))\n",
    "\n",
    "  def forward(self, x):\n",
    "    yhat = self.a * x + self.b\n",
    "    return yhat"
   ]
  },
  {
   "cell_type": "code",
   "execution_count": 95,
   "id": "092d9eef-3da0-4873-85c9-1e76d1308084",
   "metadata": {},
   "outputs": [],
   "source": [
    "x = torch.arange(100, dtype=torch.float32)\n",
    "\n",
    "net = Net()\n",
    "y = net(x)"
   ]
  },
  {
   "cell_type": "code",
   "execution_count": 96,
   "id": "8222ef72-094a-4b95-b9ea-656591f336f2",
   "metadata": {},
   "outputs": [
    {
     "name": "stdout",
     "output_type": "stream",
     "text": [
      "Parameter containing:\n",
      "tensor([0.0862], requires_grad=True)\n",
      "Parameter containing:\n",
      "tensor([0.0406], requires_grad=True)\n"
     ]
    }
   ],
   "source": [
    "for p in net.parameters():\n",
    "    print(p)"
   ]
  },
  {
   "cell_type": "code",
   "execution_count": 97,
   "id": "be15db89-4bdc-4c9f-8de2-01687d07a8be",
   "metadata": {},
   "outputs": [],
   "source": [
    "x = torch.arange(100, dtype=torch.float32) / 100\n",
    "y = 5 * x + 3 + torch.rand(100) * 0.3\n",
    "\n",
    "# lets optimize parametres"
   ]
  },
  {
   "cell_type": "code",
   "execution_count": 98,
   "id": "190ea3c2-2a10-421a-8b9a-2bb53f98d56b",
   "metadata": {},
   "outputs": [
    {
     "name": "stdout",
     "output_type": "stream",
     "text": [
      "Parameter containing:\n",
      "tensor([5.0489], requires_grad=True) Parameter containing:\n",
      "tensor([3.1260], requires_grad=True)\n"
     ]
    }
   ],
   "source": [
    "criterion = torch.nn.MSELoss()\n",
    "optimizer = torch.optim.SGD(net.parameters(), lr=0.01)\n",
    "\n",
    "for i in range(10000):\n",
    "  net.zero_grad()\n",
    "  yhat = net(x)\n",
    "  loss = criterion(yhat, y)\n",
    "  loss.backward()\n",
    "  optimizer.step()\n",
    "\n",
    "print(net.a, net.b) # Should be close to 5 and 3"
   ]
  },
  {
   "cell_type": "code",
   "execution_count": 99,
   "id": "6852f41a-3e31-4047-89ad-558ed7d8d39a",
   "metadata": {},
   "outputs": [
    {
     "data": {
      "text/plain": [
       "tensor([0.0000, 0.0100, 0.0200, 0.0300, 0.0400, 0.0500, 0.0600, 0.0700, 0.0800,\n",
       "        0.0900, 0.1000, 0.1100, 0.1200, 0.1300, 0.1400, 0.1500, 0.1600, 0.1700,\n",
       "        0.1800, 0.1900, 0.2000, 0.2100, 0.2200, 0.2300, 0.2400, 0.2500, 0.2600,\n",
       "        0.2700, 0.2800, 0.2900, 0.3000, 0.3100, 0.3200, 0.3300, 0.3400, 0.3500,\n",
       "        0.3600, 0.3700, 0.3800, 0.3900, 0.4000, 0.4100, 0.4200, 0.4300, 0.4400,\n",
       "        0.4500, 0.4600, 0.4700, 0.4800, 0.4900, 0.5000, 0.5100, 0.5200, 0.5300,\n",
       "        0.5400, 0.5500, 0.5600, 0.5700, 0.5800, 0.5900, 0.6000, 0.6100, 0.6200,\n",
       "        0.6300, 0.6400, 0.6500, 0.6600, 0.6700, 0.6800, 0.6900, 0.7000, 0.7100,\n",
       "        0.7200, 0.7300, 0.7400, 0.7500, 0.7600, 0.7700, 0.7800, 0.7900, 0.8000,\n",
       "        0.8100, 0.8200, 0.8300, 0.8400, 0.8500, 0.8600, 0.8700, 0.8800, 0.8900,\n",
       "        0.9000, 0.9100, 0.9200, 0.9300, 0.9400, 0.9500, 0.9600, 0.9700, 0.9800,\n",
       "        0.9900])"
      ]
     },
     "execution_count": 99,
     "metadata": {},
     "output_type": "execute_result"
    }
   ],
   "source": [
    "x"
   ]
  },
  {
   "cell_type": "code",
   "execution_count": 106,
   "id": "1466b5fc-4784-4e88-af43-e48ea696d4e3",
   "metadata": {
    "scrolled": true
   },
   "outputs": [
    {
     "data": {
      "text/plain": [
       "tensor([[0.0000, 0.0100, 0.0200, 0.0300, 0.0400, 0.0500, 0.0600, 0.0700, 0.0800,\n",
       "         0.0900, 0.1000, 0.1100, 0.1200, 0.1300, 0.1400, 0.1500, 0.1600, 0.1700,\n",
       "         0.1800, 0.1900, 0.2000, 0.2100, 0.2200, 0.2300, 0.2400, 0.2500, 0.2600,\n",
       "         0.2700, 0.2800, 0.2900, 0.3000, 0.3100, 0.3200, 0.3300, 0.3400, 0.3500,\n",
       "         0.3600, 0.3700, 0.3800, 0.3900, 0.4000, 0.4100, 0.4200, 0.4300, 0.4400,\n",
       "         0.4500, 0.4600, 0.4700, 0.4800, 0.4900, 0.5000, 0.5100, 0.5200, 0.5300,\n",
       "         0.5400, 0.5500, 0.5600, 0.5700, 0.5800, 0.5900, 0.6000, 0.6100, 0.6200,\n",
       "         0.6300, 0.6400, 0.6500, 0.6600, 0.6700, 0.6800, 0.6900, 0.7000, 0.7100,\n",
       "         0.7200, 0.7300, 0.7400, 0.7500, 0.7600, 0.7700, 0.7800, 0.7900, 0.8000,\n",
       "         0.8100, 0.8200, 0.8300, 0.8400, 0.8500, 0.8600, 0.8700, 0.8800, 0.8900,\n",
       "         0.9000, 0.9100, 0.9200, 0.9300, 0.9400, 0.9500, 0.9600, 0.9700, 0.9800,\n",
       "         0.9900]])"
      ]
     },
     "execution_count": 106,
     "metadata": {},
     "output_type": "execute_result"
    }
   ],
   "source": [
    "x.unsqueeze(0)"
   ]
  },
  {
   "cell_type": "code",
   "execution_count": 109,
   "id": "9f142cd7-c284-439f-a7cc-0b0ab4fba1be",
   "metadata": {
    "scrolled": true
   },
   "outputs": [
    {
     "data": {
      "text/plain": [
       "tensor([[0.0000],\n",
       "        [0.0100],\n",
       "        [0.0200],\n",
       "        [0.0300],\n",
       "        [0.0400],\n",
       "        [0.0500],\n",
       "        [0.0600],\n",
       "        [0.0700],\n",
       "        [0.0800],\n",
       "        [0.0900],\n",
       "        [0.1000],\n",
       "        [0.1100],\n",
       "        [0.1200],\n",
       "        [0.1300],\n",
       "        [0.1400],\n",
       "        [0.1500],\n",
       "        [0.1600],\n",
       "        [0.1700],\n",
       "        [0.1800],\n",
       "        [0.1900],\n",
       "        [0.2000],\n",
       "        [0.2100],\n",
       "        [0.2200],\n",
       "        [0.2300],\n",
       "        [0.2400],\n",
       "        [0.2500],\n",
       "        [0.2600],\n",
       "        [0.2700],\n",
       "        [0.2800],\n",
       "        [0.2900],\n",
       "        [0.3000],\n",
       "        [0.3100],\n",
       "        [0.3200],\n",
       "        [0.3300],\n",
       "        [0.3400],\n",
       "        [0.3500],\n",
       "        [0.3600],\n",
       "        [0.3700],\n",
       "        [0.3800],\n",
       "        [0.3900],\n",
       "        [0.4000],\n",
       "        [0.4100],\n",
       "        [0.4200],\n",
       "        [0.4300],\n",
       "        [0.4400],\n",
       "        [0.4500],\n",
       "        [0.4600],\n",
       "        [0.4700],\n",
       "        [0.4800],\n",
       "        [0.4900],\n",
       "        [0.5000],\n",
       "        [0.5100],\n",
       "        [0.5200],\n",
       "        [0.5300],\n",
       "        [0.5400],\n",
       "        [0.5500],\n",
       "        [0.5600],\n",
       "        [0.5700],\n",
       "        [0.5800],\n",
       "        [0.5900],\n",
       "        [0.6000],\n",
       "        [0.6100],\n",
       "        [0.6200],\n",
       "        [0.6300],\n",
       "        [0.6400],\n",
       "        [0.6500],\n",
       "        [0.6600],\n",
       "        [0.6700],\n",
       "        [0.6800],\n",
       "        [0.6900],\n",
       "        [0.7000],\n",
       "        [0.7100],\n",
       "        [0.7200],\n",
       "        [0.7300],\n",
       "        [0.7400],\n",
       "        [0.7500],\n",
       "        [0.7600],\n",
       "        [0.7700],\n",
       "        [0.7800],\n",
       "        [0.7900],\n",
       "        [0.8000],\n",
       "        [0.8100],\n",
       "        [0.8200],\n",
       "        [0.8300],\n",
       "        [0.8400],\n",
       "        [0.8500],\n",
       "        [0.8600],\n",
       "        [0.8700],\n",
       "        [0.8800],\n",
       "        [0.8900],\n",
       "        [0.9000],\n",
       "        [0.9100],\n",
       "        [0.9200],\n",
       "        [0.9300],\n",
       "        [0.9400],\n",
       "        [0.9500],\n",
       "        [0.9600],\n",
       "        [0.9700],\n",
       "        [0.9800],\n",
       "        [0.9900]])"
      ]
     },
     "execution_count": 109,
     "metadata": {},
     "output_type": "execute_result"
    }
   ],
   "source": [
    "x.unsqueeze(1)"
   ]
  },
  {
   "cell_type": "code",
   "execution_count": 110,
   "id": "587125f4-0cf8-4ece-9ae5-9abb5b7d85e4",
   "metadata": {},
   "outputs": [],
   "source": [
    "class Net(torch.nn.Module):\n",
    "\n",
    "  def __init__(self):\n",
    "    super().__init__()\n",
    "    self.linear = torch.nn.Linear(1, 1)\n",
    "\n",
    "  def forward(self, x):\n",
    "    yhat = self.linear(x.unsqueeze(1)).squeeze(1)\n",
    "    return yhat"
   ]
  },
  {
   "cell_type": "code",
   "execution_count": 111,
   "id": "a0c6fcab-ee89-421b-a5bc-9a7029e278ce",
   "metadata": {},
   "outputs": [
    {
     "name": "stdout",
     "output_type": "stream",
     "text": [
      "Parameter containing:\n",
      "tensor([[0.3907]], requires_grad=True)\n",
      "Parameter containing:\n",
      "tensor([0.7819], requires_grad=True)\n"
     ]
    }
   ],
   "source": [
    "net = Net()\n",
    "for p in net.parameters():\n",
    "    print(p)"
   ]
  },
  {
   "cell_type": "code",
   "execution_count": 112,
   "id": "d00478f5-3bea-4cba-bd46-a9e801b2e021",
   "metadata": {},
   "outputs": [],
   "source": [
    "model = torch.nn.Sequential(\n",
    "    torch.nn.Linear(64, 32),\n",
    "    torch.nn.ReLU(),\n",
    "    torch.nn.Linear(32, 10),\n",
    ")"
   ]
  },
  {
   "cell_type": "code",
   "execution_count": 113,
   "id": "f2eee574-98c0-4069-914e-3cf4aaec3401",
   "metadata": {},
   "outputs": [
    {
     "data": {
      "text/plain": [
       "Sequential(\n",
       "  (0): Linear(in_features=64, out_features=32, bias=True)\n",
       "  (1): ReLU()\n",
       "  (2): Linear(in_features=32, out_features=10, bias=True)\n",
       ")"
      ]
     },
     "execution_count": 113,
     "metadata": {},
     "output_type": "execute_result"
    }
   ],
   "source": [
    "model"
   ]
  },
  {
   "cell_type": "markdown",
   "id": "d9d2bb64-f000-4df6-8811-7739233e798a",
   "metadata": {},
   "source": [
    "## Broadcasting"
   ]
  },
  {
   "cell_type": "code",
   "execution_count": 117,
   "id": "33d2a4d1-bb45-443a-8a9c-07da235c6582",
   "metadata": {},
   "outputs": [],
   "source": [
    "import torch\n",
    "\n",
    "a = torch.tensor([[1., 2.], [3., 4.]])\n",
    "b = torch.tensor([[1.], [2.]])\n",
    "c1 = a + b.repeat([1, 2])\n",
    "c = a + b"
   ]
  },
  {
   "cell_type": "code",
   "execution_count": 118,
   "id": "af939464-a877-4b4c-9df6-17f4a180fe3e",
   "metadata": {},
   "outputs": [
    {
     "data": {
      "text/plain": [
       "tensor([[2., 3.],\n",
       "        [5., 6.]])"
      ]
     },
     "execution_count": 118,
     "metadata": {},
     "output_type": "execute_result"
    }
   ],
   "source": [
    "c"
   ]
  },
  {
   "cell_type": "code",
   "execution_count": 119,
   "id": "b80f27a8-977a-4eeb-a98c-a3cd2bbc2a50",
   "metadata": {},
   "outputs": [
    {
     "data": {
      "text/plain": [
       "tensor([[2., 3.],\n",
       "        [5., 6.]])"
      ]
     },
     "execution_count": 119,
     "metadata": {},
     "output_type": "execute_result"
    }
   ],
   "source": [
    "c1"
   ]
  },
  {
   "cell_type": "code",
   "execution_count": 122,
   "id": "98f203a0-d18f-4f79-8521-b3a51b00c067",
   "metadata": {},
   "outputs": [],
   "source": [
    "import torch.nn as nn\n",
    "\n",
    "# Define a linear layer with 10 input features and 5 output features\n",
    "linear_layer = nn.Linear(10, 5)\n",
    "\n",
    "# Example input tensor (e.g., a single data point with 10 features)\n",
    "input_tensor = torch.randn(1, 10)\n",
    "\n",
    "# Applying the linear layer\n",
    "output_tensor = linear_layer(input_tensor)\n"
   ]
  },
  {
   "cell_type": "code",
   "execution_count": 123,
   "id": "6a3fb273-4204-40b1-b663-20340eb5bd72",
   "metadata": {},
   "outputs": [
    {
     "data": {
      "text/plain": [
       "tensor([[-0.2088,  0.9938, -0.4504,  1.0474,  1.5581,  1.5831,  1.6051, -0.6723,\n",
       "         -0.1007,  2.0560]])"
      ]
     },
     "execution_count": 123,
     "metadata": {},
     "output_type": "execute_result"
    }
   ],
   "source": [
    "input_tensor"
   ]
  },
  {
   "cell_type": "code",
   "execution_count": 124,
   "id": "ec2f7d87-871f-4672-baa3-186b6064daee",
   "metadata": {},
   "outputs": [
    {
     "data": {
      "text/plain": [
       "Linear(in_features=10, out_features=5, bias=True)"
      ]
     },
     "execution_count": 124,
     "metadata": {},
     "output_type": "execute_result"
    }
   ],
   "source": [
    "linear_layer"
   ]
  },
  {
   "cell_type": "code",
   "execution_count": 125,
   "id": "c654c06b-d549-4ec6-99a7-2cd3be2949a1",
   "metadata": {},
   "outputs": [
    {
     "data": {
      "text/plain": [
       "tensor([[-1.6648, -0.5032,  1.1686,  0.2401, -0.3479]],\n",
       "       grad_fn=<AddmmBackward0>)"
      ]
     },
     "execution_count": 125,
     "metadata": {},
     "output_type": "execute_result"
    }
   ],
   "source": [
    "output_tensor"
   ]
  },
  {
   "cell_type": "code",
   "execution_count": 139,
   "id": "5dc3b0ca-c9d8-4856-9290-c03aae826948",
   "metadata": {},
   "outputs": [],
   "source": [
    "a = torch.rand([5, 3, 5])\n",
    "b = torch.rand([5, 1, 6])\n",
    "\n",
    "linear = torch.nn.Linear(11, 10)\n",
    "\n",
    "# concat a and b and apply nonlinearity\n",
    "tiled_b = b.repeat([1, 3, 1])"
   ]
  },
  {
   "cell_type": "code",
   "execution_count": 140,
   "id": "0a92f6e2-939a-4830-8ab6-c4d1ae0d8b17",
   "metadata": {},
   "outputs": [
    {
     "data": {
      "text/plain": [
       "tensor([[[0.2791, 0.1036, 0.9933, 0.2836, 0.8271, 0.9139]],\n",
       "\n",
       "        [[0.6310, 0.0739, 0.6931, 0.1218, 0.4810, 0.8365]],\n",
       "\n",
       "        [[0.4930, 0.1933, 0.4766, 0.4366, 0.1786, 0.4227]],\n",
       "\n",
       "        [[0.0317, 0.1791, 0.8637, 0.7781, 0.8859, 0.2716]],\n",
       "\n",
       "        [[0.4337, 0.0602, 0.6332, 0.1904, 0.7232, 0.2977]]])"
      ]
     },
     "execution_count": 140,
     "metadata": {},
     "output_type": "execute_result"
    }
   ],
   "source": [
    "b"
   ]
  },
  {
   "cell_type": "code",
   "execution_count": 141,
   "id": "43a83978-23cf-4a5b-a8b1-5391421ac02f",
   "metadata": {},
   "outputs": [
    {
     "data": {
      "text/plain": [
       "torch.Size([5, 1, 6])"
      ]
     },
     "execution_count": 141,
     "metadata": {},
     "output_type": "execute_result"
    }
   ],
   "source": [
    "b.shape"
   ]
  },
  {
   "cell_type": "code",
   "execution_count": 142,
   "id": "c2db2a2a-0daf-414a-90dc-9ad80be1e909",
   "metadata": {},
   "outputs": [
    {
     "data": {
      "text/plain": [
       "tensor([[0.2791, 0.1036, 0.9933, 0.2836, 0.8271, 0.9139]])"
      ]
     },
     "execution_count": 142,
     "metadata": {},
     "output_type": "execute_result"
    }
   ],
   "source": [
    "b[0]"
   ]
  },
  {
   "cell_type": "code",
   "execution_count": 143,
   "id": "0adf6e88-de11-41f5-a391-1ad5473442bd",
   "metadata": {},
   "outputs": [
    {
     "data": {
      "text/plain": [
       "tensor([[[0.2791, 0.1036, 0.9933, 0.2836, 0.8271, 0.9139],\n",
       "         [0.2791, 0.1036, 0.9933, 0.2836, 0.8271, 0.9139],\n",
       "         [0.2791, 0.1036, 0.9933, 0.2836, 0.8271, 0.9139]],\n",
       "\n",
       "        [[0.6310, 0.0739, 0.6931, 0.1218, 0.4810, 0.8365],\n",
       "         [0.6310, 0.0739, 0.6931, 0.1218, 0.4810, 0.8365],\n",
       "         [0.6310, 0.0739, 0.6931, 0.1218, 0.4810, 0.8365]],\n",
       "\n",
       "        [[0.4930, 0.1933, 0.4766, 0.4366, 0.1786, 0.4227],\n",
       "         [0.4930, 0.1933, 0.4766, 0.4366, 0.1786, 0.4227],\n",
       "         [0.4930, 0.1933, 0.4766, 0.4366, 0.1786, 0.4227]],\n",
       "\n",
       "        [[0.0317, 0.1791, 0.8637, 0.7781, 0.8859, 0.2716],\n",
       "         [0.0317, 0.1791, 0.8637, 0.7781, 0.8859, 0.2716],\n",
       "         [0.0317, 0.1791, 0.8637, 0.7781, 0.8859, 0.2716]],\n",
       "\n",
       "        [[0.4337, 0.0602, 0.6332, 0.1904, 0.7232, 0.2977],\n",
       "         [0.4337, 0.0602, 0.6332, 0.1904, 0.7232, 0.2977],\n",
       "         [0.4337, 0.0602, 0.6332, 0.1904, 0.7232, 0.2977]]])"
      ]
     },
     "execution_count": 143,
     "metadata": {},
     "output_type": "execute_result"
    }
   ],
   "source": [
    "tiled_b"
   ]
  },
  {
   "cell_type": "code",
   "execution_count": 146,
   "id": "6ba2855c-cda4-4b20-b6e9-4c5d9d7d18e8",
   "metadata": {},
   "outputs": [
    {
     "data": {
      "text/plain": [
       "tensor([[[0.1106, 0.5821, 0.3970, 0.5055, 0.0507],\n",
       "         [0.9373, 0.9731, 0.4537, 0.6365, 0.8376],\n",
       "         [0.1120, 0.9922, 0.2408, 0.6086, 0.2000]],\n",
       "\n",
       "        [[0.9817, 0.7266, 0.7363, 0.4193, 0.5483],\n",
       "         [0.0100, 0.8953, 0.6534, 0.2833, 0.8950],\n",
       "         [0.9196, 0.6958, 0.5075, 0.1058, 0.1247]],\n",
       "\n",
       "        [[0.4926, 0.3604, 0.8470, 0.3826, 0.9909],\n",
       "         [0.7365, 0.7955, 0.9966, 0.5950, 0.5847],\n",
       "         [0.1638, 0.8862, 0.9742, 0.6937, 0.6358]],\n",
       "\n",
       "        [[0.4838, 0.6866, 0.8910, 0.8888, 0.9326],\n",
       "         [0.5920, 0.9253, 0.0351, 0.7451, 0.8309],\n",
       "         [0.1682, 0.5924, 0.2854, 0.4372, 0.0248]],\n",
       "\n",
       "        [[0.7940, 0.9118, 0.0298, 0.8933, 0.3513],\n",
       "         [0.9799, 0.4836, 0.7677, 0.7462, 0.3504],\n",
       "         [0.5648, 0.0758, 0.2294, 0.9026, 0.0443]]])"
      ]
     },
     "execution_count": 146,
     "metadata": {},
     "output_type": "execute_result"
    }
   ],
   "source": [
    "a"
   ]
  },
  {
   "cell_type": "code",
   "execution_count": 152,
   "id": "777c1652-2c21-4e8d-a8e4-7a650d4daca9",
   "metadata": {},
   "outputs": [],
   "source": [
    "c = torch.cat([a, tiled_b], 2)"
   ]
  },
  {
   "cell_type": "code",
   "execution_count": 153,
   "id": "7049e8ee-c87c-4358-b4fc-ea26217765fc",
   "metadata": {},
   "outputs": [
    {
     "data": {
      "text/plain": [
       "(torch.Size([5, 3, 5]), torch.Size([5, 3, 6]), torch.Size([5, 3, 11]))"
      ]
     },
     "execution_count": 153,
     "metadata": {},
     "output_type": "execute_result"
    }
   ],
   "source": [
    "a.shape, tiled_b.shape, c.shape"
   ]
  },
  {
   "cell_type": "code",
   "execution_count": 154,
   "id": "2b853fdc-d1bd-4978-821a-c15a39e57c1e",
   "metadata": {},
   "outputs": [
    {
     "data": {
      "text/plain": [
       "tensor([[[0.1106, 0.5821, 0.3970, 0.5055, 0.0507, 0.2791, 0.1036, 0.9933,\n",
       "          0.2836, 0.8271, 0.9139],\n",
       "         [0.9373, 0.9731, 0.4537, 0.6365, 0.8376, 0.2791, 0.1036, 0.9933,\n",
       "          0.2836, 0.8271, 0.9139],\n",
       "         [0.1120, 0.9922, 0.2408, 0.6086, 0.2000, 0.2791, 0.1036, 0.9933,\n",
       "          0.2836, 0.8271, 0.9139]],\n",
       "\n",
       "        [[0.9817, 0.7266, 0.7363, 0.4193, 0.5483, 0.6310, 0.0739, 0.6931,\n",
       "          0.1218, 0.4810, 0.8365],\n",
       "         [0.0100, 0.8953, 0.6534, 0.2833, 0.8950, 0.6310, 0.0739, 0.6931,\n",
       "          0.1218, 0.4810, 0.8365],\n",
       "         [0.9196, 0.6958, 0.5075, 0.1058, 0.1247, 0.6310, 0.0739, 0.6931,\n",
       "          0.1218, 0.4810, 0.8365]],\n",
       "\n",
       "        [[0.4926, 0.3604, 0.8470, 0.3826, 0.9909, 0.4930, 0.1933, 0.4766,\n",
       "          0.4366, 0.1786, 0.4227],\n",
       "         [0.7365, 0.7955, 0.9966, 0.5950, 0.5847, 0.4930, 0.1933, 0.4766,\n",
       "          0.4366, 0.1786, 0.4227],\n",
       "         [0.1638, 0.8862, 0.9742, 0.6937, 0.6358, 0.4930, 0.1933, 0.4766,\n",
       "          0.4366, 0.1786, 0.4227]],\n",
       "\n",
       "        [[0.4838, 0.6866, 0.8910, 0.8888, 0.9326, 0.0317, 0.1791, 0.8637,\n",
       "          0.7781, 0.8859, 0.2716],\n",
       "         [0.5920, 0.9253, 0.0351, 0.7451, 0.8309, 0.0317, 0.1791, 0.8637,\n",
       "          0.7781, 0.8859, 0.2716],\n",
       "         [0.1682, 0.5924, 0.2854, 0.4372, 0.0248, 0.0317, 0.1791, 0.8637,\n",
       "          0.7781, 0.8859, 0.2716]],\n",
       "\n",
       "        [[0.7940, 0.9118, 0.0298, 0.8933, 0.3513, 0.4337, 0.0602, 0.6332,\n",
       "          0.1904, 0.7232, 0.2977],\n",
       "         [0.9799, 0.4836, 0.7677, 0.7462, 0.3504, 0.4337, 0.0602, 0.6332,\n",
       "          0.1904, 0.7232, 0.2977],\n",
       "         [0.5648, 0.0758, 0.2294, 0.9026, 0.0443, 0.4337, 0.0602, 0.6332,\n",
       "          0.1904, 0.7232, 0.2977]]])"
      ]
     },
     "execution_count": 154,
     "metadata": {},
     "output_type": "execute_result"
    }
   ],
   "source": [
    "c"
   ]
  },
  {
   "cell_type": "code",
   "execution_count": 155,
   "id": "3e4adabf-f46f-473a-b2c5-71e246dfa777",
   "metadata": {},
   "outputs": [
    {
     "name": "stdout",
     "output_type": "stream",
     "text": [
      "torch.Size([5, 3, 10])\n"
     ]
    }
   ],
   "source": [
    "d = torch.nn.functional.relu(linear(c))\n",
    "\n",
    "print(d.shape) "
   ]
  },
  {
   "cell_type": "code",
   "execution_count": 156,
   "id": "cc3536a6-1b87-4b19-9193-52bcc656351d",
   "metadata": {},
   "outputs": [
    {
     "name": "stdout",
     "output_type": "stream",
     "text": [
      "torch.Size([5, 3, 10])\n"
     ]
    }
   ],
   "source": [
    "a = torch.rand([5, 3, 5])\n",
    "b = torch.rand([5, 1, 6])\n",
    "\n",
    "linear1 = torch.nn.Linear(5, 10)\n",
    "linear2 = torch.nn.Linear(6, 10)\n",
    "\n",
    "pa = linear1(a)\n",
    "pb = linear2(b)\n",
    "d = torch.nn.functional.relu(pa + pb)\n",
    "\n",
    "print(d.shape)"
   ]
  },
  {
   "cell_type": "code",
   "execution_count": 157,
   "id": "f832c898-7292-4aa0-ae2a-3816ef57fe60",
   "metadata": {},
   "outputs": [
    {
     "name": "stdout",
     "output_type": "stream",
     "text": [
      "tensor(12.)\n"
     ]
    }
   ],
   "source": [
    "a = torch.tensor([[1.], [2.]])\n",
    "b = torch.tensor([1., 2.])\n",
    "c = torch.sum(a + b)\n",
    "\n",
    "print(c)"
   ]
  },
  {
   "cell_type": "code",
   "execution_count": 161,
   "id": "dc43d733-37f2-47a4-ae9e-f565088a6083",
   "metadata": {},
   "outputs": [
    {
     "name": "stdout",
     "output_type": "stream",
     "text": [
      "tensor([5., 7.])\n"
     ]
    }
   ],
   "source": [
    "a = torch.tensor([[1.], [2.]])\n",
    "b = torch.tensor([1., 2.])\n",
    "c = torch.sum(a + b, 0)\n",
    "\n",
    "print(c)"
   ]
  },
  {
   "cell_type": "code",
   "execution_count": 164,
   "id": "36cdc5d9-b306-44e1-9e4b-5b5e20f22d82",
   "metadata": {},
   "outputs": [
    {
     "data": {
      "text/plain": [
       "tensor([5., 7.])"
      ]
     },
     "execution_count": 164,
     "metadata": {},
     "output_type": "execute_result"
    }
   ],
   "source": [
    "a = torch.tensor([[1.], [2.]])\n",
    "b = torch.tensor([[1., 2.], [1., 2.]])\n",
    "torch.sum(a + b, 1)\n"
   ]
  },
  {
   "cell_type": "code",
   "execution_count": 165,
   "id": "36cacad1-2abc-4ed4-afa5-46b19714048d",
   "metadata": {},
   "outputs": [
    {
     "ename": "SyntaxError",
     "evalue": "invalid syntax. Perhaps you forgot a comma? (435586646.py, line 1)",
     "output_type": "error",
     "traceback": [
      "\u001b[1;36m  Cell \u001b[1;32mIn[165], line 1\u001b[1;36m\u001b[0m\n\u001b[1;33m    [1, 1\u001b[0m\n\u001b[1;37m        ^\u001b[0m\n\u001b[1;31mSyntaxError\u001b[0m\u001b[1;31m:\u001b[0m invalid syntax. Perhaps you forgot a comma?\n"
     ]
    }
   ],
   "source": [
    "[1, 1\n",
    " 2, 2\n",
    " 1, 2\n",
    " 1, 2]"
   ]
  },
  {
   "cell_type": "code",
   "execution_count": null,
   "id": "e5dd7924-0fb4-465a-969f-eb20c342da30",
   "metadata": {},
   "outputs": [],
   "source": []
  }
 ],
 "metadata": {
  "kernelspec": {
   "display_name": "Python 3 (ipykernel)",
   "language": "python",
   "name": "python3"
  },
  "language_info": {
   "codemirror_mode": {
    "name": "ipython",
    "version": 3
   },
   "file_extension": ".py",
   "mimetype": "text/x-python",
   "name": "python",
   "nbconvert_exporter": "python",
   "pygments_lexer": "ipython3",
   "version": "3.12.1"
  }
 },
 "nbformat": 4,
 "nbformat_minor": 5
}
