{
 "cells": [
  {
   "cell_type": "code",
   "execution_count": 2,
   "id": "6ab82064-e1d3-4c3c-a11b-0f96fc4e86fe",
   "metadata": {},
   "outputs": [
    {
     "name": "stdout",
     "output_type": "stream",
     "text": [
      "Collecting neo4j\n",
      "  Downloading neo4j-5.18.0.tar.gz (198 kB)\n",
      "     ---------------------------------------- 0.0/198.0 kB ? eta -:--:--\n",
      "     ------------------------------------  194.6/198.0 kB 11.5 MB/s eta 0:00:01\n",
      "     -------------------------------------- 198.0/198.0 kB 3.0 MB/s eta 0:00:00\n",
      "  Installing build dependencies: started\n",
      "  Installing build dependencies: finished with status 'done'\n",
      "  Getting requirements to build wheel: started\n",
      "  Getting requirements to build wheel: finished with status 'done'\n",
      "  Installing backend dependencies: started\n",
      "  Installing backend dependencies: finished with status 'done'\n",
      "  Preparing metadata (pyproject.toml): started\n",
      "  Preparing metadata (pyproject.toml): finished with status 'done'\n",
      "Requirement already satisfied: pytz in c:\\users\\archd\\miniconda3\\lib\\site-packages (from neo4j) (2024.1)\n",
      "Building wheels for collected packages: neo4j\n",
      "  Building wheel for neo4j (pyproject.toml): started\n",
      "  Building wheel for neo4j (pyproject.toml): finished with status 'done'\n",
      "  Created wheel for neo4j: filename=neo4j-5.18.0-py3-none-any.whl size=273889 sha256=c24edac43dd4744e5b0a1808fb16bf755caa0698f16d523d09500e382482f3fe\n",
      "  Stored in directory: c:\\users\\archd\\appdata\\local\\pip\\cache\\wheels\\bc\\41\\a2\\3889192f7b44abc1f69898338e5b3e183a426a4574bd9d3cd1\n",
      "Successfully built neo4j\n",
      "Installing collected packages: neo4j\n",
      "Successfully installed neo4j-5.18.0\n"
     ]
    }
   ],
   "source": [
    "!pip install neo4j"
   ]
  },
  {
   "cell_type": "code",
   "execution_count": 10,
   "id": "6d06e138-9c8b-485e-ab1e-f9e182985bb4",
   "metadata": {},
   "outputs": [],
   "source": [
    "from dotenv import load_dotenv"
   ]
  },
  {
   "cell_type": "code",
   "execution_count": 11,
   "id": "2225b7e0-fad4-4465-b2e9-c4d23a3f970d",
   "metadata": {},
   "outputs": [],
   "source": [
    "from neo4j import GraphDatabase\n",
    "\n",
    "class HelloWorldExample:\n",
    "\n",
    "    def __init__(self, uri, user, password):\n",
    "        self.driver = GraphDatabase.driver(uri, auth=(user, password))\n",
    "\n",
    "    def close(self):\n",
    "        self.driver.close()\n",
    "\n",
    "    def print_greeting(self, message):\n",
    "        with self.driver.session() as session:\n",
    "            greeting = session.write_transaction(self._create_and_return_greeting, message)\n",
    "            print(greeting)\n",
    "\n",
    "    @staticmethod\n",
    "    def _create_and_return_greeting(tx, message):\n",
    "        result = tx.run(\"CREATE (a:Greeting) \"\n",
    "                        \"SET a.message = $message \"\n",
    "                        \"RETURN a.message + ', from node ' + id(a)\", message=message)\n",
    "        return result.single()[0]"
   ]
  },
  {
   "cell_type": "code",
   "execution_count": 4,
   "id": "4a0b3853-0659-4562-8116-24940a0b0af7",
   "metadata": {},
   "outputs": [
    {
     "name": "stderr",
     "output_type": "stream",
     "text": [
      "C:\\Users\\archd\\AppData\\Local\\Temp\\ipykernel_24480\\2724527310.py:13: DeprecationWarning: write_transaction has been renamed to execute_write\n",
      "  greeting = session.write_transaction(self._create_and_return_greeting, message)\n"
     ]
    },
    {
     "name": "stdout",
     "output_type": "stream",
     "text": [
      "hello, world, from node 0\n"
     ]
    }
   ],
   "source": [
    "load_dotenv('.env', override=True)\n",
    "\n",
    "NEO4J_URI = os.getenv('NEO4J_URI')\n",
    "NEO4J_USERNAME = os.getenv('NEO4J_USERNAME')\n",
    "NEO4J_PASSWORD = os.getenv('NEO4J_PASSWORD')\n",
    "NEO4J_DATABASE = os.getenv('NEO4J_DATABASE')\n",
    "\n",
    "greeter = HelloWorldExample(NEO4J_URI,NEO4J_USERNAME,NEO4J_PASSWORD)\n",
    "greeter.print_greeting(\"hello, world\")\n",
    "greeter.close()"
   ]
  }
 ],
 "metadata": {
  "kernelspec": {
   "display_name": "Python 3 (ipykernel)",
   "language": "python",
   "name": "python3"
  },
  "language_info": {
   "codemirror_mode": {
    "name": "ipython",
    "version": 3
   },
   "file_extension": ".py",
   "mimetype": "text/x-python",
   "name": "python",
   "nbconvert_exporter": "python",
   "pygments_lexer": "ipython3",
   "version": "3.12.1"
  }
 },
 "nbformat": 4,
 "nbformat_minor": 5
}
