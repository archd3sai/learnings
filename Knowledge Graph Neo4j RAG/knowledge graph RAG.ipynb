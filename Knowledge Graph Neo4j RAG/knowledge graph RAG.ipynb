{
 "cells": [
  {
   "cell_type": "code",
   "execution_count": 37,
   "id": "0c762961-3e2e-4c70-8cce-92c59d0f4ba2",
   "metadata": {},
   "outputs": [],
   "source": [
    "from dotenv import load_dotenv\n",
    "import os\n",
    "\n",
    "import textwrap\n",
    "\n",
    "# Langchain\n",
    "from langchain_community.graphs import Neo4jGraph\n",
    "from langchain_community.vectorstores import Neo4jVector\n",
    "from langchain_openai import OpenAIEmbeddings\n",
    "from langchain.chains import RetrievalQAWithSourcesChain\n",
    "from langchain.prompts.prompt import PromptTemplate\n",
    "from langchain.chains import LLMChain\n",
    "from langchain_openai import ChatOpenAI\n",
    "\n",
    "import openai\n",
    "\n",
    "# Warning control\n",
    "import warnings\n",
    "warnings.filterwarnings(\"ignore\")"
   ]
  },
  {
   "cell_type": "code",
   "execution_count": 2,
   "id": "c1d1ebf7-1f7d-4102-b1fd-f9203a411edf",
   "metadata": {},
   "outputs": [],
   "source": [
    "# Load from environment\n",
    "load_dotenv('.env', override=True)\n",
    "NEO4J_URI = os.getenv('NEO4J_URI')\n",
    "NEO4J_USERNAME = os.getenv('NEO4J_USERNAME')\n",
    "NEO4J_PASSWORD = os.getenv('NEO4J_PASSWORD')\n",
    "NEO4J_DATABASE = 'neo4j'\n",
    "OPENAI_API_KEY = os.getenv('OPENAI_API_KEY')"
   ]
  },
  {
   "cell_type": "code",
   "execution_count": 3,
   "id": "01246589-4b61-4145-87ef-a891dd78d4a6",
   "metadata": {},
   "outputs": [],
   "source": [
    "kg = Neo4jGraph(\n",
    "    url=NEO4J_URI, username=NEO4J_USERNAME, password=NEO4J_PASSWORD, database=NEO4J_DATABASE\n",
    ")"
   ]
  },
  {
   "cell_type": "code",
   "execution_count": 4,
   "id": "c4306d37-2694-4eb5-91c7-0169f87d5da1",
   "metadata": {},
   "outputs": [
    {
     "name": "stdout",
     "output_type": "stream",
     "text": [
      "Node properties are the following: Chunk {title: STRING,\n",
      "textEmbedding: LIST, chunkId: STRING, source: STRING,\n",
      "topics: LIST, chunkSeqId: INTEGER, text: STRING},Title\n",
      "{title: STRING, source: STRING, topics: LIST, summary:\n",
      "STRING},Topic {name: STRING} Relationship properties are the\n",
      "following:  The relationships are the following: (:Chunk)-\n",
      "[:NEXT]->(:Chunk),(:Chunk)-[:PART_OF]->(:Title),(:Title)-\n",
      "[:RELATED_TO]->(:Topic),(:Title)-[:START]->(:Chunk)\n"
     ]
    }
   ],
   "source": [
    "kg.refresh_schema()\n",
    "print(textwrap.fill(kg.schema, 60))"
   ]
  },
  {
   "cell_type": "markdown",
   "id": "e97af7ed-f203-42da-b4f8-e97cf1805f7b",
   "metadata": {},
   "source": [
    "## Example Quesries"
   ]
  },
  {
   "cell_type": "markdown",
   "id": "09bdd1ef-8e69-4e93-9424-19f6b2333b3e",
   "metadata": {},
   "source": [
    "### Cypher Queries"
   ]
  },
  {
   "cell_type": "code",
   "execution_count": 7,
   "id": "9a3dbb6f-29b7-4631-ad92-ceac0ed87404",
   "metadata": {},
   "outputs": [
    {
     "data": {
      "text/plain": [
       "[{'t': {'summary': 'In common usage, data (US: ; UK: ) is a collection of discrete or continuous values that convey information, describing the quantity, quality, fact, statistics, other basic units of meaning, or simply sequences of symbols that may be further interpreted formally.  A datum is an individual value in a collection of data. Data is usually organized into structures such as tables that provide additional context and meaning, and which may themselves be used as data in larger structures. Data may be used as variables in a computational process. Data may represent abstract ideas or concrete measurements.\\nData is commonly used in scientific research, economics, and in virtually every other form of human organizational activity.  Examples of data sets include price indices (such as consumer price index), unemployment rates, literacy rates, and census data. In this context, data represents the raw facts and figures from which useful information can be extracted. \\nData is collected using techniques such as measurement, observation, query, or analysis, and is typically represented as numbers or characters which may be further processed. Field data is data that is collected in an uncontrolled in-situ environment. Experimental data is data that is generated in the course of a controlled scientific experiment.  Data is analyzed using techniques such as calculation, reasoning, discussion, presentation, visualization, or other forms of post-analysis.  Prior to analysis, raw data (or unprocessed data) is typically cleaned: Outliers are removed and obvious instrument or data entry errors are corrected.\\nData can be seen as the smallest units of factual information that can be used as a basis for calculation, reasoning, or discussion. Data can range from abstract ideas to concrete measurements, including, but not limited to, statistics. Thematically connected data presented in some relevant context can be viewed as information. Contextually connected pieces of information can then be described as data insights or intelligence. The stock of insights and intelligence that accumulates over time resulting from the synthesis of data into information, can then be described as knowledge. Data has been described as \"the new oil of the digital economy\". Data, as a general concept, refers to the fact that some existing information or knowledge is represented or coded in some form suitable for better usage or processing.\\nAdvances in computing technologies have led to the advent of big data, which usually refers to very large quantities of data, usually at the petabyte scale. Using traditional data analysis methods and computing, working with such large (and growing) datasets is difficult, even impossible. (Theoretically speaking, infinite data would yield infinite information, which would render extracting insights or intelligence impossible.) In response, the relatively new field of data science uses machine learning (and other artificial intelligence (AI)) methods that allow for efficient applications of analytic methods to big data.\\n\\n',\n",
       "   'topics': ['data', 'uses-of-data', 'big-data'],\n",
       "   'source': 'https://en.wikipedia.org/wiki/Data',\n",
       "   'title': 'Data'}}]"
      ]
     },
     "execution_count": 7,
     "metadata": {},
     "output_type": "execute_result"
    }
   ],
   "source": [
    "kg.query(\"\"\"\n",
    "MATCH (t:Title)-[:RELATED_TO]->(top:Topic)\n",
    "WHERE top.name = 'data'\n",
    "RETURN t\n",
    "\"\"\")"
   ]
  },
  {
   "cell_type": "code",
   "execution_count": 8,
   "id": "283ecc4a-a300-4fe3-8bfe-3e7d48f57295",
   "metadata": {},
   "outputs": [
    {
     "data": {
      "text/plain": [
       "[{'t.summary': 'In common usage, data (US: ; UK: ) is a collection of discrete or continuous values that convey information, describing the quantity, quality, fact, statistics, other basic units of meaning, or simply sequences of symbols that may be further interpreted formally.  A datum is an individual value in a collection of data. Data is usually organized into structures such as tables that provide additional context and meaning, and which may themselves be used as data in larger structures. Data may be used as variables in a computational process. Data may represent abstract ideas or concrete measurements.\\nData is commonly used in scientific research, economics, and in virtually every other form of human organizational activity.  Examples of data sets include price indices (such as consumer price index), unemployment rates, literacy rates, and census data. In this context, data represents the raw facts and figures from which useful information can be extracted. \\nData is collected using techniques such as measurement, observation, query, or analysis, and is typically represented as numbers or characters which may be further processed. Field data is data that is collected in an uncontrolled in-situ environment. Experimental data is data that is generated in the course of a controlled scientific experiment.  Data is analyzed using techniques such as calculation, reasoning, discussion, presentation, visualization, or other forms of post-analysis.  Prior to analysis, raw data (or unprocessed data) is typically cleaned: Outliers are removed and obvious instrument or data entry errors are corrected.\\nData can be seen as the smallest units of factual information that can be used as a basis for calculation, reasoning, or discussion. Data can range from abstract ideas to concrete measurements, including, but not limited to, statistics. Thematically connected data presented in some relevant context can be viewed as information. Contextually connected pieces of information can then be described as data insights or intelligence. The stock of insights and intelligence that accumulates over time resulting from the synthesis of data into information, can then be described as knowledge. Data has been described as \"the new oil of the digital economy\". Data, as a general concept, refers to the fact that some existing information or knowledge is represented or coded in some form suitable for better usage or processing.\\nAdvances in computing technologies have led to the advent of big data, which usually refers to very large quantities of data, usually at the petabyte scale. Using traditional data analysis methods and computing, working with such large (and growing) datasets is difficult, even impossible. (Theoretically speaking, infinite data would yield infinite information, which would render extracting insights or intelligence impossible.) In response, the relatively new field of data science uses machine learning (and other artificial intelligence (AI)) methods that allow for efficient applications of analytic methods to big data.\\n\\n'}]"
      ]
     },
     "execution_count": 8,
     "metadata": {},
     "output_type": "execute_result"
    }
   ],
   "source": [
    "kg.query(\"\"\"\n",
    "MATCH (t:Title)-[:RELATED_TO]->(top:Topic)\n",
    "WHERE top.name = 'data'\n",
    "RETURN t.summary\n",
    "\"\"\")"
   ]
  },
  {
   "cell_type": "markdown",
   "id": "92bc6da0-1cd6-4971-baa9-866f146a4ea8",
   "metadata": {},
   "source": [
    "### Vector Embedddings"
   ]
  },
  {
   "cell_type": "code",
   "execution_count": 9,
   "id": "a945a3c2-13a3-4f3a-b1c4-2bce15b90cc0",
   "metadata": {},
   "outputs": [],
   "source": [
    "def get_embedding(text, model=\"text-embedding-3-small\"):\n",
    "   text = text.replace(\"\\n\", \" \")\n",
    "   return openai.embeddings.create(input=[text], model=model).data[0].embedding\n"
   ]
  },
  {
   "cell_type": "code",
   "execution_count": 18,
   "id": "fa194689-3ba8-4037-a94b-02b26931ab07",
   "metadata": {},
   "outputs": [],
   "source": [
    "def neo4j_vector_search(question):\n",
    "    \"\"\"Search for similar nodes using the Neo4j vector index\"\"\"\n",
    "\n",
    "    question_embedding = get_embedding(question)\n",
    "    \n",
    "    vector_search_query = \"\"\"\n",
    "        CALL db.index.vector.queryNodes($index_name, $top_k, $question_embedding) yield node, score\n",
    "        RETURN score, node.text AS text\n",
    "        \"\"\"\n",
    "    similar = kg.query(vector_search_query, \n",
    "                     params={\n",
    "                      'question_embedding': question_embedding, \n",
    "                      'index_name':'chunks_embedding_vector', \n",
    "                      'top_k': 10})\n",
    "    return similar"
   ]
  },
  {
   "cell_type": "code",
   "execution_count": 19,
   "id": "bce5440a-2a03-43a3-ad99-a3353ede63b2",
   "metadata": {},
   "outputs": [],
   "source": [
    "que = \"what should I do prior to machine learning modeling?\"\n",
    "res = neo4j_vector_search(que)"
   ]
  },
  {
   "cell_type": "code",
   "execution_count": 20,
   "id": "1aaba590-6c52-4705-84e2-e66c19ccac9d",
   "metadata": {
    "scrolled": true
   },
   "outputs": [
    {
     "data": {
      "text/plain": [
       "[{'score': 0.7362073659896851,\n",
       "  'text': \"Machine learning (ML) is a field of study in artificial intelligence concerned with the development and study of statistical algorithms that can learn from data and generalize to unseen data, and thus perform tasks without explicit instructions. Recently, artificial neural networks have been able to surpass many previous approaches in performance.Machine learning approaches have been applied to many fields including natural language processing, computer vision, speech recognition, email filtering, agriculture, and medicine. ML is known in its application across business problems under the name predictive analytics. Although not all machine learning is statistically based, computational statistics is an important source of the field's methods.\\nThe mathematical foundations of ML are provided by mathematical optimization (mathematical programming) methods. Data mining is a related (parallel) field of study, focusing on exploratory data analysis (EDA) through unsupervised learning.From a theoretical viewpoint, probably approximately correct (PAC) learning provides a framework for describing machine learning.\\n\\n\\n== History ==\"},\n",
       " {'score': 0.7166019082069397,\n",
       "  'text': 'The term machine learning was coined in 1959 by Arthur Samuel, an IBM employee and pioneer in the field of computer gaming and artificial intelligence. The synonym self-teaching computers was also used in this time period.Although the earliest machine learning model was introduced in the 1950s when Arthur Samuel invented a program that calculated the winning chance in checkers for each side, the history of machine learning roots back to decades of human desire and effort to study human cognitive processes. In 1949, Canadian psychologist Donald Hebb published the book The Organization of Behavior, in which he introduced a theoretical neural structure formed by certain interactions among nerve cells. Hebb\\'s model of neurons interacting with one another set a groundwork for how AIs and machine learning algorithms work under nodes, or artificial neurons used by computers to communicate data. Other researchers who have studied human cognitive systems contributed to the modern machine learning technologies as well, including logician Walter Pitts and Warren McCulloch, who proposed the early mathematical models of neural networks to come up with algorithms that mirror human thought processes.By the early 1960s an experimental \"learning machine\" with punched tape memory, called Cybertron, had been developed by Raytheon Company to analyze sonar signals, electrocardiograms, and speech patterns using rudimentary reinforcement learning. It was repetitively \"trained\" by a human operator/teacher to recognize patterns and equipped with a \"goof\" button to cause it to re-evaluate incorrect decisions. A representative book on research into machine learning during the 1960s was Nilsson\\'s book on Learning Machines, dealing mostly with machine learning for pattern classification. Interest related to pattern recognition continued into the 1970s, as described by Duda and Hart in 1973. In 1981 a report was given on using teaching strategies so that an artificial neural network learns to'},\n",
       " {'score': 0.6976733207702637,\n",
       "  'text': 'related to pattern recognition continued into the 1970s, as described by Duda and Hart in 1973. In 1981 a report was given on using teaching strategies so that an artificial neural network learns to recognize 40 characters (26 letters, 10 digits, and 4 special symbols) from a computer terminal.Tom M. Mitchell provided a widely quoted, more formal definition of the algorithms studied in the machine learning field: \"A computer program is said to learn from experience E with respect to some class of tasks T and performance measure P if its performance at tasks in T, as measured by P,  improves with experience E.\" This definition of the tasks in which machine learning is concerned offers a fundamentally operational definition rather than defining the field in cognitive terms. This follows Alan Turing\\'s proposal in his paper \"Computing Machinery and Intelligence\", in which the question \"Can machines think?\" is replaced with the question \"Can machines do what we (as thinking entities) can do?\".Modern-day machine learning has two objectives.  One is to'},\n",
       " {'score': 0.6838512420654297,\n",
       "  'text': '== Machine learning with quantum computers ==\\nQuantum-enhanced machine learning refers to quantum algorithms that solve tasks in machine learning, thereby improving and often expediting classical machine learning techniques. Such algorithms typically require one to encode the given classical data set into a quantum computer to make it accessible for quantum information processing. Subsequently, quantum information processing routines are applied and the result of the quantum computation is read out by measuring the quantum system. For example, the outcome of the measurement of a qubit reveals the result of a binary classification task. While many proposals of quantum machine learning algorithms are still purely theoretical and require a full-scale universal quantum computer to be tested, others have been implemented on small-scale or special purpose quantum devices.'},\n",
       " {'score': 0.6819766759872437,\n",
       "  'text': 'Quantum machine learning is the integration of quantum algorithms within machine learning programs.The most common use of the term refers to machine learning algorithms for the analysis of classical data executed on a quantum computer, i.e. quantum-enhanced machine learning. While machine learning algorithms are used to compute immense quantities of data, quantum machine learning utilizes qubits and quantum operations or specialized quantum systems to improve computational speed and data storage done by algorithms in a program. This includes hybrid methods that involve both classical and quantum processing, where computationally difficult subroutines are outsourced to a quantum device. These routines can be more complex in nature and executed faster on a quantum computer. Furthermore, quantum algorithms can be used to analyze quantum states instead of classical data.Beyond quantum computing, the term \"quantum machine learning\" is also associated with classical machine learning methods applied to data generated from quantum experiments (i.e. machine learning of quantum systems), such as learning the phase transitions of a quantum system or creating new quantum experiments.Quantum machine learning also extends to a branch of research that explores methodological and structural similarities between certain physical systems and learning systems, in particular neural networks. For example, some mathematical and numerical techniques from quantum physics are applicable to classical deep learning and vice versa.Furthermore, researchers investigate more abstract notions of learning theory with respect to quantum information, sometimes referred to as \"quantum learning theory\".'},\n",
       " {'score': 0.6780824661254883,\n",
       "  'text': 'In machine learning, a neural network (also artificial neural network or neural net, abbreviated ANN or NN) is a model inspired by the neuronal organization found in the biological neural networks in animal brains.An ANN is made of connected units or nodes called artificial neurons, which loosely model the neurons in a brain. These are connected by edges, which model the synapses in a brain. An artificial neuron receives signals from connected neurons, then processes them and sends a signal to other connected neurons. The \"signal\" is a real number, and the output of each neuron is computed by some non-linear function of the sum of its inputs, called the activation function. Neurons and edges typically have a weight that adjusts as learning proceeds. The weight increases or decreases the strength of the signal at a connection.\\nTypically, neurons are aggregated into layers. Different layers may perform different transformations on their inputs. Signals travel from the first layer (the input layer) to the last layer (the output layer), possibly passing through multiple intermediate layers (hidden layers). A network is typically called a deep neural network if it has at least 2 hidden layers.Artificial neural networks are used for predictive modeling, adaptive control, and other applications where they can be trained via a dataset. They are also used to solve problems in artificial intelligence. Networks can learn from experience, and can derive conclusions from a complex and seemingly unrelated set of information.'},\n",
       " {'score': 0.6684057712554932,\n",
       "  'text': '== History ==\\n\\nHistorically, digital computers evolved from the von Neumann model, and operate via the execution of explicit instructions via access to memory by a number of processors. Neural networks, on the other hand, originated from efforts to model information processing in biological systems through the framework of connectionism. Unlike the von Neumann model, connectionist computing does not separate memory and processing.\\nThe simplest kind of feedforward neural network (FNN) is a linear network, which consists of a single layer of output nodes; the inputs are fed directly to the outputs via a series of weights. The sum of the products of the weights and the inputs is calculated at each node. The mean squared errors between these calculated outputs and the given target values are minimized by creating an adjustment to the weights. This technique has been known for over two centuries as the method of least squares or linear regression. It was used as a means of finding a good rough linear fit to a set of points by Legendre (1805) and Gauss (1795) for the prediction of planetary movement.Warren McCulloch and Walter Pitts (1943) also considered a non-learning computational model for neural networks.In the late 1940s, D. O. Hebb created a learning hypothesis based on the mechanism of neural plasticity that became known as Hebbian learning. Hebbian learning is considered to be a \\'typical\\' unsupervised learning rule and its later variants were early models for long term potentiation. These ideas started being applied to computational models in 1948 with Turing\\'s \"unorganized machines\". Farley and Wesley A. Clark were the first to simulate a Hebbian network in 1954 at MIT. They used computational machines, then called \"calculators\". Other neural network computational machines were created by Rochester, Holland, Habit, and Duda i'},\n",
       " {'score': 0.6651675701141357,\n",
       "  'text': \"== Training ==\\nNeural networks are typically trained through empirical risk minimization. This method is based on the idea of optimizing the network's parameters to minimize the difference, or empirical risk, between the predicted output and the actual target values in a given dataset. Gradient based methods such as backpropagation are usually used to estimate the parameters of the network. During the training phase, ANNs learn from labeled training data by iteratively updating their parameters to minimize a defined loss function. This method allows the network to generalize to unseen data.\\n\\n\\n== History ==\"},\n",
       " {'score': 0.6395308971405029,\n",
       "  'text': '== Foundations ==\\nData science is an interdisciplinary field focused on extracting knowledge from typically large data sets and applying the knowledge and insights from that data to solve problems in a wide range of application domains. The field encompasses preparing data for analysis, formulating data science problems, analyzing data, developing data-driven solutions, and presenting findings to inform high-level decisions in a broad range of application domains. As such, it incorporates skills from computer science, statistics, information science, mathematics, data visualization, information visualization, data sonification, data integration, graphic design, complex systems, communication and business. Statistician Nathan Yau, drawing on Ben Fry, also links data science to human–computer interaction: users should be able to intuitively control and explore data. In 2015, the American Statistical Association identified database management, statistics and machine learning, and distributed and parallel systems as the three emerging foundational professional communities.'},\n",
       " {'score': 0.6238218545913696,\n",
       "  'text': 'Data science is an interdisciplinary academic field that uses statistics, scientific computing, scientific methods, processes, algorithms and systems to extract or extrapolate knowledge and insights from potentially noisy, structured, or unstructured data.Data science also integrates domain knowledge from the underlying application domain (e.g., natural sciences, information technology, and medicine). Data science is multifaceted and can be described as a science, a research paradigm, a research method, a discipline, a workflow, and a profession.Data science is \"a concept to unify statistics, data analysis, informatics, and their related methods\" to \"understand and analyze actual phenomena\" with data. It uses techniques and theories drawn from many fields within the context of mathematics, statistics, computer science, information science, and domain knowledge. However, data science is different from computer science and information science. Turing Award winner Jim Gray imagined data science as a \"fourth paradigm\" of science (empirical, theoretical, computational, and now data-driven) and asserted that \"everything about science is changing because of the impact of information technology\" and the data deluge.A  data scientist is a professional who creates programming code and combines it with statistical knowledge to create insights from data.'}]"
      ]
     },
     "execution_count": 20,
     "metadata": {},
     "output_type": "execute_result"
    }
   ],
   "source": [
    "res"
   ]
  },
  {
   "cell_type": "code",
   "execution_count": 24,
   "id": "bf7e4242-53a2-463d-bd51-6392a3e24e65",
   "metadata": {},
   "outputs": [],
   "source": [
    "def neo4j_vector_search_with_nebrs(question):\n",
    "    \"\"\"Search for similar nodes using the Neo4j vector index\"\"\"\n",
    "\n",
    "    question_embedding = get_embedding(question)\n",
    "    \n",
    "    vector_search_query = \"\"\"\n",
    "        CALL db.index.vector.queryNodes($index_name, $top_k, $question_embedding) YIELD node, score\n",
    "        MATCH (node)-[:PART_OF]->(title:Title)\n",
    "        OPTIONAL MATCH (node)-[:NEXT]->(nextChunk:Chunk)\n",
    "        OPTIONAL MATCH (prevChunk:Chunk)-[:NEXT]->(node)\n",
    "        RETURN score, \n",
    "               node.text AS text, \n",
    "               prevChunk.text AS prevText, \n",
    "               nextChunk.text AS nextText\n",
    "        \"\"\"\n",
    "    similar = kg.query(vector_search_query, \n",
    "                     params={\n",
    "                      'question_embedding': question_embedding, \n",
    "                      'index_name':'chunks_embedding_vector', \n",
    "                      'top_k': 1})\n",
    "    return similar"
   ]
  },
  {
   "cell_type": "code",
   "execution_count": 25,
   "id": "5fd16911-3314-4e9f-8891-f32fdf8e5196",
   "metadata": {},
   "outputs": [],
   "source": [
    "que = \"what should I do prior to machine learning modeling?\"\n",
    "res = neo4j_vector_search_with_nebrs(que)"
   ]
  },
  {
   "cell_type": "code",
   "execution_count": 26,
   "id": "70f3726d-fe7c-4804-a1c8-79db56fa95bb",
   "metadata": {},
   "outputs": [
    {
     "data": {
      "text/plain": [
       "[{'score': 0.7362073659896851,\n",
       "  'text': \"Machine learning (ML) is a field of study in artificial intelligence concerned with the development and study of statistical algorithms that can learn from data and generalize to unseen data, and thus perform tasks without explicit instructions. Recently, artificial neural networks have been able to surpass many previous approaches in performance.Machine learning approaches have been applied to many fields including natural language processing, computer vision, speech recognition, email filtering, agriculture, and medicine. ML is known in its application across business problems under the name predictive analytics. Although not all machine learning is statistically based, computational statistics is an important source of the field's methods.\\nThe mathematical foundations of ML are provided by mathematical optimization (mathematical programming) methods. Data mining is a related (parallel) field of study, focusing on exploratory data analysis (EDA) through unsupervised learning.From a theoretical viewpoint, probably approximately correct (PAC) learning provides a framework for describing machine learning.\\n\\n\\n== History ==\",\n",
       "  'prevText': None,\n",
       "  'nextText': 'The term machine learning was coined in 1959 by Arthur Samuel, an IBM employee and pioneer in the field of computer gaming and artificial intelligence. The synonym self-teaching computers was also used in this time period.Although the earliest machine learning model was introduced in the 1950s when Arthur Samuel invented a program that calculated the winning chance in checkers for each side, the history of machine learning roots back to decades of human desire and effort to study human cognitive processes. In 1949, Canadian psychologist Donald Hebb published the book The Organization of Behavior, in which he introduced a theoretical neural structure formed by certain interactions among nerve cells. Hebb\\'s model of neurons interacting with one another set a groundwork for how AIs and machine learning algorithms work under nodes, or artificial neurons used by computers to communicate data. Other researchers who have studied human cognitive systems contributed to the modern machine learning technologies as well, including logician Walter Pitts and Warren McCulloch, who proposed the early mathematical models of neural networks to come up with algorithms that mirror human thought processes.By the early 1960s an experimental \"learning machine\" with punched tape memory, called Cybertron, had been developed by Raytheon Company to analyze sonar signals, electrocardiograms, and speech patterns using rudimentary reinforcement learning. It was repetitively \"trained\" by a human operator/teacher to recognize patterns and equipped with a \"goof\" button to cause it to re-evaluate incorrect decisions. A representative book on research into machine learning during the 1960s was Nilsson\\'s book on Learning Machines, dealing mostly with machine learning for pattern classification. Interest related to pattern recognition continued into the 1970s, as described by Duda and Hart in 1973. In 1981 a report was given on using teaching strategies so that an artificial neural network learns to'}]"
      ]
     },
     "execution_count": 26,
     "metadata": {},
     "output_type": "execute_result"
    }
   ],
   "source": [
    "res"
   ]
  },
  {
   "cell_type": "code",
   "execution_count": null,
   "id": "e5092027-8560-4089-b56d-2fefd237ab4f",
   "metadata": {},
   "outputs": [],
   "source": []
  },
  {
   "cell_type": "markdown",
   "id": "37bc109d-d132-43eb-b282-13af2f9c99a6",
   "metadata": {},
   "source": [
    "## KG RAG Chain"
   ]
  },
  {
   "cell_type": "code",
   "execution_count": 83,
   "id": "737f6f18-e53f-44c6-a5a8-948a2a479247",
   "metadata": {},
   "outputs": [],
   "source": [
    "CYPHER_GENERATION_TEMPLATE = \"\"\"Task: Generate Cypher statement to query a graph database.\n",
    "Instructions:\n",
    "Use only the provided relationship types and properties in the schema.\n",
    "Do not use any other relationship types or properties that are not provided.\n",
    "Schema:\n",
    "Node properties:\n",
    "- Chunk {{title: STRING, textEmbedding: LIST, chunkId: STRING, source: STRING, topics: LIST, chunkSeqId: INTEGER, text: STRING}}\n",
    "- Title {{title: STRING, source: STRING, topics: LIST, summary: STRING}}\n",
    "- Topic {{name: STRING}}\n",
    "Relationship properties:\n",
    "- (:Chunk)-[:NEXT]->(:Chunk)\n",
    "- (:Chunk)-[:PART_OF]->(:Title)\n",
    "- (:Title)-[:RELATED_TO]->(:Topic)\n",
    "- (:Title)-[:START]->(:Chunk)\n",
    "\n",
    "Note: Do not include any explanations or apologies in your responses.\n",
    "Do not respond to any questions that might ask anything else than for you to construct a Cypher statement.\n",
    "Do not include any text except the generated Cypher statement.\n",
    "all topic names should be in snake case like machine_learning, data_science. Only use topic or title cypher query if asked about it\n",
    "for general information use vector search.\n",
    "Examples: Here are a few examples of generated Cypher statements for particular questions:\n",
    "\n",
    "# What are documents available for machine learning?\n",
    "MATCH (t:Title)-[:RELATED_TO]->(top:Topic) WHERE top.name = 'machine_learning'\n",
    "RETURN t.title\n",
    "\n",
    "# Retrieve the summaries of all titles related to a given topic data, including the source of each title?\n",
    "MATCH (title:Title)-[:RELATED_TO]->(t:Topic)\n",
    "WHERE t.name = 'data'\n",
    "RETURN title.title AS Title, title.summary AS Summary, title.source AS Source\n",
    "\n",
    "# Tell me the intro of all docs about topic machine learning?\n",
    "MATCH (t:Topic)<-[:RELATED_TO]-(title:Title)-[:START]->(chunk:Chunk)\n",
    "WHERE t.name = 'machine_learning'\n",
    "RETURN title.title AS Title, chunk.text AS FirstChunkText\n",
    "\n",
    "# tell me in detail about different machine learning algorithms?\n",
    "CALL db.index.vector.queryNodes($index_name, $top_k, $question_embedding) YIELD node, score\n",
    "        MATCH (node)-[:PART_OF]->(title:Title)\n",
    "        OPTIONAL MATCH (node)-[:NEXT]->(nextChunk:Chunk)\n",
    "        OPTIONAL MATCH (prevChunk:Chunk)-[:NEXT]->(node)\n",
    "        RETURN score, \n",
    "               node.text AS text, \n",
    "               prevChunk.text AS prevText, \n",
    "               nextChunk.text AS nextText\n",
    "\n",
    "# what are some related topics I have in my knowledge graph about political idealogies and science and machine learning?\n",
    "CALL db.index.vector.queryNodes($index_name, $top_k, $question_embedding) YIELD node\n",
    "MATCH (node)-[:PART_OF]->(:Title)-[:RELATED_TO]->(relatedTopic:Topic)\n",
    "RETURN DISTINCT relatedTopic.name AS RelatedTopicNames\n",
    "\n",
    "Make absolute sure that generated cypher queries are correct. The question is:\n",
    "{question}\"\"\""
   ]
  },
  {
   "cell_type": "code",
   "execution_count": 84,
   "id": "b055bf45-96f7-47e2-9b5e-606f2fc7279e",
   "metadata": {},
   "outputs": [],
   "source": [
    "ANS_TEMPLATE = \"\"\" Based on the below context found from cypher query, provide answer to the question.\n",
    "\n",
    "{context}\n",
    "\n",
    "if you do not find answer from above context say you do not know and do not generate answer.\n",
    "The Question is:\n",
    "{question}\"\"\""
   ]
  },
  {
   "cell_type": "code",
   "execution_count": 129,
   "id": "c3414d8b-00c5-4a9a-a3f5-d22cd003aa57",
   "metadata": {},
   "outputs": [],
   "source": [
    "def kg_query(question):\n",
    "    \n",
    "    # cypher query:\n",
    "    CYPHER_GENERATION_PROMPT = PromptTemplate(\n",
    "        input_variables=[\"question\"], \n",
    "        template=CYPHER_GENERATION_TEMPLATE\n",
    "        )\n",
    "\n",
    "    chain = LLMChain(llm=ChatOpenAI(temperature=0), prompt=CYPHER_GENERATION_PROMPT)\n",
    "    cypher_response = chain.run({\"question\": question})\n",
    "    cypher_query =  cypher_response.strip().replace(\"\\n\", \" \")\n",
    "    \n",
    "    print(f\"Generated Cypher Query: {cypher_query}\")\n",
    "\n",
    "    if \"$index_name\" in cypher_query and \"$question_embedding\" in cypher_query:\n",
    "        question_embedding = get_embedding(question)\n",
    "        kg_res = kg.query(cypher_query, params={\n",
    "                              'question_embedding': question_embedding, \n",
    "                              'index_name':'chunks_embedding_vector', \n",
    "                              'top_k': 3})\n",
    "    else:\n",
    "        kg_res = kg.query(cypher_query)\n",
    "\n",
    "    ANS_PROMPT = PromptTemplate(\n",
    "        input_variables=[\"context\", \"question\"], \n",
    "        template=ANS_TEMPLATE\n",
    "        )\n",
    "\n",
    "    ans_chain = LLMChain(llm=ChatOpenAI(temperature=0), prompt=ANS_PROMPT)\n",
    "    answer = ans_chain.run({\"question\": question, \"context\":str(kg_res)})\n",
    "    return answer"
   ]
  },
  {
   "cell_type": "code",
   "execution_count": null,
   "id": "8a7e19a2-e172-4f19-9163-6650bb048365",
   "metadata": {},
   "outputs": [],
   "source": []
  },
  {
   "cell_type": "markdown",
   "id": "3f5fd824-1409-489c-8003-b1326dba287b",
   "metadata": {},
   "source": [
    "### Testing"
   ]
  },
  {
   "cell_type": "code",
   "execution_count": 134,
   "id": "201a0f85-ab17-4f5f-8a5d-2ca33ce40824",
   "metadata": {},
   "outputs": [
    {
     "name": "stdout",
     "output_type": "stream",
     "text": [
      "Generated Cypher Query: MATCH (t:Title)-[:RELATED_TO]->(top:Topic) WHERE top.name = 'data' RETURN t.title\n"
     ]
    }
   ],
   "source": [
    "que = \"what are all docs about data?\"\n",
    "op = kg_query(que)"
   ]
  },
  {
   "cell_type": "code",
   "execution_count": 135,
   "id": "8474e8b3-d5c1-431a-b435-2403af5abdd4",
   "metadata": {},
   "outputs": [
    {
     "name": "stdout",
     "output_type": "stream",
     "text": [
      "The passed context is a list containing a dictionary with the key 't.title' and value 'Data'. This suggests that there is a document or documents related to data.\n"
     ]
    }
   ],
   "source": [
    "print(op)"
   ]
  },
  {
   "cell_type": "code",
   "execution_count": 136,
   "id": "3cf82f75-1aa3-43e1-89eb-8e995168c1f9",
   "metadata": {},
   "outputs": [
    {
     "data": {
      "text/plain": [
       "[{'t.title': 'Data'}]"
      ]
     },
     "execution_count": 136,
     "metadata": {},
     "output_type": "execute_result"
    }
   ],
   "source": [
    "kg.query(\"MATCH (t:Title)-[:RELATED_TO]->(top:Topic) WHERE top.name = 'data' RETURN t.title\")"
   ]
  },
  {
   "cell_type": "code",
   "execution_count": 137,
   "id": "4e1a2a28-c7f1-4ce4-8c9c-7c374ec08760",
   "metadata": {},
   "outputs": [
    {
     "name": "stdout",
     "output_type": "stream",
     "text": [
      "Generated Cypher Query: MATCH (algo:Chunk)-[:PART_OF]->(title:Title)-[:RELATED_TO]->(topic:Topic {name: 'machine_learning'}) WHERE algo.text CONTAINS 'algorithm' RETURN title.title AS Title, algo.text AS AlgorithmDescription, algo.source AS Source, algo.topics AS Topics\n"
     ]
    }
   ],
   "source": [
    "que = \"tell me in detail about different machine learning algorithms?\"\n",
    "op = kg_query(que)"
   ]
  },
  {
   "cell_type": "code",
   "execution_count": 138,
   "id": "d71dbede-d409-46e7-acc8-1386846e39ff",
   "metadata": {},
   "outputs": [
    {
     "name": "stdout",
     "output_type": "stream",
     "text": [
      "I'm sorry, but I cannot provide a detailed explanation of different machine learning algorithms in this format. However, I can recommend resources or provide a brief overview if you would like. Let me know how I can assist you further.\n"
     ]
    }
   ],
   "source": [
    "print(op)"
   ]
  },
  {
   "cell_type": "code",
   "execution_count": null,
   "id": "2e34a6fb-c3ff-4bc9-bc9a-c27157a253ae",
   "metadata": {},
   "outputs": [],
   "source": []
  }
 ],
 "metadata": {
  "kernelspec": {
   "display_name": "Python 3 (ipykernel)",
   "language": "python",
   "name": "python3"
  },
  "language_info": {
   "codemirror_mode": {
    "name": "ipython",
    "version": 3
   },
   "file_extension": ".py",
   "mimetype": "text/x-python",
   "name": "python",
   "nbconvert_exporter": "python",
   "pygments_lexer": "ipython3",
   "version": "3.12.1"
  }
 },
 "nbformat": 4,
 "nbformat_minor": 5
}
