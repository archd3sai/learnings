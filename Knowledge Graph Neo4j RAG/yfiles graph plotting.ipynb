{
 "cells": [
  {
   "cell_type": "code",
   "execution_count": 4,
   "id": "1d04f9b1-e4fa-4a03-a3c6-87604ecefa6f",
   "metadata": {},
   "outputs": [],
   "source": [
    "from dotenv import load_dotenv\n",
    "from langchain_community.graphs import Neo4jGraph\n",
    "import os"
   ]
  },
  {
   "cell_type": "code",
   "execution_count": 2,
   "id": "d463dd1d-6be9-455d-b7eb-6037c7800064",
   "metadata": {},
   "outputs": [],
   "source": [
    "load_dotenv('.env', override=True)\n",
    "NEO4J_URI = os.getenv('NEO4J_URI')\n",
    "NEO4J_USERNAME = os.getenv('NEO4J_USERNAME')\n",
    "NEO4J_PASSWORD = os.getenv('NEO4J_PASSWORD')\n",
    "NEO4J_DATABASE = os.getenv('NEO4J_DATABASE')\n",
    "OPENAI_API_KEY = os.getenv('OPENAI_API_KEY')"
   ]
  },
  {
   "cell_type": "code",
   "execution_count": 5,
   "id": "2dca2ebe-e0da-4d2f-a21f-6491c4411013",
   "metadata": {},
   "outputs": [],
   "source": [
    "kg = Neo4jGraph(\n",
    "    url=NEO4J_URI, username=NEO4J_USERNAME, password=NEO4J_PASSWORD, database='neo4j'\n",
    ")"
   ]
  },
  {
   "cell_type": "code",
   "execution_count": 6,
   "id": "5b2591e4-08bc-42ee-bd6b-d20e53a8f612",
   "metadata": {},
   "outputs": [
    {
     "data": {
      "text/plain": [
       "[{'t.title': 'Machine-learning',\n",
       "  't.source': 'https://en.wikipedia.org/wiki/Machine_learning',\n",
       "  'top': {'name': 'machine-learning'}},\n",
       " {'t.title': 'Machine-learning',\n",
       "  't.source': 'https://en.wikipedia.org/wiki/Machine_learning',\n",
       "  'top': {'name': 'neural-networks'}},\n",
       " {'t.title': 'Machine-learning',\n",
       "  't.source': 'https://en.wikipedia.org/wiki/Machine_learning',\n",
       "  'top': {'name': 'artificial-intelligence'}},\n",
       " {'t.title': 'Quantum-machine-learning',\n",
       "  't.source': 'https://en.wikipedia.org/wiki/Quantum_machine_learning',\n",
       "  'top': {'name': 'classical-machine-learning-applied-to-quantum-experiments'}},\n",
       " {'t.title': 'Quantum-machine-learning',\n",
       "  't.source': 'https://en.wikipedia.org/wiki/Quantum_machine_learning',\n",
       "  'top': {'name': 'quantum-machine-learning'}},\n",
       " {'t.title': 'Quantum-machine-learning',\n",
       "  't.source': 'https://en.wikipedia.org/wiki/Quantum_machine_learning',\n",
       "  'top': {'name': 'quantum-computing'}},\n",
       " {'t.title': 'Neural-network-(machine-learning)',\n",
       "  't.source': 'https://en.wikipedia.org/wiki/Neural_network_(machine_learning)',\n",
       "  'top': {'name': 'artificial-neurons'}},\n",
       " {'t.title': 'Neural-network-(machine-learning)',\n",
       "  't.source': 'https://en.wikipedia.org/wiki/Neural_network_(machine_learning)',\n",
       "  'top': {'name': 'neural-networks'}},\n",
       " {'t.title': 'Neural-network-(machine-learning)',\n",
       "  't.source': 'https://en.wikipedia.org/wiki/Neural_network_(machine_learning)',\n",
       "  'top': {'name': 'deep-neural-networks'}},\n",
       " {'t.title': 'Data-science',\n",
       "  't.source': 'https://en.wikipedia.org/wiki/Data_science',\n",
       "  'top': {'name': 'data-science'}}]"
      ]
     },
     "execution_count": 6,
     "metadata": {},
     "output_type": "execute_result"
    }
   ],
   "source": [
    "cypher = \"\"\"\n",
    "   MATCH (t:Title)-[:RELATED_TO]->(top:Topic) \n",
    "  RETURN t.title, t.source, top LIMIT 10\n",
    "\n",
    "  \"\"\"\n",
    "\n",
    "result = kg.query(cypher)\n",
    "result"
   ]
  },
  {
   "cell_type": "markdown",
   "id": "3c57f579-d218-49e1-ba10-5700dfdb1d06",
   "metadata": {},
   "source": [
    "## Graphwidget"
   ]
  },
  {
   "cell_type": "code",
   "execution_count": 7,
   "id": "ff9e5417-526c-4d3a-86eb-d17505cfbdfa",
   "metadata": {},
   "outputs": [],
   "source": [
    "from yfiles_jupyter_graphs import GraphWidget"
   ]
  },
  {
   "cell_type": "code",
   "execution_count": 8,
   "id": "a7ed1eb0-52c0-462c-b781-798642d3bef8",
   "metadata": {},
   "outputs": [],
   "source": [
    "w = GraphWidget()\n",
    "\n",
    "# Create dictionaries to store unique nodes and edges\n",
    "nodes_dict = {}\n",
    "edges = []\n",
    "node_id = 0\n",
    "edge_id = 0\n",
    "\n",
    "# Process each record to populate nodes and edges\n",
    "for record in result:\n",
    "    title = record['t.title']\n",
    "    topic_name = record['top']['name']\n",
    "    \n",
    "    # Check if the title node already exists; if not, create it\n",
    "    if title not in nodes_dict:\n",
    "        nodes_dict[title] = node_id\n",
    "        w.nodes.append({\n",
    "            \"id\": node_id,\n",
    "            \"properties\": {\n",
    "                \"label\": title,\n",
    "                \"source\": record['t.source']\n",
    "            }\n",
    "        })\n",
    "        node_id += 1\n",
    "    \n",
    "    # Check if the topic node already exists; if not, create it\n",
    "    if topic_name not in nodes_dict:\n",
    "        nodes_dict[topic_name] = node_id\n",
    "        w.nodes.append({\n",
    "            \"id\": node_id,\n",
    "            \"properties\": {\"label\": topic_name}\n",
    "        })\n",
    "        node_id += 1\n",
    "    \n",
    "    # Create an edge between title and topic\n",
    "    w.edges.append({\n",
    "        \"id\": edge_id,\n",
    "        \"start\": nodes_dict[title],\n",
    "        \"end\": nodes_dict[topic_name],\n",
    "        \"properties\": {\"label\": \"RELATED_TO\"}\n",
    "    })\n",
    "    edge_id += 1\n",
    "\n",
    "w.directed = True"
   ]
  },
  {
   "cell_type": "code",
   "execution_count": 9,
   "id": "46855597-8546-4705-a3e3-c7f98651c080",
   "metadata": {},
   "outputs": [
    {
     "data": {
      "application/vnd.jupyter.widget-view+json": {
       "model_id": "9fc999bcda7946c2b314493943c61de8",
       "version_major": 2,
       "version_minor": 0
      },
      "text/plain": [
       "GraphWidget(layout=Layout(height='630px', width='100%'))"
      ]
     },
     "metadata": {},
     "output_type": "display_data"
    }
   ],
   "source": [
    "display(w)"
   ]
  },
  {
   "cell_type": "markdown",
   "id": "ce40c15d-80ab-44e9-a8f0-cba159c50c24",
   "metadata": {},
   "source": [
    "## Neo4J Graph"
   ]
  },
  {
   "cell_type": "code",
   "execution_count": 13,
   "id": "8270c79a-41f6-4847-8971-875d93aa8a8f",
   "metadata": {},
   "outputs": [],
   "source": [
    "from neo4j import GraphDatabase\n",
    "\n",
    "driver = GraphDatabase.driver(uri = NEO4J_URI, auth = (NEO4J_USERNAME, NEO4J_PASSWORD))\n",
    "session = driver.session()"
   ]
  },
  {
   "cell_type": "code",
   "execution_count": 14,
   "id": "cab216a3-88f7-4ad4-b3b7-122e144de330",
   "metadata": {},
   "outputs": [],
   "source": [
    "def showGraph(cypher: str):\n",
    "    widget = GraphWidget(graph = session.run(cypher).graph()) \n",
    "    display(widget)\n",
    "    return widget"
   ]
  },
  {
   "cell_type": "code",
   "execution_count": 23,
   "id": "5eaad366-481c-4a96-8370-f0112af9e57d",
   "metadata": {},
   "outputs": [],
   "source": [
    "cypher = \"\"\"\n",
    "   MATCH (n)\n",
    "  RETURN n\n",
    "  \"\"\""
   ]
  },
  {
   "cell_type": "code",
   "execution_count": 24,
   "id": "ac0d5e49-67e1-4a0f-a6e5-8ff863ca4419",
   "metadata": {},
   "outputs": [
    {
     "data": {
      "application/vnd.jupyter.widget-view+json": {
       "model_id": "d575f7509be542daa5611f97eb5b31a5",
       "version_major": 2,
       "version_minor": 0
      },
      "text/plain": [
       "GraphWidget(layout=Layout(height='800px', width='100%'))"
      ]
     },
     "metadata": {},
     "output_type": "display_data"
    }
   ],
   "source": [
    "w = showGraph(cypher)"
   ]
  },
  {
   "cell_type": "code",
   "execution_count": 28,
   "id": "1113da02-b1b1-4246-ad8a-873ef6d523b4",
   "metadata": {},
   "outputs": [
    {
     "data": {
      "application/vnd.jupyter.widget-view+json": {
       "model_id": "cff4e79e121c4b74b33c44a5b10d6d98",
       "version_major": 2,
       "version_minor": 0
      },
      "text/plain": [
       "GraphWidget(layout=Layout(height='800px', width='100%'))"
      ]
     },
     "metadata": {},
     "output_type": "display_data"
    }
   ],
   "source": [
    "cypher = \"\"\"\n",
    "   MATCH (t:Title)-[r:RELATED_TO]->(top:Topic) \n",
    "  RETURN t, r, top\n",
    "  \"\"\"\n",
    "\n",
    "w2 = GraphWidget(graph = session.run(cypher).graph())\n",
    "\n",
    "def custom_node_label_mapping(index, node):\n",
    "    \"\"\"let the label be the name or the title\"\"\"\n",
    "    properties = node.get('properties', {})\n",
    "    return properties.get('title', properties.get('name', 'no label'));\n",
    "w2.node_label_mapping = custom_node_label_mapping\n",
    "\n",
    "def custom_relationship_label_mapping(index, node):\n",
    "    \"\"\"let the label be the role\"\"\"\n",
    "    properties = node.get('properties', {})\n",
    "    return properties.get('RELATED_TO', ['no role'])[0];\n",
    "w2.edge_label_mapping = custom_relationship_label_mapping\n",
    "\n",
    "display(w2)"
   ]
  },
  {
   "cell_type": "code",
   "execution_count": null,
   "id": "00b15a29-01e0-441b-a0b2-3aa9d3ca996d",
   "metadata": {},
   "outputs": [],
   "source": []
  }
 ],
 "metadata": {
  "kernelspec": {
   "display_name": "Python 3 (ipykernel)",
   "language": "python",
   "name": "python3"
  },
  "language_info": {
   "codemirror_mode": {
    "name": "ipython",
    "version": 3
   },
   "file_extension": ".py",
   "mimetype": "text/x-python",
   "name": "python",
   "nbconvert_exporter": "python",
   "pygments_lexer": "ipython3",
   "version": "3.12.1"
  }
 },
 "nbformat": 4,
 "nbformat_minor": 5
}
